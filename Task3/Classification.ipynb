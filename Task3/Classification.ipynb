{
  "cells": [
    {
      "cell_type": "code",
      "execution_count": null,
      "id": "c70d7bdb",
      "metadata": {
        "id": "c70d7bdb",
        "outputId": "0e9cd524-2841-41be-b42e-8ceaa49a4aa7"
      },
      "outputs": [
        {
          "name": "stdout",
          "output_type": "stream",
          "text": [
            "Requirement already satisfied: pydotplus in /Users/domenico/opt/anaconda3/lib/python3.8/site-packages (2.0.2)\n",
            "Requirement already satisfied: pyparsing>=2.0.1 in /Users/domenico/opt/anaconda3/lib/python3.8/site-packages (from pydotplus) (2.4.7)\n",
            "Requirement already satisfied: graphviz in /Users/domenico/opt/anaconda3/lib/python3.8/site-packages (0.19.1)\n"
          ]
        }
      ],
      "source": [
        "!pip3 install pydotplus\n",
        "!pip install graphviz"
      ]
    },
    {
      "cell_type": "code",
      "execution_count": null,
      "id": "bf4f855d-9a01-417c-a23f-f5b8a8c42b41",
      "metadata": {
        "id": "bf4f855d-9a01-417c-a23f-f5b8a8c42b41"
      },
      "outputs": [],
      "source": [
        "import statistics \n",
        "import pandas as pd\n",
        "import numpy as np\n",
        "import matplotlib.pyplot as plt\n",
        "from sklearn import metrics\n",
        "from scipy.stats import randint\n",
        "\n",
        "from sklearn.model_selection import train_test_split, cross_validate\n",
        "from sklearn.model_selection import GridSearchCV, RandomizedSearchCV\n",
        "from sklearn.metrics import classification_report, make_scorer\n",
        "from sklearn.metrics import accuracy_score, precision_score, recall_score\n",
        "\n",
        "#Library for decision tree\n",
        "from sklearn import tree\n",
        "from sklearn.metrics import classification_report\n",
        "import pydotplus \n",
        "from IPython.display import Image\n",
        "#confusion matrix\n",
        "from sklearn.metrics import confusion_matrix,plot_confusion_matrix\n"
      ]
    },
    {
      "cell_type": "markdown",
      "id": "ee1c0e5d",
      "metadata": {
        "id": "ee1c0e5d"
      },
      "source": [
        "## Load dataset"
      ]
    },
    {
      "cell_type": "code",
      "execution_count": null,
      "id": "54535855",
      "metadata": {
        "id": "54535855",
        "outputId": "283a7d0c-c791-46c1-feaa-6783c1d52394"
      },
      "outputs": [
        {
          "name": "stdout",
          "output_type": "stream",
          "text": [
            "<class 'pandas.core.frame.DataFrame'>\n",
            "Int64Index: 2072 entries, 0 to 3885\n",
            "Data columns (total 20 columns):\n",
            " #   Column                 Non-Null Count  Dtype  \n",
            "---  ------                 --------------  -----  \n",
            " 0   name                   2072 non-null   object \n",
            " 1   ratio                  2072 non-null   float64\n",
            " 2   num_matches_2016-2019  2072 non-null   float64\n",
            " 3   ratio_2016-2019        2072 non-null   float64\n",
            " 4   num_matches_2020-2021  2072 non-null   float64\n",
            " 5   ratio_2020-2021        2072 non-null   float64\n",
            " 6   hand                   2072 non-null   object \n",
            " 7   gender                 2072 non-null   object \n",
            " 8   ioc                    2072 non-null   object \n",
            " 9   birth                  2072 non-null   float64\n",
            " 10  ht                     2072 non-null   float64\n",
            " 11  minutes                2072 non-null   float64\n",
            " 12  perc_ace               2072 non-null   float64\n",
            " 13  serv_won_tot_seve      2072 non-null   float64\n",
            " 14  bpFaced                2072 non-null   float64\n",
            " 15  perc_df                2072 non-null   float64\n",
            " 16  perc_2ndwon            2072 non-null   float64\n",
            " 17  perc_v_ace             2072 non-null   float64\n",
            " 18  perc_v_df              2072 non-null   float64\n",
            " 19  perc_v_1stwon          2072 non-null   float64\n",
            "dtypes: float64(16), object(4)\n",
            "memory usage: 339.9+ KB\n"
          ]
        }
      ],
      "source": [
        "df = pd.read_csv(\"dataset/tennis_players.csv\", skipinitialspace=True, sep=',', index_col=0)\n",
        "df.info()"
      ]
    },
    {
      "cell_type": "markdown",
      "id": "e013b6f7",
      "metadata": {
        "id": "e013b6f7"
      },
      "source": [
        "## Transform categorical features into numerical ones"
      ]
    },
    {
      "cell_type": "code",
      "execution_count": null,
      "id": "3f12acc8",
      "metadata": {
        "id": "3f12acc8"
      },
      "outputs": [],
      "source": [
        "#function to discretize the variables\n",
        "#input: the dataset and the list of variables' names to discretize\n",
        "def discretize_data(dataset, variables):\n",
        "    for variable in variables:\n",
        "        #get the unique variable's values\n",
        "        var = sorted(dataset[variable].unique())\n",
        "        \n",
        "        #generate a mapping from the variable's values to the number representation  \n",
        "        mapping = dict(zip(var, range(0, len(var) + 1)))\n",
        "\n",
        "        #add a new colum with the number representation of the variable\n",
        "        dataset[variable+'_num'] = dataset[variable].map(mapping).astype(int)\n",
        "    return dataset"
      ]
    },
    {
      "cell_type": "code",
      "execution_count": null,
      "id": "17ba9a20",
      "metadata": {
        "id": "17ba9a20"
      },
      "outputs": [],
      "source": [
        "#discretize the categorical variables\n",
        "variables = ['hand', 'gender', 'ioc']\n",
        "df = discretize_data(df, variables)"
      ]
    },
    {
      "cell_type": "code",
      "execution_count": null,
      "id": "2253efc6",
      "metadata": {
        "id": "2253efc6"
      },
      "outputs": [],
      "source": [
        "#drop the categorical variables since we don't need them anymore \n",
        "df.drop(columns=['name','hand', 'gender', 'ioc'], axis=1,inplace=True)\n"
      ]
    },
    {
      "cell_type": "code",
      "execution_count": null,
      "id": "5d940dd6",
      "metadata": {
        "id": "5d940dd6",
        "outputId": "06772a47-4388-4950-e167-f6445b0581e3"
      },
      "outputs": [
        {
          "data": {
            "text/html": [
              "<div>\n",
              "<style scoped>\n",
              "    .dataframe tbody tr th:only-of-type {\n",
              "        vertical-align: middle;\n",
              "    }\n",
              "\n",
              "    .dataframe tbody tr th {\n",
              "        vertical-align: top;\n",
              "    }\n",
              "\n",
              "    .dataframe thead th {\n",
              "        text-align: right;\n",
              "    }\n",
              "</style>\n",
              "<table border=\"1\" class=\"dataframe\">\n",
              "  <thead>\n",
              "    <tr style=\"text-align: right;\">\n",
              "      <th></th>\n",
              "      <th>ratio</th>\n",
              "      <th>num_matches_2016-2019</th>\n",
              "      <th>ratio_2016-2019</th>\n",
              "      <th>num_matches_2020-2021</th>\n",
              "      <th>ratio_2020-2021</th>\n",
              "      <th>birth</th>\n",
              "      <th>ht</th>\n",
              "      <th>minutes</th>\n",
              "      <th>perc_ace</th>\n",
              "      <th>serv_won_tot_seve</th>\n",
              "      <th>bpFaced</th>\n",
              "      <th>perc_df</th>\n",
              "      <th>perc_2ndwon</th>\n",
              "      <th>perc_v_ace</th>\n",
              "      <th>perc_v_df</th>\n",
              "      <th>perc_v_1stwon</th>\n",
              "      <th>hand_num</th>\n",
              "      <th>gender_num</th>\n",
              "      <th>ioc_num</th>\n",
              "    </tr>\n",
              "  </thead>\n",
              "  <tbody>\n",
              "    <tr>\n",
              "      <th>count</th>\n",
              "      <td>2072.000000</td>\n",
              "      <td>2072.000000</td>\n",
              "      <td>2072.000000</td>\n",
              "      <td>2072.000000</td>\n",
              "      <td>2072.000000</td>\n",
              "      <td>2072.000000</td>\n",
              "      <td>2072.000000</td>\n",
              "      <td>2072.000000</td>\n",
              "      <td>2072.000000</td>\n",
              "      <td>2072.000000</td>\n",
              "      <td>2072.000000</td>\n",
              "      <td>2072.000000</td>\n",
              "      <td>2072.000000</td>\n",
              "      <td>2072.000000</td>\n",
              "      <td>2072.000000</td>\n",
              "      <td>2072.00000</td>\n",
              "      <td>2072.000000</td>\n",
              "      <td>2072.000000</td>\n",
              "      <td>2072.000000</td>\n",
              "    </tr>\n",
              "    <tr>\n",
              "      <th>mean</th>\n",
              "      <td>0.486609</td>\n",
              "      <td>100.942085</td>\n",
              "      <td>0.478162</td>\n",
              "      <td>23.541988</td>\n",
              "      <td>0.309913</td>\n",
              "      <td>1993.805502</td>\n",
              "      <td>179.104946</td>\n",
              "      <td>80.432832</td>\n",
              "      <td>6.716569</td>\n",
              "      <td>0.523839</td>\n",
              "      <td>871.927124</td>\n",
              "      <td>7.450516</td>\n",
              "      <td>43.113605</td>\n",
              "      <td>6.698571</td>\n",
              "      <td>6.355497</td>\n",
              "      <td>54.31431</td>\n",
              "      <td>1.176641</td>\n",
              "      <td>0.505792</td>\n",
              "      <td>44.944498</td>\n",
              "    </tr>\n",
              "    <tr>\n",
              "      <th>std</th>\n",
              "      <td>0.115073</td>\n",
              "      <td>78.005562</td>\n",
              "      <td>0.134808</td>\n",
              "      <td>26.280039</td>\n",
              "      <td>0.264866</td>\n",
              "      <td>5.063032</td>\n",
              "      <td>8.008870</td>\n",
              "      <td>16.122646</td>\n",
              "      <td>5.324856</td>\n",
              "      <td>0.146481</td>\n",
              "      <td>720.860044</td>\n",
              "      <td>3.444339</td>\n",
              "      <td>12.302156</td>\n",
              "      <td>4.583606</td>\n",
              "      <td>1.962237</td>\n",
              "      <td>19.24605</td>\n",
              "      <td>0.571050</td>\n",
              "      <td>0.500087</td>\n",
              "      <td>29.383334</td>\n",
              "    </tr>\n",
              "    <tr>\n",
              "      <th>min</th>\n",
              "      <td>0.133333</td>\n",
              "      <td>0.000000</td>\n",
              "      <td>0.000000</td>\n",
              "      <td>0.000000</td>\n",
              "      <td>0.000000</td>\n",
              "      <td>1977.000000</td>\n",
              "      <td>157.000000</td>\n",
              "      <td>55.472222</td>\n",
              "      <td>0.000000</td>\n",
              "      <td>0.037581</td>\n",
              "      <td>0.000000</td>\n",
              "      <td>0.000000</td>\n",
              "      <td>0.000000</td>\n",
              "      <td>0.070000</td>\n",
              "      <td>0.000000</td>\n",
              "      <td>0.91000</td>\n",
              "      <td>0.000000</td>\n",
              "      <td>0.000000</td>\n",
              "      <td>0.000000</td>\n",
              "    </tr>\n",
              "    <tr>\n",
              "      <th>25%</th>\n",
              "      <td>0.423077</td>\n",
              "      <td>28.000000</td>\n",
              "      <td>0.415466</td>\n",
              "      <td>0.000000</td>\n",
              "      <td>0.000000</td>\n",
              "      <td>1990.000000</td>\n",
              "      <td>173.000000</td>\n",
              "      <td>62.607850</td>\n",
              "      <td>2.400000</td>\n",
              "      <td>0.505333</td>\n",
              "      <td>230.000000</td>\n",
              "      <td>5.220000</td>\n",
              "      <td>40.770000</td>\n",
              "      <td>2.550000</td>\n",
              "      <td>5.390000</td>\n",
              "      <td>39.42750</td>\n",
              "      <td>1.000000</td>\n",
              "      <td>0.000000</td>\n",
              "      <td>20.000000</td>\n",
              "    </tr>\n",
              "    <tr>\n",
              "      <th>50%</th>\n",
              "      <td>0.500000</td>\n",
              "      <td>82.000000</td>\n",
              "      <td>0.500000</td>\n",
              "      <td>12.000000</td>\n",
              "      <td>0.375000</td>\n",
              "      <td>1994.000000</td>\n",
              "      <td>178.000000</td>\n",
              "      <td>82.359127</td>\n",
              "      <td>5.755000</td>\n",
              "      <td>0.580575</td>\n",
              "      <td>638.500000</td>\n",
              "      <td>6.950000</td>\n",
              "      <td>47.295000</td>\n",
              "      <td>6.155000</td>\n",
              "      <td>6.615000</td>\n",
              "      <td>64.30500</td>\n",
              "      <td>1.000000</td>\n",
              "      <td>1.000000</td>\n",
              "      <td>41.000000</td>\n",
              "    </tr>\n",
              "    <tr>\n",
              "      <th>75%</th>\n",
              "      <td>0.565673</td>\n",
              "      <td>170.000000</td>\n",
              "      <td>0.566866</td>\n",
              "      <td>45.000000</td>\n",
              "      <td>0.533333</td>\n",
              "      <td>1998.000000</td>\n",
              "      <td>185.705882</td>\n",
              "      <td>94.008066</td>\n",
              "      <td>9.840000</td>\n",
              "      <td>0.614162</td>\n",
              "      <td>1446.500000</td>\n",
              "      <td>9.172500</td>\n",
              "      <td>50.112500</td>\n",
              "      <td>10.312500</td>\n",
              "      <td>7.552500</td>\n",
              "      <td>69.80000</td>\n",
              "      <td>2.000000</td>\n",
              "      <td>1.000000</td>\n",
              "      <td>73.000000</td>\n",
              "    </tr>\n",
              "    <tr>\n",
              "      <th>max</th>\n",
              "      <td>0.845161</td>\n",
              "      <td>309.000000</td>\n",
              "      <td>1.000000</td>\n",
              "      <td>101.000000</td>\n",
              "      <td>1.000000</td>\n",
              "      <td>2006.000000</td>\n",
              "      <td>198.000000</td>\n",
              "      <td>145.073643</td>\n",
              "      <td>35.390000</td>\n",
              "      <td>0.949992</td>\n",
              "      <td>3834.000000</td>\n",
              "      <td>29.860000</td>\n",
              "      <td>94.180000</td>\n",
              "      <td>23.310000</td>\n",
              "      <td>17.890000</td>\n",
              "      <td>80.79000</td>\n",
              "      <td>2.000000</td>\n",
              "      <td>1.000000</td>\n",
              "      <td>95.000000</td>\n",
              "    </tr>\n",
              "  </tbody>\n",
              "</table>\n",
              "</div>"
            ],
            "text/plain": [
              "             ratio  num_matches_2016-2019  ratio_2016-2019  \\\n",
              "count  2072.000000            2072.000000      2072.000000   \n",
              "mean      0.486609             100.942085         0.478162   \n",
              "std       0.115073              78.005562         0.134808   \n",
              "min       0.133333               0.000000         0.000000   \n",
              "25%       0.423077              28.000000         0.415466   \n",
              "50%       0.500000              82.000000         0.500000   \n",
              "75%       0.565673             170.000000         0.566866   \n",
              "max       0.845161             309.000000         1.000000   \n",
              "\n",
              "       num_matches_2020-2021  ratio_2020-2021        birth           ht  \\\n",
              "count            2072.000000      2072.000000  2072.000000  2072.000000   \n",
              "mean               23.541988         0.309913  1993.805502   179.104946   \n",
              "std                26.280039         0.264866     5.063032     8.008870   \n",
              "min                 0.000000         0.000000  1977.000000   157.000000   \n",
              "25%                 0.000000         0.000000  1990.000000   173.000000   \n",
              "50%                12.000000         0.375000  1994.000000   178.000000   \n",
              "75%                45.000000         0.533333  1998.000000   185.705882   \n",
              "max               101.000000         1.000000  2006.000000   198.000000   \n",
              "\n",
              "           minutes     perc_ace  serv_won_tot_seve      bpFaced      perc_df  \\\n",
              "count  2072.000000  2072.000000        2072.000000  2072.000000  2072.000000   \n",
              "mean     80.432832     6.716569           0.523839   871.927124     7.450516   \n",
              "std      16.122646     5.324856           0.146481   720.860044     3.444339   \n",
              "min      55.472222     0.000000           0.037581     0.000000     0.000000   \n",
              "25%      62.607850     2.400000           0.505333   230.000000     5.220000   \n",
              "50%      82.359127     5.755000           0.580575   638.500000     6.950000   \n",
              "75%      94.008066     9.840000           0.614162  1446.500000     9.172500   \n",
              "max     145.073643    35.390000           0.949992  3834.000000    29.860000   \n",
              "\n",
              "       perc_2ndwon   perc_v_ace    perc_v_df  perc_v_1stwon     hand_num  \\\n",
              "count  2072.000000  2072.000000  2072.000000     2072.00000  2072.000000   \n",
              "mean     43.113605     6.698571     6.355497       54.31431     1.176641   \n",
              "std      12.302156     4.583606     1.962237       19.24605     0.571050   \n",
              "min       0.000000     0.070000     0.000000        0.91000     0.000000   \n",
              "25%      40.770000     2.550000     5.390000       39.42750     1.000000   \n",
              "50%      47.295000     6.155000     6.615000       64.30500     1.000000   \n",
              "75%      50.112500    10.312500     7.552500       69.80000     2.000000   \n",
              "max      94.180000    23.310000    17.890000       80.79000     2.000000   \n",
              "\n",
              "        gender_num      ioc_num  \n",
              "count  2072.000000  2072.000000  \n",
              "mean      0.505792    44.944498  \n",
              "std       0.500087    29.383334  \n",
              "min       0.000000     0.000000  \n",
              "25%       0.000000    20.000000  \n",
              "50%       1.000000    41.000000  \n",
              "75%       1.000000    73.000000  \n",
              "max       1.000000    95.000000  "
            ]
          },
          "execution_count": 7,
          "metadata": {},
          "output_type": "execute_result"
        }
      ],
      "source": [
        "df.describe()"
      ]
    },
    {
      "cell_type": "markdown",
      "id": "cd15428b",
      "metadata": {
        "id": "cd15428b"
      },
      "source": [
        "## Labels\n",
        "\n",
        "Abbiamo bisogno di capire qual'è il target associato ad ogni insieme per fare il processo di classificazione, un idea potrebbe essere utilizzando un attributo specifico che tiene tratta delle \"performance\" di ogni giocatore, in modo da poter contraddistingure i giocatori più forti da quelli più deboli.\n",
        "\n",
        "Nota: questa non è una metrica efficate perchè il vero label del giocatore viene calcolato in base al relativo ranking ma nel nostro caso avendo molti null risulta difficile stimarlo quindi se non ci sono altre alternative potrebbe essere la soluzione più efficente \n",
        "\n",
        "Quindi possiamo usare i percentili o i quartili"
      ]
    },
    {
      "cell_type": "code",
      "execution_count": null,
      "id": "31f658d6",
      "metadata": {
        "id": "31f658d6"
      },
      "outputs": [],
      "source": [
        "# label tipo1\n",
        "quantile_a = df.ratio.quantile(0.33)\n",
        "quantile_b = df.ratio.quantile(0.66)\n",
        "\n",
        "# label tipo2\n",
        "#quantile_a = df.ratio.quantile(0.25)\n",
        "#quantile_b = df.ratio.quantile(0.75)"
      ]
    },
    {
      "cell_type": "code",
      "execution_count": null,
      "id": "21be1e8e",
      "metadata": {
        "id": "21be1e8e"
      },
      "outputs": [],
      "source": [
        "labels = []\n",
        "for customer, ratio in df.ratio.items():\n",
        "    if ratio < quantile_a:\n",
        "        labels.append(0)\n",
        "    elif ratio > quantile_b:\n",
        "        labels.append(2)\n",
        "    else:\n",
        "        labels.append(1)"
      ]
    },
    {
      "cell_type": "code",
      "execution_count": null,
      "id": "1df4bd83",
      "metadata": {
        "id": "1df4bd83"
      },
      "outputs": [],
      "source": [
        "class_names = ['low-level', 'medium-level', 'high-level']"
      ]
    },
    {
      "cell_type": "code",
      "execution_count": null,
      "id": "5d41935f",
      "metadata": {
        "id": "5d41935f",
        "outputId": "a8aa9717-cd92-45f3-ef3f-1e410b507438"
      },
      "outputs": [
        {
          "data": {
            "text/plain": [
              "2    705\n",
              "1    684\n",
              "0    683\n",
              "Name: labels, dtype: int64"
            ]
          },
          "execution_count": 40,
          "metadata": {},
          "output_type": "execute_result"
        }
      ],
      "source": [
        "classes = pd.DataFrame()\n",
        "classes['labels'] = labels\n",
        "classes.labels.value_counts()"
      ]
    },
    {
      "cell_type": "markdown",
      "id": "cf97ac76",
      "metadata": {
        "id": "cf97ac76"
      },
      "source": [
        "### Prepare dataset (splitting)"
      ]
    },
    {
      "cell_type": "code",
      "execution_count": null,
      "id": "005100a6",
      "metadata": {
        "id": "005100a6"
      },
      "outputs": [],
      "source": [
        "train_set, test_set, train_label, test_label = train_test_split(df, labels, stratify=labels, test_size=0.30)"
      ]
    },
    {
      "cell_type": "markdown",
      "id": "95e13c0e",
      "metadata": {
        "id": "95e13c0e"
      },
      "source": [
        "# Classification "
      ]
    },
    {
      "cell_type": "markdown",
      "id": "8b9b2af6",
      "metadata": {
        "id": "8b9b2af6"
      },
      "source": [
        "## Classfication with decision tree"
      ]
    },
    {
      "cell_type": "markdown",
      "id": "25a733cb",
      "metadata": {
        "id": "25a733cb"
      },
      "source": [
        "### Grid Search"
      ]
    },
    {
      "cell_type": "code",
      "execution_count": null,
      "id": "62241b88",
      "metadata": {
        "id": "62241b88"
      },
      "outputs": [],
      "source": [
        "from sklearn.model_selection import GridSearchCV, RandomizedSearchCV\n",
        "from sklearn.metrics import make_scorer\n",
        "from sklearn.metrics import accuracy_score\n",
        "from sklearn.metrics import precision_score, recall_score\n",
        "\n",
        "dt_max_depth = [2,3,5,6,7,10,12, None]\n",
        "dt_min_samples_split = randint(2, 51)\n",
        "min_samples_leaf = randint(1, 51)\n",
        "criterion = [\"entropy\", \"gini\"]\n",
        "splitter = [\"best\", \"random\"]\n",
        "max_features = [None, 2, 3, 4, 5]\n",
        "\n",
        "dt_param_grid = {\n",
        "    \"max_depth\": dt_max_depth,\n",
        "    \"min_samples_split\": dt_min_samples_split,\n",
        "    \"min_samples_leaf\": min_samples_leaf,\n",
        "    \"criterion\": criterion,\n",
        "    \"splitter\": splitter,\n",
        "    \"max_features\": max_features\n",
        "            }\n",
        "\n",
        "#define the number of iters (random combination to try)\n",
        "n_iter_search = 500\n",
        "\n",
        "#define the number of jobs to run in parallel\n",
        "n_jobs_search = -1\n",
        "\n",
        "#define the grid search\n",
        "dt_grid = RandomizedSearchCV(tree.DecisionTreeClassifier(), param_distributions=dt_param_grid, \n",
        "                            n_iter=n_iter_search,  \n",
        "                            n_jobs=n_jobs_search,\n",
        "                            scoring=make_scorer(accuracy_score))"
      ]
    },
    {
      "cell_type": "code",
      "execution_count": null,
      "id": "ffbb8ee7",
      "metadata": {
        "id": "ffbb8ee7",
        "outputId": "285a6175-97a8-44d4-9d49-289454c29fa2"
      },
      "outputs": [
        {
          "data": {
            "text/plain": [
              "RandomizedSearchCV(estimator=DecisionTreeClassifier(), n_iter=500, n_jobs=-1,\n",
              "                   param_distributions={'criterion': ['entropy', 'gini'],\n",
              "                                        'max_depth': [2, 3, 5, 6, 7, 10, 12,\n",
              "                                                      None],\n",
              "                                        'max_features': [None, 2, 3, 4, 5],\n",
              "                                        'min_samples_leaf': <scipy.stats._distn_infrastructure.rv_frozen object at 0x7fbd8a3a0070>,\n",
              "                                        'min_samples_split': <scipy.stats._distn_infrastructure.rv_frozen object at 0x7fbd8a2e6fd0>,\n",
              "                                        'splitter': ['best', 'random']},\n",
              "                   scoring=make_scorer(accuracy_score))"
            ]
          },
          "execution_count": 14,
          "metadata": {},
          "output_type": "execute_result"
        }
      ],
      "source": [
        "dt_grid.fit(train_set, train_label)"
      ]
    },
    {
      "cell_type": "code",
      "execution_count": null,
      "id": "4375c22f",
      "metadata": {
        "id": "4375c22f",
        "outputId": "0bc07f95-c12e-4056-9b73-44a8e309a61b"
      },
      "outputs": [
        {
          "name": "stdout",
          "output_type": "stream",
          "text": [
            "{'criterion': 'entropy', 'max_depth': 10, 'max_features': None, 'min_samples_leaf': 22, 'min_samples_split': 20, 'splitter': 'best'}\n"
          ]
        }
      ],
      "source": [
        "print(dt_grid.best_params_)\n"
      ]
    },
    {
      "cell_type": "markdown",
      "id": "cf9f87e4",
      "metadata": {
        "id": "cf9f87e4"
      },
      "source": [
        "### Training"
      ]
    },
    {
      "cell_type": "code",
      "execution_count": null,
      "id": "90644f73",
      "metadata": {
        "id": "90644f73"
      },
      "outputs": [],
      "source": [
        "#define a decision tree and fit it\n",
        "dt = tree.DecisionTreeClassifier(criterion='entropy', splitter='best', \n",
        "                                  max_depth=10, \n",
        "                                  min_samples_split=11, min_samples_leaf=7)\n",
        "dt = dt.fit(train_set, train_label)"
      ]
    },
    {
      "cell_type": "code",
      "execution_count": null,
      "id": "d79f9e10",
      "metadata": {
        "scrolled": true,
        "id": "d79f9e10",
        "outputId": "ac147084-8a5d-4401-b3d4-e382e62dc390"
      },
      "outputs": [
        {
          "ename": "InvocationException",
          "evalue": "GraphViz's executables not found",
          "output_type": "error",
          "traceback": [
            "\u001b[0;31m---------------------------------------------------------------------------\u001b[0m",
            "\u001b[0;31mInvocationException\u001b[0m                       Traceback (most recent call last)",
            "\u001b[0;32m<ipython-input-27-f3273897f2be>\u001b[0m in \u001b[0;36m<module>\u001b[0;34m\u001b[0m\n\u001b[1;32m      6\u001b[0m \u001b[0;34m\u001b[0m\u001b[0m\n\u001b[1;32m      7\u001b[0m \u001b[0mgraph\u001b[0m \u001b[0;34m=\u001b[0m \u001b[0mpydotplus\u001b[0m\u001b[0;34m.\u001b[0m\u001b[0mgraph_from_dot_data\u001b[0m\u001b[0;34m(\u001b[0m\u001b[0mdot_data\u001b[0m\u001b[0;34m)\u001b[0m\u001b[0;34m\u001b[0m\u001b[0;34m\u001b[0m\u001b[0m\n\u001b[0;32m----> 8\u001b[0;31m \u001b[0mImage\u001b[0m\u001b[0;34m(\u001b[0m\u001b[0mgraph\u001b[0m\u001b[0;34m.\u001b[0m\u001b[0mcreate_png\u001b[0m\u001b[0;34m(\u001b[0m\u001b[0;34m)\u001b[0m\u001b[0;34m)\u001b[0m\u001b[0;34m\u001b[0m\u001b[0;34m\u001b[0m\u001b[0m\n\u001b[0m",
            "\u001b[0;32m~/opt/anaconda3/lib/python3.8/site-packages/pydotplus/graphviz.py\u001b[0m in \u001b[0;36m<lambda>\u001b[0;34m(f, prog)\u001b[0m\n\u001b[1;32m   1795\u001b[0m             self.__setattr__(\n\u001b[1;32m   1796\u001b[0m                 \u001b[0;34m'create_'\u001b[0m \u001b[0;34m+\u001b[0m \u001b[0mfrmt\u001b[0m\u001b[0;34m,\u001b[0m\u001b[0;34m\u001b[0m\u001b[0;34m\u001b[0m\u001b[0m\n\u001b[0;32m-> 1797\u001b[0;31m                 \u001b[0;32mlambda\u001b[0m \u001b[0mf\u001b[0m\u001b[0;34m=\u001b[0m\u001b[0mfrmt\u001b[0m\u001b[0;34m,\u001b[0m \u001b[0mprog\u001b[0m\u001b[0;34m=\u001b[0m\u001b[0mself\u001b[0m\u001b[0;34m.\u001b[0m\u001b[0mprog\u001b[0m\u001b[0;34m:\u001b[0m \u001b[0mself\u001b[0m\u001b[0;34m.\u001b[0m\u001b[0mcreate\u001b[0m\u001b[0;34m(\u001b[0m\u001b[0mformat\u001b[0m\u001b[0;34m=\u001b[0m\u001b[0mf\u001b[0m\u001b[0;34m,\u001b[0m \u001b[0mprog\u001b[0m\u001b[0;34m=\u001b[0m\u001b[0mprog\u001b[0m\u001b[0;34m)\u001b[0m\u001b[0;34m\u001b[0m\u001b[0;34m\u001b[0m\u001b[0m\n\u001b[0m\u001b[1;32m   1798\u001b[0m             )\n\u001b[1;32m   1799\u001b[0m             \u001b[0mf\u001b[0m \u001b[0;34m=\u001b[0m \u001b[0mself\u001b[0m\u001b[0;34m.\u001b[0m\u001b[0m__dict__\u001b[0m\u001b[0;34m[\u001b[0m\u001b[0;34m'create_'\u001b[0m \u001b[0;34m+\u001b[0m \u001b[0mfrmt\u001b[0m\u001b[0;34m]\u001b[0m\u001b[0;34m\u001b[0m\u001b[0;34m\u001b[0m\u001b[0m\n",
            "\u001b[0;32m~/opt/anaconda3/lib/python3.8/site-packages/pydotplus/graphviz.py\u001b[0m in \u001b[0;36mcreate\u001b[0;34m(self, prog, format)\u001b[0m\n\u001b[1;32m   1957\u001b[0m             \u001b[0mself\u001b[0m\u001b[0;34m.\u001b[0m\u001b[0mprogs\u001b[0m \u001b[0;34m=\u001b[0m \u001b[0mfind_graphviz\u001b[0m\u001b[0;34m(\u001b[0m\u001b[0;34m)\u001b[0m\u001b[0;34m\u001b[0m\u001b[0;34m\u001b[0m\u001b[0m\n\u001b[1;32m   1958\u001b[0m             \u001b[0;32mif\u001b[0m \u001b[0mself\u001b[0m\u001b[0;34m.\u001b[0m\u001b[0mprogs\u001b[0m \u001b[0;32mis\u001b[0m \u001b[0;32mNone\u001b[0m\u001b[0;34m:\u001b[0m\u001b[0;34m\u001b[0m\u001b[0;34m\u001b[0m\u001b[0m\n\u001b[0;32m-> 1959\u001b[0;31m                 raise InvocationException(\n\u001b[0m\u001b[1;32m   1960\u001b[0m                     'GraphViz\\'s executables not found')\n\u001b[1;32m   1961\u001b[0m \u001b[0;34m\u001b[0m\u001b[0m\n",
            "\u001b[0;31mInvocationException\u001b[0m: GraphViz's executables not found"
          ]
        }
      ],
      "source": [
        "#visualize the actual decision tree obtained  \n",
        "dot_data = tree.export_graphviz(dt, out_file=None, \n",
        "                         feature_names=list(train_set.columns),  \n",
        "                         class_names=class_names,  \n",
        "                         filled=True, rounded=True)  \n",
        "\n",
        "graph = pydotplus.graph_from_dot_data(dot_data)  \n",
        "Image(graph.create_png())\n"
      ]
    },
    {
      "cell_type": "code",
      "execution_count": null,
      "id": "51f24e40",
      "metadata": {
        "id": "51f24e40"
      },
      "outputs": [],
      "source": [
        "#predict using the decision tree\n",
        "#the predict function returns the actual predicted labels: we need them for the evaluation phase\n",
        "train_pred_dt = dt.predict(train_set)\n",
        "test_pred_dt = dt.predict(test_set)"
      ]
    },
    {
      "cell_type": "markdown",
      "id": "4473325a",
      "metadata": {
        "id": "4473325a"
      },
      "source": [
        "### Evaluation of the decision tree: compute accuracy, precision, recall, confusion matrix\n"
      ]
    },
    {
      "cell_type": "code",
      "execution_count": null,
      "id": "cf2b973a",
      "metadata": {
        "id": "cf2b973a",
        "outputId": "27c11198-00d4-4da6-f742-47ab0a337add"
      },
      "outputs": [
        {
          "name": "stdout",
          "output_type": "stream",
          "text": [
            "Accuracy train set  1.0\n",
            "Accuracy test set  1.0\n",
            "Precision train set  1.0\n",
            "Recall train set  1.0\n",
            "F1 score train set  1.0\n",
            "Support train set  (array([1., 1., 1.]), array([1., 1., 1.]), array([1., 1., 1.]), array([478, 479, 493]))\n"
          ]
        }
      ],
      "source": [
        "#evaulate the accuracy on the train set and the test set\n",
        "#metrics also contains precision, recall, f1 and the support\n",
        "print('Accuracy train set ', metrics.accuracy_score(train_label, train_pred_dt))\n",
        "print('Accuracy test set ', metrics.accuracy_score(test_label, test_pred_dt))\n",
        "print('Precision train set ', metrics.precision_score(train_label, train_pred_dt, average='weighted'))\n",
        "print('Recall train set ', metrics.recall_score(train_label, train_pred_dt, average='weighted'))\n",
        "print('F1 score train set ', metrics.f1_score(train_label, train_pred_dt, average='weighted'))\n",
        "print('Support train set ', metrics.precision_recall_fscore_support(train_label, train_pred_dt))"
      ]
    },
    {
      "cell_type": "code",
      "execution_count": null,
      "id": "809a385c",
      "metadata": {
        "id": "809a385c"
      },
      "outputs": [],
      "source": [
        "#metrics computed on the test set\n",
        "def report_scores(test_label, test_pred):\n",
        "    print(classification_report(test_label, \n",
        "                            test_pred, \n",
        "                            target_names=class_names))"
      ]
    },
    {
      "cell_type": "code",
      "execution_count": null,
      "id": "b0d01776",
      "metadata": {
        "id": "b0d01776",
        "outputId": "4f6f3cfc-9993-4cf7-f475-2c4dc1f1c166"
      },
      "outputs": [
        {
          "name": "stdout",
          "output_type": "stream",
          "text": [
            "              precision    recall  f1-score   support\n",
            "\n",
            "   low-level       1.00      1.00      1.00       205\n",
            "medium-level       1.00      1.00      1.00       205\n",
            "  high-level       1.00      1.00      1.00       212\n",
            "\n",
            "    accuracy                           1.00       622\n",
            "   macro avg       1.00      1.00      1.00       622\n",
            "weighted avg       1.00      1.00      1.00       622\n",
            "\n"
          ]
        }
      ],
      "source": [
        "report_scores(test_label, test_pred_dt)"
      ]
    },
    {
      "cell_type": "code",
      "execution_count": null,
      "id": "26122a83",
      "metadata": {
        "id": "26122a83",
        "outputId": "fd98f95a-e27e-4062-9d43-fa71e4365988"
      },
      "outputs": [
        {
          "name": "stdout",
          "output_type": "stream",
          "text": [
            "Fit time  0.007978121439615885\n",
            "Score time  0.0022613207499186196\n",
            "Test score  1.0\n",
            "Train score  1.0\n"
          ]
        }
      ],
      "source": [
        "#cross validation\n",
        "#the score array for test/train scores on each cv split\n",
        "#the time for fitting/scoring the estimator on the train set for each cv split\n",
        "scores = cross_validate(dt, train_set, train_label, cv=3, return_train_score= True)\n",
        "print('Fit time ', statistics.mean(scores['fit_time']))\n",
        "print('Score time ', statistics.mean(scores['score_time']))\n",
        "print('Test score ', statistics.mean(scores['test_score']))\n",
        "print('Train score ', statistics.mean(scores['train_score']))"
      ]
    },
    {
      "cell_type": "code",
      "execution_count": null,
      "id": "7364e096",
      "metadata": {
        "id": "7364e096",
        "outputId": "d4962c9f-652e-485f-cd15-121cd683cc9b"
      },
      "outputs": [
        {
          "data": {
            "text/plain": [
              "array([[205,   0,   0],\n",
              "       [  0, 205,   0],\n",
              "       [  0,   0, 212]])"
            ]
          },
          "execution_count": 23,
          "metadata": {},
          "output_type": "execute_result"
        }
      ],
      "source": [
        "\n",
        "cm = confusion_matrix(test_label, test_pred_dt)\n",
        "cm"
      ]
    },
    {
      "cell_type": "code",
      "execution_count": null,
      "id": "a9ca5330",
      "metadata": {
        "id": "a9ca5330",
        "outputId": "b8d293bd-cb36-44df-d4ca-b521674533f2"
      },
      "outputs": [
        {
          "data": {
            "image/png": "[encoded data removed]",
            "text/plain": [
              "<Figure size 432x288 with 2 Axes>"
            ]
          },
          "metadata": {
            "needs_background": "light"
          },
          "output_type": "display_data"
        }
      ],
      "source": [
        "#it is possible to plot the confusion matrix \n",
        "from sklearn.metrics import plot_confusion_matrix\n",
        "import matplotlib.pyplot as plt\n",
        "plot_confusion_matrix(dt, test_set, test_label)\n",
        "plt.show() "
      ]
    },
    {
      "cell_type": "markdown",
      "id": "483e3b9e",
      "metadata": {
        "id": "483e3b9e"
      },
      "source": [
        "## Other Classification technique"
      ]
    },
    {
      "cell_type": "code",
      "execution_count": null,
      "id": "79696835",
      "metadata": {
        "id": "79696835"
      },
      "outputs": [],
      "source": [
        ""
      ]
    }
  ],
  "metadata": {
    "kernelspec": {
      "display_name": "Python 3",
      "language": "python",
      "name": "python3"
    },
    "language_info": {
      "codemirror_mode": {
        "name": "ipython",
        "version": 3
      },
      "file_extension": ".py",
      "mimetype": "text/x-python",
      "name": "python",
      "nbconvert_exporter": "python",
      "pygments_lexer": "ipython3",
      "version": "3.8.8"
    },
    "colab": {
      "name": "Classification.ipynb",
      "provenance": []
    }
  },
  "nbformat": 4,
  "nbformat_minor": 5
}