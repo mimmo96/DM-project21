{
 "cells": [
  {
   "cell_type": "code",
   "execution_count": 1,
   "id": "37f6bd94",
   "metadata": {},
   "outputs": [],
   "source": [
    "import pandas as pd\n",
    "import math\n",
    "import numpy as np\n",
    "import scipy.stats as stats\n",
    "import matplotlib.pyplot as plt\n",
    "from collections import defaultdict\n",
    "from scipy.stats.stats import pearsonr\n",
    "import seaborn as sn"
   ]
  },
  {
   "cell_type": "code",
   "execution_count": 2,
   "id": "e134c28f",
   "metadata": {
    "scrolled": true,
    "tags": []
   },
   "outputs": [
    {
     "name": "stderr",
     "output_type": "stream",
     "text": [
      "/home/ornela/myproject/venv_/lib/python3.8/site-packages/IPython/core/interactiveshell.py:3172: DtypeWarning: Columns (5) have mixed types.Specify dtype option on import or set low_memory=False.\n",
      "  has_raised = await self.run_ast_nodes(code_ast.body, cell_name,\n"
     ]
    },
    {
     "name": "stdout",
     "output_type": "stream",
     "text": [
      "<class 'pandas.core.frame.DataFrame'>\n",
      "Int64Index: 184890 entries, 0 to 186072\n",
      "Data columns (total 51 columns):\n",
      " #   Column              Non-Null Count   Dtype  \n",
      "---  ------              --------------   -----  \n",
      " 0   tourney_id          184890 non-null  object \n",
      " 1   tourney_name        184890 non-null  object \n",
      " 2   surface             184728 non-null  object \n",
      " 3   draw_size           184890 non-null  float64\n",
      " 4   tourney_level       184890 non-null  object \n",
      " 5   tourney_date        184890 non-null  object \n",
      " 6   match_num           184890 non-null  float64\n",
      " 7   winner_id           184890 non-null  float64\n",
      " 8   winner_entry        25701 non-null   object \n",
      " 9   winner_name         184890 non-null  object \n",
      " 10  winner_hand         184890 non-null  object \n",
      " 11  winner_ht           48560 non-null   float64\n",
      " 12  winner_ioc          184890 non-null  object \n",
      " 13  winner_age          182080 non-null  float64\n",
      " 14  loser_id            184890 non-null  float64\n",
      " 15  loser_entry         43927 non-null   object \n",
      " 16  loser_name          184890 non-null  object \n",
      " 17  loser_hand          184890 non-null  object \n",
      " 18  loser_ht            37726 non-null   float64\n",
      " 19  loser_ioc           184890 non-null  object \n",
      " 20  loser_age           178419 non-null  float64\n",
      " 21  score               184723 non-null  object \n",
      " 22  best_of             184890 non-null  float64\n",
      " 23  round               184890 non-null  object \n",
      " 24  minutes             184890 non-null  float64\n",
      " 25  w_ace               129765 non-null  float64\n",
      " 26  w_df                129765 non-null  float64\n",
      " 27  w_svpt              184890 non-null  float64\n",
      " 28  w_1stIn             184890 non-null  float64\n",
      " 29  w_1stWon            184890 non-null  float64\n",
      " 30  w_2ndWon            81339 non-null   float64\n",
      " 31  w_SvGms             184890 non-null  float64\n",
      " 32  w_bpSaved           184890 non-null  float64\n",
      " 33  w_bpFaced           184890 non-null  float64\n",
      " 34  l_ace               128104 non-null  float64\n",
      " 35  l_df                128104 non-null  float64\n",
      " 36  l_svpt              184890 non-null  float64\n",
      " 37  l_1stIn             184890 non-null  float64\n",
      " 38  l_1stWon            184890 non-null  float64\n",
      " 39  l_2ndWon            81339 non-null   float64\n",
      " 40  l_SvGms             184890 non-null  float64\n",
      " 41  l_bpSaved           184890 non-null  float64\n",
      " 42  l_bpFaced           184890 non-null  float64\n",
      " 43  winner_rank         165537 non-null  float64\n",
      " 44  winner_rank_points  165521 non-null  float64\n",
      " 45  loser_rank          149692 non-null  float64\n",
      " 46  loser_rank_points   149676 non-null  float64\n",
      " 47  tourney_spectators  184890 non-null  float64\n",
      " 48  tourney_revenue     184890 non-null  float64\n",
      " 49  winner_gender       184890 non-null  object \n",
      " 50  loser_gender        184890 non-null  object \n",
      "dtypes: float64(34), object(17)\n",
      "memory usage: 73.4+ MB\n"
     ]
    }
   ],
   "source": [
    "df = pd.read_csv('dataset/matches_datacleaning.csv', index_col = 0)\n",
    "pd.set_option('display.max_columns', None) # to visualize all the columns\n",
    "df.info()\n"
   ]
  },
  {
   "cell_type": "markdown",
   "id": "d68b4fdc",
   "metadata": {},
   "source": [
    "## new database building"
   ]
  },
  {
   "cell_type": "code",
   "execution_count": 3,
   "id": "4a2746d7",
   "metadata": {},
   "outputs": [
    {
     "name": "stdout",
     "output_type": "stream",
     "text": [
      "                      name\n",
      "0            KEI NISHIKORI\n",
      "1          DANIIL MEDVEDEV\n",
      "3       JO-WILFRIED TSONGA\n",
      "5            JEREMY CHARDY\n",
      "8           ALEX DE MINAUR\n",
      "...                    ...\n",
      "185021    DILARA SULTANOVA\n",
      "185560    MADELEINE JESSUP\n",
      "185780          KATIE CODD\n",
      "185781           AMY HUANG\n",
      "185940     CHLOE HENDERSON\n",
      "\n",
      "[10098 rows x 1 columns]\n"
     ]
    }
   ],
   "source": [
    "name = pd.concat([df['winner_name'], df['loser_name']]) \n",
    "#name.rename(columns={0: 'name'}, inplace = True)\n",
    "name.drop_duplicates(inplace=True)\n",
    "\n",
    "\n",
    "new_df = pd.DataFrame(name)\n",
    "new_df.rename(columns={0: 'name'}, inplace = True)\n",
    "print(new_df)"
   ]
  },
  {
   "cell_type": "code",
   "execution_count": 4,
   "id": "061e786e",
   "metadata": {},
   "outputs": [],
   "source": [
    "def create_new_colums(winner_attr, loser_attr, attr):\n",
    "    col1=df[['winner_name',winner_attr]]\n",
    "    col2=df[['loser_name',loser_attr]]\n",
    "    col2.rename(columns={'loser_name': 'winner_name'}, inplace = True)\n",
    "    col2.rename(columns={loser_attr: winner_attr}, inplace = True)\n",
    "    name2 = col1.append(col2) \n",
    "    name2.rename(columns={'winner_name': 'name',winner_attr:attr}, inplace = True)\n",
    "    name2.drop_duplicates(inplace=True)\n",
    "    return name2\n"
   ]
  },
  {
   "cell_type": "markdown",
   "id": "4c80fc53",
   "metadata": {},
   "source": [
    "## Adding hand of players"
   ]
  },
  {
   "cell_type": "code",
   "execution_count": 5,
   "id": "5ee72368",
   "metadata": {},
   "outputs": [
    {
     "name": "stderr",
     "output_type": "stream",
     "text": [
      "/home/ornela/myproject/venv_/lib/python3.8/site-packages/pandas/core/frame.py:4441: SettingWithCopyWarning: \n",
      "A value is trying to be set on a copy of a slice from a DataFrame\n",
      "\n",
      "See the caveats in the documentation: https://pandas.pydata.org/pandas-docs/stable/user_guide/indexing.html#returning-a-view-versus-a-copy\n",
      "  return super().rename(\n"
     ]
    }
   ],
   "source": [
    "value=create_new_colums('winner_hand','loser_hand','hand')\n",
    "value.at[180480, 'hand'] = 'R'\n",
    "value.drop_duplicates(inplace=True)\n"
   ]
  },
  {
   "cell_type": "code",
   "execution_count": 6,
   "id": "667a036f",
   "metadata": {},
   "outputs": [
    {
     "name": "stdout",
     "output_type": "stream",
     "text": [
      "                      name hand\n",
      "0            KEI NISHIKORI    R\n",
      "1          DANIIL MEDVEDEV    R\n",
      "3       JO-WILFRIED TSONGA    R\n",
      "5            JEREMY CHARDY    R\n",
      "8           ALEX DE MINAUR    R\n",
      "...                    ...  ...\n",
      "185021    DILARA SULTANOVA    U\n",
      "185560    MADELEINE JESSUP    U\n",
      "185780          KATIE CODD    U\n",
      "185781           AMY HUANG    U\n",
      "185940     CHLOE HENDERSON    U\n",
      "\n",
      "[10098 rows x 2 columns]\n"
     ]
    }
   ],
   "source": [
    "new_df['hand']=value.hand\n",
    "print(new_df)"
   ]
  },
  {
   "cell_type": "code",
   "execution_count": 7,
   "id": "a6a097ff",
   "metadata": {
    "scrolled": true
   },
   "outputs": [],
   "source": [
    "#new_df.reset_index(inplace=True)\n",
    "#del new_df['index']\n",
    "#print(new_df)"
   ]
  },
  {
   "cell_type": "markdown",
   "id": "d52bf481",
   "metadata": {},
   "source": [
    "## adding sex of players"
   ]
  },
  {
   "cell_type": "code",
   "execution_count": 8,
   "id": "feef756c",
   "metadata": {},
   "outputs": [
    {
     "name": "stderr",
     "output_type": "stream",
     "text": [
      "/home/ornela/myproject/venv_/lib/python3.8/site-packages/pandas/core/frame.py:4441: SettingWithCopyWarning: \n",
      "A value is trying to be set on a copy of a slice from a DataFrame\n",
      "\n",
      "See the caveats in the documentation: https://pandas.pydata.org/pandas-docs/stable/user_guide/indexing.html#returning-a-view-versus-a-copy\n",
      "  return super().rename(\n"
     ]
    }
   ],
   "source": [
    "value=create_new_colums('winner_gender','loser_gender','gender')\n"
   ]
  },
  {
   "cell_type": "code",
   "execution_count": 9,
   "id": "4de2bc7f",
   "metadata": {},
   "outputs": [
    {
     "name": "stdout",
     "output_type": "stream",
     "text": [
      "0         M\n",
      "1         M\n",
      "3         M\n",
      "5         M\n",
      "8         M\n",
      "         ..\n",
      "185021    F\n",
      "185560    F\n",
      "185780    F\n",
      "185781    F\n",
      "185940    F\n",
      "Name: gender, Length: 10098, dtype: object\n"
     ]
    }
   ],
   "source": [
    "print(value.gender)"
   ]
  },
  {
   "cell_type": "code",
   "execution_count": 10,
   "id": "570838bc",
   "metadata": {},
   "outputs": [
    {
     "name": "stdout",
     "output_type": "stream",
     "text": [
      "                     name hand gender\n",
      "0           KEI NISHIKORI    R      M\n",
      "1         DANIIL MEDVEDEV    R      M\n",
      "2      JO-WILFRIED TSONGA    R      M\n",
      "3           JEREMY CHARDY    R      M\n",
      "4          ALEX DE MINAUR    R      M\n",
      "...                   ...  ...    ...\n",
      "10093    DILARA SULTANOVA    U      F\n",
      "10094    MADELEINE JESSUP    U      F\n",
      "10095          KATIE CODD    U      F\n",
      "10096           AMY HUANG    U      F\n",
      "10097     CHLOE HENDERSON    U      F\n",
      "\n",
      "[10098 rows x 3 columns]\n"
     ]
    }
   ],
   "source": [
    "#new_df['gender']=value.gender\n",
    "\n",
    "new_df=pd.merge(new_df, value, how='left', on='name')\n",
    "print(new_df)"
   ]
  },
  {
   "cell_type": "markdown",
   "id": "4e47072b",
   "metadata": {},
   "source": [
    "## ioc of players"
   ]
  },
  {
   "cell_type": "code",
   "execution_count": 11,
   "id": "c1747d41",
   "metadata": {},
   "outputs": [
    {
     "name": "stderr",
     "output_type": "stream",
     "text": [
      "/home/ornela/myproject/venv_/lib/python3.8/site-packages/pandas/core/frame.py:4441: SettingWithCopyWarning: \n",
      "A value is trying to be set on a copy of a slice from a DataFrame\n",
      "\n",
      "See the caveats in the documentation: https://pandas.pydata.org/pandas-docs/stable/user_guide/indexing.html#returning-a-view-versus-a-copy\n",
      "  return super().rename(\n"
     ]
    },
    {
     "name": "stdout",
     "output_type": "stream",
     "text": [
      "                     name hand gender  ioc\n",
      "0           KEI NISHIKORI    R      M  JPN\n",
      "1         DANIIL MEDVEDEV    R      M  RUS\n",
      "2      JO-WILFRIED TSONGA    R      M  FRA\n",
      "3           JEREMY CHARDY    R      M  FRA\n",
      "4          ALEX DE MINAUR    R      M  AUS\n",
      "...                   ...  ...    ...  ...\n",
      "10093    DILARA SULTANOVA    U      F  TKM\n",
      "10094    MADELEINE JESSUP    U      F  USA\n",
      "10095          KATIE CODD    U      F  USA\n",
      "10096           AMY HUANG    U      F  USA\n",
      "10097     CHLOE HENDERSON    U      F  USA\n",
      "\n",
      "[10098 rows x 4 columns]\n"
     ]
    }
   ],
   "source": [
    "value=create_new_colums('winner_ioc','loser_ioc','ioc')\n",
    "value.drop_duplicates(inplace=True)\n",
    "\n",
    "new_df=pd.merge(new_df, value, how='left', on='name')\n",
    "print(new_df)"
   ]
  },
  {
   "cell_type": "code",
   "execution_count": null,
   "id": "a83e027d",
   "metadata": {},
   "outputs": [],
   "source": []
  },
  {
   "cell_type": "code",
   "execution_count": 12,
   "id": "463eae8b",
   "metadata": {},
   "outputs": [
    {
     "data": {
      "text/plain": [
       "winner_name\n",
       "ABBIE MYERS                        [23.0, 22.0, 24.0, 25.0, 26.0]\n",
       "ABHINAV SANJEEV SHANMUGAM                      [18.0, 19.0, 21.0]\n",
       "ABIGAIL DESIATNIKOV                                  [17.0, 15.0]\n",
       "ABIGAIL RENCHELI                                     [17.0, 18.0]\n",
       "ABIGAIL TERE APISAH                [25.0, 24.0, 26.0, 27.0, 28.0]\n",
       "                                             ...                 \n",
       "ZOE KRUGER                   [15.0, 14.0, 16.0, 17.0, 19.0, 18.0]\n",
       "ZOE RICHARD                              [19.0, 20.0, 21.0, 22.0]\n",
       "ZOZIYA KARDAVA                     [16.0, 17.0, 18.0, 20.0, 19.0]\n",
       "ZSOMBOR PIROS                            [18.0, 19.0, 22.0, 20.0]\n",
       "ZUZANA ZLOCHOVA              [27.0, 28.0, 26.0, 30.0, 29.0, 31.0]\n",
       "Name: winner_age, Length: 3643, dtype: object"
      ]
     },
     "execution_count": 12,
     "metadata": {},
     "output_type": "execute_result"
    }
   ],
   "source": [
    "\n",
    "LoserId_name = df.groupby(['winner_name']).winner_age.nunique() \n",
    "LoserId_name = LoserId_name[LoserId_name > 1] \n",
    "\n",
    "df[df.winner_name.isin(LoserId_name.index)].groupby(['winner_name']).winner_age.unique()"
   ]
  },
  {
   "cell_type": "code",
   "execution_count": 13,
   "id": "6adcf649",
   "metadata": {},
   "outputs": [
    {
     "name": "stdout",
     "output_type": "stream",
     "text": [
      "\n"
     ]
    }
   ],
   "source": [
    "gg=df\n",
    "#print(gg['tourney_date'])\n",
    "\n",
    "#gg['tourney_date'] = pd.to_datetime(gg['tourney_date'], format='%Y-%m-%d')\n",
    "#print((gg['tourney_date'].str[:4].astype('int32')-gg['winner_age']))\n",
    "#var = df.groupby(['winner_name'])['winner_age','tourney_date']\n",
    "gg['winner_birth']=(gg['tourney_date'].str[:4].astype('int32')-gg['winner_age'])\n",
    "gg['loser_birth']=(gg['tourney_date'].str[:4].astype('int32')-gg['loser_age'])\n",
    "#print(var)\n",
    "print()"
   ]
  },
  {
   "cell_type": "code",
   "execution_count": 14,
   "id": "f57b5dbf",
   "metadata": {},
   "outputs": [],
   "source": [
    "winner_birth=gg.groupby(['winner_name']).winner_birth.min() #print(gg.groupby(['winner_name']).birth.min())\n",
    "winner_birth = pd.DataFrame(winner_birth)\n",
    "winner_birth.reset_index(inplace=True)\n",
    "winner_birth.rename(columns={'winner_name': 'name', 'winner_birth': 'birth'}, inplace = True)\n",
    "\n",
    "loser_birth=gg.groupby(['loser_name']).loser_birth.min() #print(gg.groupby(['loser_name']).birth.min())\n",
    "loser_birth = pd.DataFrame(loser_birth)\n",
    "loser_birth.reset_index(inplace=True)\n",
    "loser_birth.rename(columns={'loser_name': 'name', 'loser_birth': 'birth'}, inplace = True)\n",
    "\n",
    "name_birth=winner_birth.append(loser_birth)\n",
    "name_birth.dropna(inplace=True)\n",
    "name_birth.drop_duplicates(inplace=True)\n",
    "name_birth=name_birth.groupby(name_birth['name']).birth.min()\n",
    "\n",
    "name_birth = pd.DataFrame(name_birth)\n",
    "name_birth.reset_index(inplace=True)\n",
    "#print(name_birth)\n",
    "\n",
    "# NELLA ESECUZIONE DI OGGI CI SONO Nan CHE PRIMA NON C'ERANO"
   ]
  },
  {
   "cell_type": "code",
   "execution_count": 15,
   "id": "e55c7584",
   "metadata": {},
   "outputs": [
    {
     "name": "stdout",
     "output_type": "stream",
     "text": [
      "                     name hand gender  ioc   birth\n",
      "0           KEI NISHIKORI    R      M  JPN  1980.5\n",
      "1         DANIIL MEDVEDEV    R      M  RUS  1981.5\n",
      "2      JO-WILFRIED TSONGA    R      M  FRA  1984.0\n",
      "3           JEREMY CHARDY    R      M  FRA  1986.0\n",
      "4          ALEX DE MINAUR    R      M  AUS  1998.0\n",
      "...                   ...  ...    ...  ...     ...\n",
      "10093    DILARA SULTANOVA    U      F  TKM     NaN\n",
      "10094    MADELEINE JESSUP    U      F  USA     NaN\n",
      "10095          KATIE CODD    U      F  USA     NaN\n",
      "10096           AMY HUANG    U      F  USA     NaN\n",
      "10097     CHLOE HENDERSON    U      F  USA     NaN\n",
      "\n",
      "[10098 rows x 5 columns]\n"
     ]
    }
   ],
   "source": [
    "new_df=pd.merge(new_df, name_birth, how='left', on='name')\n",
    "print(new_df)\n"
   ]
  },
  {
   "cell_type": "code",
   "execution_count": 16,
   "id": "99549e5e-7d90-4466-917d-dc1d774e0228",
   "metadata": {},
   "outputs": [
    {
     "name": "stdout",
     "output_type": "stream",
     "text": [
      "                     name hand gender  ioc   birth     ht\n",
      "0           KEI NISHIKORI    R      M  JPN  1980.5  178.0\n",
      "1         DANIIL MEDVEDEV    R      M  RUS  1981.5  198.0\n",
      "2      JO-WILFRIED TSONGA    R      M  FRA  1984.0  188.0\n",
      "3           JEREMY CHARDY    R      M  FRA  1986.0  188.0\n",
      "4          ALEX DE MINAUR    R      M  AUS  1998.0  183.0\n",
      "...                   ...  ...    ...  ...     ...    ...\n",
      "10093    DILARA SULTANOVA    U      F  TKM     NaN    NaN\n",
      "10094    MADELEINE JESSUP    U      F  USA     NaN    NaN\n",
      "10095          KATIE CODD    U      F  USA     NaN    NaN\n",
      "10096           AMY HUANG    U      F  USA     NaN    NaN\n",
      "10097     CHLOE HENDERSON    U      F  USA     NaN    NaN\n",
      "\n",
      "[10098 rows x 6 columns]\n"
     ]
    },
    {
     "name": "stderr",
     "output_type": "stream",
     "text": [
      "/home/ornela/myproject/venv_/lib/python3.8/site-packages/pandas/core/frame.py:4441: SettingWithCopyWarning: \n",
      "A value is trying to be set on a copy of a slice from a DataFrame\n",
      "\n",
      "See the caveats in the documentation: https://pandas.pydata.org/pandas-docs/stable/user_guide/indexing.html#returning-a-view-versus-a-copy\n",
      "  return super().rename(\n"
     ]
    }
   ],
   "source": [
    "value=create_new_colums('winner_ht','loser_ht','ht')\n",
    "value.dropna(inplace=True)\n",
    "value.drop_duplicates(inplace=True)\n",
    "\n",
    "name_ht = value.groupby(['name']).ht.max() \n",
    "\n",
    "new_df=pd.merge(new_df, name_ht, how='left', on='name')\n",
    "print(new_df)\n"
   ]
  },
  {
   "cell_type": "code",
   "execution_count": null,
   "id": "8c4d3432",
   "metadata": {},
   "outputs": [],
   "source": [
    "\n"
   ]
  }
 ],
 "metadata": {
  "kernelspec": {
   "display_name": "Python 3 (ipykernel)",
   "language": "python",
   "name": "python3"
  },
  "language_info": {
   "codemirror_mode": {
    "name": "ipython",
    "version": 3
   },
   "file_extension": ".py",
   "mimetype": "text/x-python",
   "name": "python",
   "nbconvert_exporter": "python",
   "pygments_lexer": "ipython3",
   "version": "3.8.2"
  }
 },
 "nbformat": 4,
 "nbformat_minor": 5
}
