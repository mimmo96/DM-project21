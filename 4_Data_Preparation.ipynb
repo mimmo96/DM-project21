{
 "cells": [
  {
   "cell_type": "code",
   "execution_count": 1,
   "id": "37f6bd94",
   "metadata": {},
   "outputs": [],
   "source": [
    "import pandas as pd\n",
    "import math\n",
    "import numpy as np\n",
    "import scipy.stats as stats\n",
    "import matplotlib.pyplot as plt\n",
    "from collections import defaultdict\n",
    "from scipy.stats.stats import pearsonr\n",
    "import seaborn as sn"
   ]
  },
  {
   "cell_type": "code",
   "execution_count": 2,
   "id": "e134c28f",
   "metadata": {
    "scrolled": true,
    "tags": []
   },
   "outputs": [
    {
     "name": "stderr",
     "output_type": "stream",
     "text": [
      "/Users/domenico/opt/anaconda3/lib/python3.8/site-packages/IPython/core/interactiveshell.py:3165: DtypeWarning: Columns (5) have mixed types.Specify dtype option on import or set low_memory=False.\n",
      "  has_raised = await self.run_ast_nodes(code_ast.body, cell_name,\n"
     ]
    },
    {
     "name": "stdout",
     "output_type": "stream",
     "text": [
      "<class 'pandas.core.frame.DataFrame'>\n",
      "Int64Index: 184890 entries, 0 to 186072\n",
      "Data columns (total 51 columns):\n",
      " #   Column              Non-Null Count   Dtype  \n",
      "---  ------              --------------   -----  \n",
      " 0   tourney_id          184890 non-null  object \n",
      " 1   tourney_name        184890 non-null  object \n",
      " 2   surface             184728 non-null  object \n",
      " 3   draw_size           184890 non-null  float64\n",
      " 4   tourney_level       184890 non-null  object \n",
      " 5   tourney_date        184890 non-null  object \n",
      " 6   match_num           184890 non-null  float64\n",
      " 7   winner_id           184890 non-null  float64\n",
      " 8   winner_entry        25701 non-null   object \n",
      " 9   winner_name         184890 non-null  object \n",
      " 10  winner_hand         184890 non-null  object \n",
      " 11  winner_ht           48560 non-null   float64\n",
      " 12  winner_ioc          184890 non-null  object \n",
      " 13  winner_age          182080 non-null  float64\n",
      " 14  loser_id            184890 non-null  float64\n",
      " 15  loser_entry         43927 non-null   object \n",
      " 16  loser_name          184890 non-null  object \n",
      " 17  loser_hand          184890 non-null  object \n",
      " 18  loser_ht            37726 non-null   float64\n",
      " 19  loser_ioc           184890 non-null  object \n",
      " 20  loser_age           178419 non-null  float64\n",
      " 21  score               184723 non-null  object \n",
      " 22  best_of             184890 non-null  float64\n",
      " 23  round               184890 non-null  object \n",
      " 24  minutes             184890 non-null  float64\n",
      " 25  w_ace               129765 non-null  float64\n",
      " 26  w_df                129765 non-null  float64\n",
      " 27  w_svpt              184890 non-null  float64\n",
      " 28  w_1stIn             184890 non-null  float64\n",
      " 29  w_1stWon            184890 non-null  float64\n",
      " 30  w_2ndWon            81339 non-null   float64\n",
      " 31  w_SvGms             184890 non-null  float64\n",
      " 32  w_bpSaved           184890 non-null  float64\n",
      " 33  w_bpFaced           184890 non-null  float64\n",
      " 34  l_ace               128104 non-null  float64\n",
      " 35  l_df                128104 non-null  float64\n",
      " 36  l_svpt              184890 non-null  float64\n",
      " 37  l_1stIn             184890 non-null  float64\n",
      " 38  l_1stWon            184890 non-null  float64\n",
      " 39  l_2ndWon            81339 non-null   float64\n",
      " 40  l_SvGms             184890 non-null  float64\n",
      " 41  l_bpSaved           184890 non-null  float64\n",
      " 42  l_bpFaced           184890 non-null  float64\n",
      " 43  winner_rank         165537 non-null  float64\n",
      " 44  winner_rank_points  165521 non-null  float64\n",
      " 45  loser_rank          149692 non-null  float64\n",
      " 46  loser_rank_points   149676 non-null  float64\n",
      " 47  tourney_spectators  184890 non-null  float64\n",
      " 48  tourney_revenue     184890 non-null  float64\n",
      " 49  winner_gender       184890 non-null  object \n",
      " 50  loser_gender        184890 non-null  object \n",
      "dtypes: float64(34), object(17)\n",
      "memory usage: 73.4+ MB\n"
     ]
    }
   ],
   "source": [
    "df = pd.read_csv('dataset/matches_datacleaning.csv', index_col = 0)\n",
    "pd.set_option('display.max_columns', None) # to visualize all the columns\n",
    "df.info()\n"
   ]
  },
  {
   "cell_type": "markdown",
   "id": "d68b4fdc",
   "metadata": {},
   "source": [
    "## new database building"
   ]
  },
  {
   "cell_type": "code",
   "execution_count": 3,
   "id": "4a2746d7",
   "metadata": {},
   "outputs": [
    {
     "name": "stdout",
     "output_type": "stream",
     "text": [
      "                      name\n",
      "0            KEI NISHIKORI\n",
      "1          DANIIL MEDVEDEV\n",
      "3       JO-WILFRIED TSONGA\n",
      "5            JEREMY CHARDY\n",
      "8           ALEX DE MINAUR\n",
      "...                    ...\n",
      "185021    DILARA SULTANOVA\n",
      "185560    MADELEINE JESSUP\n",
      "185780          KATIE CODD\n",
      "185781           AMY HUANG\n",
      "185940     CHLOE HENDERSON\n",
      "\n",
      "[10098 rows x 1 columns]\n"
     ]
    }
   ],
   "source": [
    "name = pd.concat([df['winner_name'], df['loser_name']]) \n",
    "#name.rename(columns={0: 'name'}, inplace = True)\n",
    "name.drop_duplicates(inplace=True)\n",
    "\n",
    "\n",
    "new_df = pd.DataFrame(name)\n",
    "new_df.rename(columns={0: 'name'}, inplace = True)\n",
    "print(new_df)"
   ]
  },
  {
   "cell_type": "code",
   "execution_count": 4,
   "id": "061e786e",
   "metadata": {},
   "outputs": [],
   "source": [
    "def create_new_colums(winner_attr, loser_attr, attr):\n",
    "    col1=df[['winner_name',winner_attr]]\n",
    "    col2=df[['loser_name',loser_attr]]\n",
    "    col2.rename(columns={'loser_name': 'winner_name'}, inplace = True)\n",
    "    col2.rename(columns={loser_attr: winner_attr}, inplace = True)\n",
    "    name2 = col1.append(col2) \n",
    "    name2.rename(columns={'winner_name': 'name',winner_attr:attr}, inplace = True)\n",
    "    name2.drop_duplicates(inplace=True)\n",
    "    return name2\n"
   ]
  },
  {
   "cell_type": "markdown",
   "id": "eac165ab",
   "metadata": {},
   "source": [
    "## num match of each player as winner and loser"
   ]
  },
  {
   "cell_type": "code",
   "execution_count": 5,
   "id": "17b44798",
   "metadata": {},
   "outputs": [
    {
     "name": "stdout",
     "output_type": "stream",
     "text": [
      "                     name  match_won  match_loss  num_match\n",
      "0           KEI NISHIKORI      188.0        92.0        280\n",
      "1         DANIIL MEDVEDEV      263.0       113.0        376\n",
      "2      JO-WILFRIED TSONGA      123.0        71.0        194\n",
      "3           JEREMY CHARDY      148.0       130.0        278\n",
      "4          ALEX DE MINAUR      160.0       107.0        267\n",
      "...                   ...        ...         ...        ...\n",
      "10093    DILARA SULTANOVA        0.0         1.0          1\n",
      "10094    MADELEINE JESSUP        0.0         1.0          1\n",
      "10095          KATIE CODD        0.0         1.0          1\n",
      "10096           AMY HUANG        0.0         1.0          1\n",
      "10097     CHLOE HENDERSON        0.0         1.0          1\n",
      "\n",
      "[10098 rows x 4 columns]\n"
     ]
    }
   ],
   "source": [
    "num_match=df['winner_name'].value_counts(dropna=False)\n",
    "num_match=pd.DataFrame(num_match)\n",
    "num_match.reset_index(inplace=True)\n",
    "num_match.rename(columns={'index': 'name','winner_name':'match_won'}, inplace = True)\n",
    "\n",
    "new_df=pd.merge(new_df, num_match, how='left', on='name')\n",
    "num_match.rename(columns={'match_won': 'num_match'}, inplace = True)\n",
    "\n",
    "num_match1=df['loser_name'].value_counts(dropna=False)\n",
    "num_match1=pd.DataFrame(num_match1)\n",
    "num_match1.reset_index(inplace=True)\n",
    "num_match1.rename(columns={'index': 'name','loser_name':'match_loss'}, inplace = True)\n",
    "\n",
    "new_df=pd.merge(new_df, num_match1, how='left', on='name')\n",
    "num_match1.rename(columns={'match_loss': 'num_match'}, inplace = True)\n",
    "\n",
    "num_match=num_match1.append(num_match)\n",
    "num_match=num_match.groupby(['name']).num_match.sum()\n",
    "\n",
    "num_match=pd.DataFrame(num_match)\n",
    "num_match.reset_index(inplace=True)\n",
    "\n",
    "new_df=pd.merge(new_df, num_match, how='left', on='name')\n",
    "new_df['match_won']=new_df['match_won'].fillna(0)\n",
    "new_df['match_loss']=new_df['match_loss'].fillna(0)\n",
    "print(new_df)"
   ]
  },
  {
   "cell_type": "code",
   "execution_count": 6,
   "id": "6cf59d94",
   "metadata": {},
   "outputs": [
    {
     "name": "stdout",
     "output_type": "stream",
     "text": [
      "                     name  match_won  match_loss  num_match\n",
      "0           KEI NISHIKORI      188.0        92.0        280\n",
      "1         DANIIL MEDVEDEV      263.0       113.0        376\n",
      "2      JO-WILFRIED TSONGA      123.0        71.0        194\n",
      "3           JEREMY CHARDY      148.0       130.0        278\n",
      "4          ALEX DE MINAUR      160.0       107.0        267\n",
      "...                   ...        ...         ...        ...\n",
      "10030    MADALENA MARQUES        0.0         3.0          3\n",
      "10055  GIULIA FINOCCHIARO        0.0         3.0          3\n",
      "10056      ALICE BENVEGNU        0.0         3.0          3\n",
      "10083  ELIF SANEM KARADAG        0.0         3.0          3\n",
      "10090  ASLI YAGMUR KUNDUK        0.0         3.0          3\n",
      "\n",
      "[6645 rows x 4 columns]\n"
     ]
    }
   ],
   "source": [
    "new_df=new_df[new_df['num_match']>2]\n",
    "print(new_df)"
   ]
  },
  {
   "cell_type": "code",
   "execution_count": 7,
   "id": "b18d2484",
   "metadata": {},
   "outputs": [
    {
     "name": "stdout",
     "output_type": "stream",
     "text": [
      "                     name  match_won  match_loss  num_match     ratio\n",
      "0           KEI NISHIKORI      188.0        92.0        280  0.671429\n",
      "1         DANIIL MEDVEDEV      263.0       113.0        376  0.699468\n",
      "2      JO-WILFRIED TSONGA      123.0        71.0        194  0.634021\n",
      "3           JEREMY CHARDY      148.0       130.0        278  0.532374\n",
      "4          ALEX DE MINAUR      160.0       107.0        267  0.599251\n",
      "...                   ...        ...         ...        ...       ...\n",
      "10030    MADALENA MARQUES        0.0         3.0          3  0.000000\n",
      "10055  GIULIA FINOCCHIARO        0.0         3.0          3  0.000000\n",
      "10056      ALICE BENVEGNU        0.0         3.0          3  0.000000\n",
      "10083  ELIF SANEM KARADAG        0.0         3.0          3  0.000000\n",
      "10090  ASLI YAGMUR KUNDUK        0.0         3.0          3  0.000000\n",
      "\n",
      "[6645 rows x 5 columns]\n"
     ]
    }
   ],
   "source": [
    "new_df['ratio']=new_df['match_won']/new_df['num_match']\n",
    "print(new_df)\n"
   ]
  },
  {
   "cell_type": "markdown",
   "id": "891904a2",
   "metadata": {},
   "source": [
    "## Statistics of players during period"
   ]
  },
  {
   "cell_type": "code",
   "execution_count": 8,
   "id": "f04a54f8",
   "metadata": {},
   "outputs": [],
   "source": [
    "tourney_year=df['tourney_date'].str[:4].astype('int32')\n",
    "df['tourney_year']=tourney_year"
   ]
  },
  {
   "cell_type": "code",
   "execution_count": 12,
   "id": "79f6a3b0",
   "metadata": {},
   "outputs": [
    {
     "name": "stdout",
     "output_type": "stream",
     "text": [
      "[2018 2019 2017 2016 2020 2021]\n",
      "name\n",
      "AAREYALEE AMRUTSINH CHAVAN     1\n",
      "AARON ADDISON                  6\n",
      "AASTHA DARGUDE                 2\n",
      "ABBIE MYERS                   33\n",
      "ABDULHAMID MUBARAK             1\n",
      "                              ..\n",
      "ZORICA SPASOJEVIC              2\n",
      "ZOZIYA KARDAVA                 2\n",
      "ZUZANA LUKNAROVA               2\n",
      "ZUZANA ZALABSKA                3\n",
      "ZUZANA ZLOCHOVA               51\n",
      "Name: num_match_2016, Length: 4754, dtype: int64\n"
     ]
    }
   ],
   "source": [
    "year=tourney_year.unique()\n",
    "print(year)\n",
    "\n",
    "#for i in year:\n",
    "i=2016\n",
    "df_year_winner=df[df['tourney_year']==i]['winner_name']\n",
    "num_match_won=df_year_winner.value_counts(dropna=False)\n",
    "num_match_won=pd.DataFrame(num_match_won)\n",
    "num_match_won.reset_index(inplace=True)\n",
    "num_match_won.rename(columns={'index': 'name','winner_name':'match_won_'+str(i)}, inplace = True)\n",
    "\n",
    "#new_df=pd.merge(new_df, num_match, how='left', on='name')\n",
    "num_match_won.rename(columns={'match_won_'+str(i): 'num_match_'+str(i)}, inplace = True)\n",
    "\n",
    "df_year_loser=df[df['tourney_year']==i]['loser_name']\n",
    "num_match_loss=df_year_loser.value_counts(dropna=False)\n",
    "num_match_loss=pd.DataFrame(num_match_loss)\n",
    "num_match_loss.reset_index(inplace=True)\n",
    "num_match_loss.rename(columns={'index': 'name','loser_name':'match_loss_'+str(i)}, inplace = True)\n",
    "\n",
    "#new_df=pd.merge(new_df, num_match1, how='left', on='name')\n",
    "num_match_loss.rename(columns={'match_loss_'+str(i): 'num_match_'+str(i)}, inplace = True)\n",
    "num_match=num_match_loss.append(num_match_won)\n",
    "\n",
    "num_match=num_match.groupby(['name'])['num_match_'+str(i)].sum()\n",
    "#num_match_won['ratio_'+str(i)]=num_match_won['match_won']/new_df['num_match']\n",
    "\n",
    "print(num_match_won)\n",
    "print(num_match_loss)\n",
    "    #new_df['ratio']=new_df['match_won']/new_df['num_match']\n",
    "\n",
    "    #num_match=pd.DataFrame(num_match)\n",
    "    #num_match.reset_index(inplace=True)\n",
    "\n",
    "    #new_df=pd.merge(new_df, num_match, how='left', on='name')\n",
    "\n",
    "#print(new_df)\n",
    "#print(df[df['tourney_year']==2016]['winner_name'])"
   ]
  },
  {
   "cell_type": "markdown",
   "id": "4c80fc53",
   "metadata": {},
   "source": [
    "## Adding hand of players"
   ]
  },
  {
   "cell_type": "code",
   "execution_count": 6,
   "id": "5ee72368",
   "metadata": {},
   "outputs": [
    {
     "name": "stderr",
     "output_type": "stream",
     "text": [
      "/Users/domenico/opt/anaconda3/lib/python3.8/site-packages/pandas/core/frame.py:4441: SettingWithCopyWarning: \n",
      "A value is trying to be set on a copy of a slice from a DataFrame\n",
      "\n",
      "See the caveats in the documentation: https://pandas.pydata.org/pandas-docs/stable/user_guide/indexing.html#returning-a-view-versus-a-copy\n",
      "  return super().rename(\n"
     ]
    }
   ],
   "source": [
    "value=create_new_colums('winner_hand','loser_hand','hand')\n",
    "value.at[180480, 'hand'] = 'R'\n",
    "value.drop_duplicates(inplace=True)\n",
    "\n",
    "#andare a rivedere l'indice dalla tabella originaria"
   ]
  },
  {
   "cell_type": "code",
   "execution_count": 7,
   "id": "667a036f",
   "metadata": {},
   "outputs": [
    {
     "name": "stdout",
     "output_type": "stream",
     "text": [
      "                     name  num_match hand\n",
      "0           KEI NISHIKORI        280    R\n",
      "1         DANIIL MEDVEDEV        376    R\n",
      "2      JO-WILFRIED TSONGA        194    R\n",
      "3           JEREMY CHARDY        278    R\n",
      "4          ALEX DE MINAUR        267    R\n",
      "...                   ...        ...  ...\n",
      "10093    DILARA SULTANOVA          1    U\n",
      "10094    MADELEINE JESSUP          1    U\n",
      "10095          KATIE CODD          1    U\n",
      "10096           AMY HUANG          1    U\n",
      "10097     CHLOE HENDERSON          1    U\n",
      "\n",
      "[10098 rows x 3 columns]\n"
     ]
    }
   ],
   "source": [
    "new_df=pd.merge(new_df, value, how='left', on='name')\n",
    "print(new_df)"
   ]
  },
  {
   "cell_type": "markdown",
   "id": "d52bf481",
   "metadata": {},
   "source": [
    "## adding sex of players"
   ]
  },
  {
   "cell_type": "code",
   "execution_count": 8,
   "id": "feef756c",
   "metadata": {},
   "outputs": [
    {
     "name": "stderr",
     "output_type": "stream",
     "text": [
      "/Users/domenico/opt/anaconda3/lib/python3.8/site-packages/pandas/core/frame.py:4441: SettingWithCopyWarning: \n",
      "A value is trying to be set on a copy of a slice from a DataFrame\n",
      "\n",
      "See the caveats in the documentation: https://pandas.pydata.org/pandas-docs/stable/user_guide/indexing.html#returning-a-view-versus-a-copy\n",
      "  return super().rename(\n"
     ]
    },
    {
     "name": "stdout",
     "output_type": "stream",
     "text": [
      "0         M\n",
      "1         M\n",
      "3         M\n",
      "5         M\n",
      "8         M\n",
      "         ..\n",
      "185021    F\n",
      "185560    F\n",
      "185780    F\n",
      "185781    F\n",
      "185940    F\n",
      "Name: gender, Length: 10098, dtype: object\n"
     ]
    }
   ],
   "source": [
    "value=create_new_colums('winner_gender','loser_gender','gender')\n",
    "print(value.gender)"
   ]
  },
  {
   "cell_type": "code",
   "execution_count": 9,
   "id": "570838bc",
   "metadata": {},
   "outputs": [
    {
     "name": "stdout",
     "output_type": "stream",
     "text": [
      "                     name  num_match hand gender\n",
      "0           KEI NISHIKORI        280    R      M\n",
      "1         DANIIL MEDVEDEV        376    R      M\n",
      "2      JO-WILFRIED TSONGA        194    R      M\n",
      "3           JEREMY CHARDY        278    R      M\n",
      "4          ALEX DE MINAUR        267    R      M\n",
      "...                   ...        ...  ...    ...\n",
      "10093    DILARA SULTANOVA          1    U      F\n",
      "10094    MADELEINE JESSUP          1    U      F\n",
      "10095          KATIE CODD          1    U      F\n",
      "10096           AMY HUANG          1    U      F\n",
      "10097     CHLOE HENDERSON          1    U      F\n",
      "\n",
      "[10098 rows x 4 columns]\n"
     ]
    }
   ],
   "source": [
    "#new_df['gender']=value.gender\n",
    "\n",
    "new_df=pd.merge(new_df, value, how='left', on='name')\n",
    "print(new_df)"
   ]
  },
  {
   "cell_type": "markdown",
   "id": "4e47072b",
   "metadata": {},
   "source": [
    "## ioc of players"
   ]
  },
  {
   "cell_type": "code",
   "execution_count": 10,
   "id": "c1747d41",
   "metadata": {},
   "outputs": [
    {
     "name": "stderr",
     "output_type": "stream",
     "text": [
      "/Users/domenico/opt/anaconda3/lib/python3.8/site-packages/pandas/core/frame.py:4441: SettingWithCopyWarning: \n",
      "A value is trying to be set on a copy of a slice from a DataFrame\n",
      "\n",
      "See the caveats in the documentation: https://pandas.pydata.org/pandas-docs/stable/user_guide/indexing.html#returning-a-view-versus-a-copy\n",
      "  return super().rename(\n"
     ]
    },
    {
     "name": "stdout",
     "output_type": "stream",
     "text": [
      "                     name  num_match hand gender  ioc\n",
      "0           KEI NISHIKORI        280    R      M  JPN\n",
      "1         DANIIL MEDVEDEV        376    R      M  RUS\n",
      "2      JO-WILFRIED TSONGA        194    R      M  FRA\n",
      "3           JEREMY CHARDY        278    R      M  FRA\n",
      "4          ALEX DE MINAUR        267    R      M  AUS\n",
      "...                   ...        ...  ...    ...  ...\n",
      "10093    DILARA SULTANOVA          1    U      F  TKM\n",
      "10094    MADELEINE JESSUP          1    U      F  USA\n",
      "10095          KATIE CODD          1    U      F  USA\n",
      "10096           AMY HUANG          1    U      F  USA\n",
      "10097     CHLOE HENDERSON          1    U      F  USA\n",
      "\n",
      "[10098 rows x 5 columns]\n"
     ]
    }
   ],
   "source": [
    "value=create_new_colums('winner_ioc','loser_ioc','ioc')\n",
    "value.drop_duplicates(inplace=True)\n",
    "\n",
    "new_df=pd.merge(new_df, value, how='left', on='name')\n",
    "print(new_df)"
   ]
  },
  {
   "cell_type": "markdown",
   "id": "52191825",
   "metadata": {},
   "source": [
    "## ages of players"
   ]
  },
  {
   "cell_type": "code",
   "execution_count": 11,
   "id": "463eae8b",
   "metadata": {},
   "outputs": [
    {
     "data": {
      "text/plain": [
       "winner_name\n",
       "ABBIE MYERS                        [23.0, 22.0, 24.0, 25.0, 26.0]\n",
       "ABHINAV SANJEEV SHANMUGAM                      [18.0, 19.0, 21.0]\n",
       "ABIGAIL DESIATNIKOV                                  [17.0, 15.0]\n",
       "ABIGAIL RENCHELI                                     [17.0, 18.0]\n",
       "ABIGAIL TERE APISAH                [25.0, 24.0, 26.0, 27.0, 28.0]\n",
       "                                             ...                 \n",
       "ZOE KRUGER                   [15.0, 14.0, 16.0, 17.0, 19.0, 18.0]\n",
       "ZOE RICHARD                              [19.0, 20.0, 21.0, 22.0]\n",
       "ZOZIYA KARDAVA                     [16.0, 17.0, 18.0, 20.0, 19.0]\n",
       "ZSOMBOR PIROS                            [18.0, 19.0, 22.0, 20.0]\n",
       "ZUZANA ZLOCHOVA              [27.0, 28.0, 26.0, 30.0, 29.0, 31.0]\n",
       "Name: winner_age, Length: 3643, dtype: object"
      ]
     },
     "execution_count": 11,
     "metadata": {},
     "output_type": "execute_result"
    }
   ],
   "source": [
    "\n",
    "LoserId_name = df.groupby(['winner_name']).winner_age.nunique() \n",
    "LoserId_name = LoserId_name[LoserId_name > 1] \n",
    "\n",
    "df[df.winner_name.isin(LoserId_name.index)].groupby(['winner_name']).winner_age.unique()"
   ]
  },
  {
   "cell_type": "code",
   "execution_count": 12,
   "id": "6adcf649",
   "metadata": {},
   "outputs": [
    {
     "name": "stdout",
     "output_type": "stream",
     "text": [
      "\n"
     ]
    }
   ],
   "source": [
    "gg=df\n",
    "\n",
    "gg['winner_birth']=(gg['tourney_date'].str[:4].astype('int32')-gg['winner_age'])\n",
    "gg['loser_birth']=(gg['tourney_date'].str[:4].astype('int32')-gg['loser_age'])\n",
    "#print(var)\n",
    "print()"
   ]
  },
  {
   "cell_type": "code",
   "execution_count": 13,
   "id": "f57b5dbf",
   "metadata": {},
   "outputs": [],
   "source": [
    "winner_birth=gg.groupby(['winner_name']).winner_birth.min() #print(gg.groupby(['winner_name']).birth.min())\n",
    "winner_birth = pd.DataFrame(winner_birth)\n",
    "winner_birth.reset_index(inplace=True)\n",
    "winner_birth.rename(columns={'winner_name': 'name', 'winner_birth': 'birth'}, inplace = True)\n",
    "\n",
    "loser_birth=gg.groupby(['loser_name']).loser_birth.min() #print(gg.groupby(['loser_name']).birth.min())\n",
    "loser_birth = pd.DataFrame(loser_birth)\n",
    "loser_birth.reset_index(inplace=True)\n",
    "loser_birth.rename(columns={'loser_name': 'name', 'loser_birth': 'birth'}, inplace = True)\n",
    "\n",
    "name_birth=winner_birth.append(loser_birth)\n",
    "name_birth.dropna(inplace=True)\n",
    "name_birth.drop_duplicates(inplace=True)\n",
    "name_birth=name_birth.groupby(name_birth['name']).birth.min()\n",
    "\n",
    "name_birth = pd.DataFrame(name_birth)\n",
    "name_birth.reset_index(inplace=True)\n",
    "#print(name_birth)\n"
   ]
  },
  {
   "cell_type": "code",
   "execution_count": 14,
   "id": "e55c7584",
   "metadata": {},
   "outputs": [
    {
     "name": "stdout",
     "output_type": "stream",
     "text": [
      "                     name  num_match hand gender  ioc   birth\n",
      "0           KEI NISHIKORI        280    R      M  JPN  1980.5\n",
      "1         DANIIL MEDVEDEV        376    R      M  RUS  1981.5\n",
      "2      JO-WILFRIED TSONGA        194    R      M  FRA  1984.0\n",
      "3           JEREMY CHARDY        278    R      M  FRA  1986.0\n",
      "4          ALEX DE MINAUR        267    R      M  AUS  1998.0\n",
      "...                   ...        ...  ...    ...  ...     ...\n",
      "10093    DILARA SULTANOVA          1    U      F  TKM     NaN\n",
      "10094    MADELEINE JESSUP          1    U      F  USA     NaN\n",
      "10095          KATIE CODD          1    U      F  USA     NaN\n",
      "10096           AMY HUANG          1    U      F  USA     NaN\n",
      "10097     CHLOE HENDERSON          1    U      F  USA     NaN\n",
      "\n",
      "[10098 rows x 6 columns]\n"
     ]
    }
   ],
   "source": [
    "new_df=pd.merge(new_df, name_birth, how='left', on='name')\n",
    "print(new_df)\n",
    "\n",
    "#controllare perchè l'anno non è intero"
   ]
  },
  {
   "cell_type": "markdown",
   "id": "86768791",
   "metadata": {},
   "source": [
    "## height of players"
   ]
  },
  {
   "cell_type": "code",
   "execution_count": 15,
   "id": "99549e5e-7d90-4466-917d-dc1d774e0228",
   "metadata": {},
   "outputs": [
    {
     "name": "stdout",
     "output_type": "stream",
     "text": [
      "                     name  num_match hand gender  ioc   birth     ht\n",
      "0           KEI NISHIKORI        280    R      M  JPN  1980.5  178.0\n",
      "1         DANIIL MEDVEDEV        376    R      M  RUS  1981.5  198.0\n",
      "2      JO-WILFRIED TSONGA        194    R      M  FRA  1984.0  188.0\n",
      "3           JEREMY CHARDY        278    R      M  FRA  1986.0  188.0\n",
      "4          ALEX DE MINAUR        267    R      M  AUS  1998.0  183.0\n",
      "...                   ...        ...  ...    ...  ...     ...    ...\n",
      "10093    DILARA SULTANOVA          1    U      F  TKM     NaN    NaN\n",
      "10094    MADELEINE JESSUP          1    U      F  USA     NaN    NaN\n",
      "10095          KATIE CODD          1    U      F  USA     NaN    NaN\n",
      "10096           AMY HUANG          1    U      F  USA     NaN    NaN\n",
      "10097     CHLOE HENDERSON          1    U      F  USA     NaN    NaN\n",
      "\n",
      "[10098 rows x 7 columns]\n"
     ]
    },
    {
     "name": "stderr",
     "output_type": "stream",
     "text": [
      "/Users/domenico/opt/anaconda3/lib/python3.8/site-packages/pandas/core/frame.py:4441: SettingWithCopyWarning: \n",
      "A value is trying to be set on a copy of a slice from a DataFrame\n",
      "\n",
      "See the caveats in the documentation: https://pandas.pydata.org/pandas-docs/stable/user_guide/indexing.html#returning-a-view-versus-a-copy\n",
      "  return super().rename(\n"
     ]
    }
   ],
   "source": [
    "value=create_new_colums('winner_ht','loser_ht','ht')\n",
    "value.dropna(inplace=True)\n",
    "value.drop_duplicates(inplace=True)\n",
    "\n",
    "name_ht = value.groupby(['name']).ht.max() \n",
    "\n",
    "new_df=pd.merge(new_df, name_ht, how='left', on='name')\n",
    "print(new_df)\n",
    "\n",
    "#completare aggiungendo l'altezza media tramite le nazionalità dei giocatori"
   ]
  }
 ],
 "metadata": {
  "kernelspec": {
   "display_name": "Python 3",
   "language": "python",
   "name": "python3"
  },
  "language_info": {
   "codemirror_mode": {
    "name": "ipython",
    "version": 3
   },
   "file_extension": ".py",
   "mimetype": "text/x-python",
   "name": "python",
   "nbconvert_exporter": "python",
   "pygments_lexer": "ipython3",
   "version": "3.8.8"
  }
 },
 "nbformat": 4,
 "nbformat_minor": 5
}
