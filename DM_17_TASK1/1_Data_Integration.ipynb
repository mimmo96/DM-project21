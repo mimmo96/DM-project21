{
 "cells": [
  {
   "cell_type": "markdown",
   "metadata": {},
   "source": [
    "<span>\n",
    "<b>Authors:</b> \n",
    "<a href=\"http://------\">Ornela Danushi </a>\n",
    "<a href=\"http://------\">Gerlando Gramaglia </a>\n",
    "<a href=\"http://------\">Domenico Profumo </a><br/>\n",
    "<b>Python version:</b>  3.x<br/>\n",
    "</span>"
   ]
  },
  {
   "cell_type": "markdown",
   "metadata": {},
   "source": [
    "## Data integration\n",
    "in this notebook we load and create our dataset that we'll use for the rest of the project"
   ]
  },
  {
   "cell_type": "code",
   "execution_count": 1,
   "metadata": {},
   "outputs": [],
   "source": [
    "import pandas as pd\n",
    "import numpy as np\n",
    "pd.options.mode.chained_assignment = None "
   ]
  },
  {
   "cell_type": "markdown",
   "metadata": {},
   "source": [
    "Read the .csv file containing the data. The first line contains the list of attributes. The data is assigned to a Pandas dataframe."
   ]
  },
  {
   "cell_type": "code",
   "execution_count": 2,
   "metadata": {},
   "outputs": [],
   "source": [
    "df = pd.read_csv('dataset/tennis_matches.csv', index_col = 0)"
   ]
  },
  {
   "cell_type": "markdown",
   "metadata": {},
   "source": [
    "Load another table containing the name and surname of male and female people. Eliminate duplicates and concatenate Female and Male tables in a unique table called table_gender"
   ]
  },
  {
   "cell_type": "code",
   "execution_count": 3,
   "metadata": {},
   "outputs": [],
   "source": [
    "df_male = pd.read_csv('dataset/male_players.csv')\n",
    "df_male.dropna(inplace=True)\n",
    "df_male_names = pd.DataFrame()\n",
    "df_male_names['Name'] = df_male['name'].astype(str) + \" \" + df_male['surname'].astype(str)\n",
    "df_male_names.drop_duplicates(inplace=True)\n",
    "df_male_names.insert(1, 'gender', 'M', allow_duplicates=True)\n",
    "\n",
    "df_female = pd.read_csv('dataset/female_players.csv')\n",
    "df_female.dropna(inplace=True)\n",
    "df_female_names = pd.DataFrame()\n",
    "df_female_names['Name'] = df_female['name'].astype(str) + \" \" + df_female['surname'].astype(str)\n",
    "df_female_names.drop_duplicates(inplace=True)\n",
    "df_female_names.insert(1, 'gender', 'F', allow_duplicates=True)\n",
    "\n",
    "result = pd.concat([df_male_names, df_female_names]) #we create a new table to have the global view\n",
    "\n",
    "\n",
    "duplicateDFRow = result[result.duplicated(['Name'], keep=False)]\n",
    "duplicateDFRow.drop_duplicates(subset=['Name'], inplace=True)\n",
    "duplicateDFRow['gender'].replace({\"M\": 'U'},inplace=True)\n",
    "\n",
    "table_gender = pd.concat([result, duplicateDFRow]) \n",
    "table_gender.drop_duplicates(subset=['Name'], keep='last', inplace=True)"
   ]
  },
  {
   "cell_type": "markdown",
   "metadata": {},
   "source": [
    "Join the matches' table with the table_gender and mark nan gender with label 'U'"
   ]
  },
  {
   "cell_type": "code",
   "execution_count": 4,
   "metadata": {},
   "outputs": [],
   "source": [
    "matches = df\n",
    "matches = matches.join(table_gender.set_index('Name'), on='winner_name')\n",
    "matches.rename(columns={'gender': 'winner_gender'}, inplace = True)\n",
    "matches = matches.join(table_gender.set_index('Name'), on='loser_name')\n",
    "matches.rename(columns={'gender': 'loser_gender'}, inplace = True)"
   ]
  },
  {
   "cell_type": "code",
   "execution_count": 5,
   "metadata": {},
   "outputs": [],
   "source": [
    "matches.winner_gender.fillna('U', inplace = True)\n",
    "matches.loser_gender.fillna('U', inplace = True)"
   ]
  },
  {
   "cell_type": "markdown",
   "metadata": {},
   "source": [
    "Write on CSV file"
   ]
  },
  {
   "cell_type": "code",
   "execution_count": 6,
   "metadata": {
    "collapsed": true
   },
   "outputs": [
    {
     "name": "stdout",
     "output_type": "stream",
     "text": [
      "<class 'pandas.core.frame.DataFrame'>\n",
      "Int64Index: 186128 entries, 0 to 186127\n",
      "Data columns (total 51 columns):\n",
      " #   Column              Non-Null Count   Dtype  \n",
      "---  ------              --------------   -----  \n",
      " 0   tourney_id          186073 non-null  object \n",
      " 1   tourney_name        186103 non-null  object \n",
      " 2   surface             185940 non-null  object \n",
      " 3   draw_size           186099 non-null  float64\n",
      " 4   tourney_level       186099 non-null  object \n",
      " 5   tourney_date        186100 non-null  float64\n",
      " 6   match_num           186101 non-null  float64\n",
      " 7   winner_id           186073 non-null  float64\n",
      " 8   winner_entry        25827 non-null   object \n",
      " 9   winner_name         186101 non-null  object \n",
      " 10  winner_hand         186082 non-null  object \n",
      " 11  winner_ht           49341 non-null   float64\n",
      " 12  winner_ioc          186099 non-null  object \n",
      " 13  winner_age          183275 non-null  float64\n",
      " 14  loser_id            186100 non-null  float64\n",
      " 15  loser_entry         44154 non-null   object \n",
      " 16  loser_name          186097 non-null  object \n",
      " 17  loser_hand          186030 non-null  object \n",
      " 18  loser_ht            38348 non-null   float64\n",
      " 19  loser_ioc           186102 non-null  object \n",
      " 20  loser_age           179590 non-null  float64\n",
      " 21  score               185929 non-null  object \n",
      " 22  best_of             186099 non-null  float64\n",
      " 23  round               186098 non-null  object \n",
      " 24  minutes             81660 non-null   float64\n",
      " 25  w_ace               82310 non-null   float64\n",
      " 26  w_df                82312 non-null   float64\n",
      " 27  w_svpt              82310 non-null   float64\n",
      " 28  w_1stIn             82310 non-null   float64\n",
      " 29  w_1stWon            82312 non-null   float64\n",
      " 30  w_2ndWon            82309 non-null   float64\n",
      " 31  w_SvGms             82311 non-null   float64\n",
      " 32  w_bpSaved           82315 non-null   float64\n",
      " 33  w_bpFaced           82312 non-null   float64\n",
      " 34  l_ace               82313 non-null   float64\n",
      " 35  l_df                82319 non-null   float64\n",
      " 36  l_svpt              82315 non-null   float64\n",
      " 37  l_1stIn             82304 non-null   float64\n",
      " 38  l_1stWon            82311 non-null   float64\n",
      " 39  l_2ndWon            82312 non-null   float64\n",
      " 40  l_SvGms             82318 non-null   float64\n",
      " 41  l_bpSaved           82311 non-null   float64\n",
      " 42  l_bpFaced           82306 non-null   float64\n",
      " 43  winner_rank         166719 non-null  float64\n",
      " 44  winner_rank_points  166701 non-null  float64\n",
      " 45  loser_rank          150845 non-null  float64\n",
      " 46  loser_rank_points   150828 non-null  float64\n",
      " 47  tourney_spectators  186101 non-null  float64\n",
      " 48  tourney_revenue     186102 non-null  float64\n",
      " 49  winner_gender       186128 non-null  object \n",
      " 50  loser_gender        186128 non-null  object \n",
      "dtypes: float64(35), object(16)\n",
      "memory usage: 73.8+ MB\n",
      "None\n"
     ]
    }
   ],
   "source": [
    "matches.to_csv('dataset/matches_with_gender.csv')\n",
    "print(matches.info())"
   ]
  }
 ],
 "metadata": {
  "kernelspec": {
   "display_name": "Python 3 (ipykernel)",
   "language": "python",
   "name": "python3"
  },
  "language_info": {
   "codemirror_mode": {
    "name": "ipython",
    "version": 3
   },
   "file_extension": ".py",
   "mimetype": "text/x-python",
   "name": "python",
   "nbconvert_exporter": "python",
   "pygments_lexer": "ipython3",
   "version": "3.9.7"
  }
 },
 "nbformat": 4,
 "nbformat_minor": 4
}
