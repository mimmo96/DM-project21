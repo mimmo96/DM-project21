{
 "cells": [
  {
   "cell_type": "markdown",
   "id": "fb6f876b",
   "metadata": {},
   "source": [
    "<span>\n",
    "<b>Authors:</b> \n",
    "<a href=\"http://------\">Ornela Danushi </a>\n",
    "<a href=\"http://------\">Gerlando Gramaglia </a>\n",
    "<a href=\"http://------\">Domenico Profumo </a><br/>\n",
    "<b>Python version:</b>  3.x<br/>\n",
    "</span>"
   ]
  },
  {
   "cell_type": "markdown",
   "id": "751f7e04",
   "metadata": {},
   "source": [
    "# Data Cleaning: missing values, wrong values, outliers"
   ]
  },
  {
   "cell_type": "code",
   "execution_count": 1,
   "id": "956d1b0b",
   "metadata": {},
   "outputs": [
    {
     "name": "stdout",
     "output_type": "stream",
     "text": [
      "Requirement already satisfied: pycountry in c:\\users\\gerlando\\anaconda3\\lib\\site-packages (20.7.3)\n"
     ]
    }
   ],
   "source": [
    "#install pycountry\n",
    "!pip install pycountry\n",
    "\n",
    "#import library\n",
    "import pandas as pd\n",
    "import math\n",
    "import numpy as np\n",
    "import pycountry \n",
    "import scipy.stats as stats\n",
    "import matplotlib.pyplot as plt\n",
    "from collections import defaultdict\n",
    "from scipy.stats.stats import pearsonr\n",
    "import seaborn as sn"
   ]
  },
  {
   "cell_type": "markdown",
   "id": "logical-documentary",
   "metadata": {},
   "source": [
    "### Function"
   ]
  },
  {
   "cell_type": "code",
   "execution_count": 2,
   "id": "022c90d4",
   "metadata": {},
   "outputs": [],
   "source": [
    "def detecting_outliers(attr):\n",
    "    q1 = attr.quantile(0.25)\n",
    "    q3 = attr.quantile(0.75)\n",
    "    iqr = q3 - q1\n",
    "    L = q1 - 1.5*iqr\n",
    "    R = q3 + 1.5*iqr\n",
    "    return L, R"
   ]
  },
  {
   "cell_type": "code",
   "execution_count": 3,
   "id": "everyday-reverse",
   "metadata": {},
   "outputs": [],
   "source": [
    "def detecting_outliers_numerical(df, attr, L, R, substitute):\n",
    "  \n",
    "    df_outliers = df[(df[attr]< L) | (df[attr] > R)]\n",
    "    new_df = df.drop(df_outliers.index)\n",
    "\n",
    "    if substitute == 'median':\n",
    "        median = df[attr].median()\n",
    "        print(\"facciamo la mediana\", median)\n",
    "        df_outliers.loc[(df_outliers[attr] < L), attr] = median \n",
    "        df_outliers.loc[(df_outliers[attr] > R), attr] = median\n",
    "    else:\n",
    "        df_outliers.loc[(df_outliers[attr] < L), attr] = L\n",
    "        df_outliers.loc[(df_outliers[attr] > R), attr] = R\n",
    "    \n",
    "    new_df.append(df_outliers)\n",
    "    \n",
    "    return new_df "
   ]
  },
  {
   "cell_type": "markdown",
   "id": "2eae0051",
   "metadata": {
    "tags": []
   },
   "source": [
    "# Missing values\n",
    "\n",
    "Explore the dataset by studying the data quality, their distribution among several different features and the correlations."
   ]
  },
  {
   "cell_type": "code",
   "execution_count": 4,
   "id": "b89625d5",
   "metadata": {
    "scrolled": true
   },
   "outputs": [],
   "source": [
    "df = pd.read_csv('dataset/matches_understanding.csv', index_col = 0)\n",
    "pd.set_option('display.max_columns', None) # to visualize all the columns\n",
    "#pd.options.mode.chained_assignment = None # to avoid the warnings\n",
    "\n",
    "# some auxiliary functions\n",
    "def print_stat(df, s):\n",
    "    print( s+\" null_values:\\t\"+str(df[s].isnull().sum()))\n",
    "    print( df[s].describe() )\n",
    "\n",
    "def print_simple_stat(df, s):\n",
    "    print( s+\" null_values:\\t\"+str(df[s].isnull().sum()))\n",
    "\n",
    "#attr:\n",
    "#df: dataframe\n",
    "#gb_attr: groupby attribute\n",
    "#nan_attr: attribute to fill nan\n",
    "#metric: metric to use (mean, median...)\n",
    "def _fillna_(df, gb_attr, nan_attr, metric):\n",
    "    tmp_df = df[[gb_attr, nan_attr]]\n",
    "    print_stat(tmp_df, nan_attr)\n",
    "    tmp_df[nan_attr].fillna(tmp_df.groupby(gb_attr)[nan_attr].transform(metric), inplace = True)\n",
    "    tmp_df.loc[nan_attr] = round(tmp_df[nan_attr], 0)\n",
    "    print_stat(tmp_df, nan_attr)\n",
    "    return tmp_df"
   ]
  },
  {
   "cell_type": "markdown",
   "id": "3eef7633",
   "metadata": {},
   "source": [
    "\n"
   ]
  },
  {
   "cell_type": "markdown",
   "id": "e2a57408-8efd-4057-a27a-0313980329b7",
   "metadata": {},
   "source": [
    "# Accessing and Improving Data Quality: Handling Missing Values"
   ]
  },
  {
   "cell_type": "markdown",
   "id": "cb1dd5aa-e89d-4bdf-8e88-bf5e86d8964d",
   "metadata": {},
   "source": [
    "Along the previous phases of Data Detection we have encountered several times the fact that there are missing values, for instance through the isnull() pandas function. For some of them we have also shown their amount. We go on now by trying to find a way thanks to which we can justify why we decide to consider a new value as valid or the deletion of it.\n",
    "\n",
    "## Discovering and deleting twin rows\n",
    "The first analysis we are interested in is if we find some rows that are duplicates of others but have more null values while the not null values are in common. For this reason we can delete the rows that result less complete than their twins."
   ]
  },
  {
   "cell_type": "code",
   "execution_count": 5,
   "id": "variable-squad",
   "metadata": {},
   "outputs": [
    {
     "data": {
      "text/html": [
       "<div>\n",
       "<style scoped>\n",
       "    .dataframe tbody tr th:only-of-type {\n",
       "        vertical-align: middle;\n",
       "    }\n",
       "\n",
       "    .dataframe tbody tr th {\n",
       "        vertical-align: top;\n",
       "    }\n",
       "\n",
       "    .dataframe thead th {\n",
       "        text-align: right;\n",
       "    }\n",
       "</style>\n",
       "<table border=\"1\" class=\"dataframe\">\n",
       "  <thead>\n",
       "    <tr style=\"text-align: right;\">\n",
       "      <th></th>\n",
       "      <th>tourney_id</th>\n",
       "      <th>tourney_name</th>\n",
       "      <th>surface</th>\n",
       "      <th>draw_size</th>\n",
       "      <th>tourney_level</th>\n",
       "      <th>tourney_date</th>\n",
       "      <th>match_num</th>\n",
       "      <th>winner_id</th>\n",
       "      <th>winner_entry</th>\n",
       "      <th>winner_name</th>\n",
       "      <th>winner_hand</th>\n",
       "      <th>winner_ht</th>\n",
       "      <th>winner_ioc</th>\n",
       "      <th>winner_age</th>\n",
       "      <th>loser_id</th>\n",
       "      <th>loser_entry</th>\n",
       "      <th>loser_name</th>\n",
       "      <th>loser_hand</th>\n",
       "      <th>loser_ht</th>\n",
       "      <th>loser_ioc</th>\n",
       "      <th>loser_age</th>\n",
       "      <th>score</th>\n",
       "      <th>best_of</th>\n",
       "      <th>round</th>\n",
       "      <th>minutes</th>\n",
       "      <th>w_ace</th>\n",
       "      <th>w_df</th>\n",
       "      <th>w_svpt</th>\n",
       "      <th>w_1stIn</th>\n",
       "      <th>w_1stWon</th>\n",
       "      <th>w_2ndWon</th>\n",
       "      <th>w_SvGms</th>\n",
       "      <th>w_bpSaved</th>\n",
       "      <th>w_bpFaced</th>\n",
       "      <th>l_ace</th>\n",
       "      <th>l_df</th>\n",
       "      <th>l_svpt</th>\n",
       "      <th>l_1stIn</th>\n",
       "      <th>l_1stWon</th>\n",
       "      <th>l_2ndWon</th>\n",
       "      <th>l_SvGms</th>\n",
       "      <th>l_bpSaved</th>\n",
       "      <th>l_bpFaced</th>\n",
       "      <th>winner_rank</th>\n",
       "      <th>winner_rank_points</th>\n",
       "      <th>loser_rank</th>\n",
       "      <th>loser_rank_points</th>\n",
       "      <th>tourney_spectators</th>\n",
       "      <th>tourney_revenue</th>\n",
       "      <th>winner_gender</th>\n",
       "      <th>loser_gender</th>\n",
       "    </tr>\n",
       "  </thead>\n",
       "  <tbody>\n",
       "    <tr>\n",
       "      <th>186075</th>\n",
       "      <td>NaN</td>\n",
       "      <td>NaN</td>\n",
       "      <td>NaN</td>\n",
       "      <td>32.0</td>\n",
       "      <td>NaN</td>\n",
       "      <td>NaN</td>\n",
       "      <td>272.0</td>\n",
       "      <td>NaN</td>\n",
       "      <td>NaN</td>\n",
       "      <td>NaN</td>\n",
       "      <td>NaN</td>\n",
       "      <td>NaN</td>\n",
       "      <td>NED</td>\n",
       "      <td>26.0</td>\n",
       "      <td>203567.0</td>\n",
       "      <td>NaN</td>\n",
       "      <td>NaN</td>\n",
       "      <td>R</td>\n",
       "      <td>NaN</td>\n",
       "      <td>NaN</td>\n",
       "      <td>21.0</td>\n",
       "      <td>7-6(4) 7-5</td>\n",
       "      <td>3.0</td>\n",
       "      <td>NaN</td>\n",
       "      <td>NaN</td>\n",
       "      <td>NaN</td>\n",
       "      <td>NaN</td>\n",
       "      <td>NaN</td>\n",
       "      <td>44.0</td>\n",
       "      <td>29.0</td>\n",
       "      <td>12.0</td>\n",
       "      <td>NaN</td>\n",
       "      <td>3.0</td>\n",
       "      <td>NaN</td>\n",
       "      <td>7.0</td>\n",
       "      <td>3.0</td>\n",
       "      <td>79.0</td>\n",
       "      <td>NaN</td>\n",
       "      <td>32.0</td>\n",
       "      <td>NaN</td>\n",
       "      <td>NaN</td>\n",
       "      <td>1.0</td>\n",
       "      <td>5.0</td>\n",
       "      <td>NaN</td>\n",
       "      <td>NaN</td>\n",
       "      <td>194.0</td>\n",
       "      <td>NaN</td>\n",
       "      <td>NaN</td>\n",
       "      <td>NaN</td>\n",
       "      <td>U</td>\n",
       "      <td>U</td>\n",
       "    </tr>\n",
       "  </tbody>\n",
       "</table>\n",
       "</div>"
      ],
      "text/plain": [
       "       tourney_id tourney_name surface  draw_size tourney_level tourney_date  \\\n",
       "186075        NaN          NaN     NaN       32.0           NaN          NaN   \n",
       "\n",
       "        match_num  winner_id winner_entry winner_name winner_hand  winner_ht  \\\n",
       "186075      272.0        NaN          NaN         NaN         NaN        NaN   \n",
       "\n",
       "       winner_ioc  winner_age  loser_id loser_entry loser_name loser_hand  \\\n",
       "186075        NED        26.0  203567.0         NaN        NaN          R   \n",
       "\n",
       "        loser_ht loser_ioc  loser_age       score  best_of round  minutes  \\\n",
       "186075       NaN       NaN       21.0  7-6(4) 7-5      3.0   NaN      NaN   \n",
       "\n",
       "        w_ace  w_df  w_svpt  w_1stIn  w_1stWon  w_2ndWon  w_SvGms  w_bpSaved  \\\n",
       "186075    NaN   NaN     NaN     44.0      29.0      12.0      NaN        3.0   \n",
       "\n",
       "        w_bpFaced  l_ace  l_df  l_svpt  l_1stIn  l_1stWon  l_2ndWon  l_SvGms  \\\n",
       "186075        NaN    7.0   3.0    79.0      NaN      32.0       NaN      NaN   \n",
       "\n",
       "        l_bpSaved  l_bpFaced  winner_rank  winner_rank_points  loser_rank  \\\n",
       "186075        1.0        5.0          NaN                 NaN       194.0   \n",
       "\n",
       "        loser_rank_points  tourney_spectators  tourney_revenue winner_gender  \\\n",
       "186075                NaN                 NaN              NaN             U   \n",
       "\n",
       "       loser_gender  \n",
       "186075            U  "
      ]
     },
     "execution_count": 5,
     "metadata": {},
     "output_type": "execute_result"
    }
   ],
   "source": [
    "'''\n",
    "print_simple_stat(df, 'tourney_id') #55\n",
    "print_simple_stat(df, 'tourney_name') #25\n",
    "print_simple_stat(df, 'tourney_level') #29\n",
    "print_simple_stat(df, 'tourney_spectators') #27\n",
    "print_simple_stat(df, 'tourney_revenue') #26\n",
    "'''\n",
    "# FIRST ATTEMPT: by putting in relation tourney_id and tourney_name, both having null values, we get several rows. \n",
    "# For this reason we have to be more precise in checking which null values to put simoultaneously\n",
    "#df[ df.tourney_id.isnull() & df.tourney_name.isnull() ] \n",
    "\n",
    "# SECOND ATTEMPT: is found a single row with index 186075. To achieve it we have proven with several attempts seeing which could reduce our range of results.\n",
    "df[ df.tourney_id.isnull() & df.tourney_name.isnull() & df.surface.isnull() & df.tourney_level.isnull() & df.tourney_spectators.isnull() & df.tourney_date.isnull() \n",
    "   & df.winner_name.isnull() & df.loser_name.isnull()]\n",
    "#print( df.loc[186075] )\n"
   ]
  },
  {
   "cell_type": "code",
   "execution_count": 6,
   "id": "structural-cornell",
   "metadata": {},
   "outputs": [
    {
     "data": {
      "text/html": [
       "<div>\n",
       "<style scoped>\n",
       "    .dataframe tbody tr th:only-of-type {\n",
       "        vertical-align: middle;\n",
       "    }\n",
       "\n",
       "    .dataframe tbody tr th {\n",
       "        vertical-align: top;\n",
       "    }\n",
       "\n",
       "    .dataframe thead th {\n",
       "        text-align: right;\n",
       "    }\n",
       "</style>\n",
       "<table border=\"1\" class=\"dataframe\">\n",
       "  <thead>\n",
       "    <tr style=\"text-align: right;\">\n",
       "      <th></th>\n",
       "      <th>tourney_id</th>\n",
       "      <th>tourney_name</th>\n",
       "      <th>surface</th>\n",
       "      <th>draw_size</th>\n",
       "      <th>tourney_level</th>\n",
       "      <th>tourney_date</th>\n",
       "      <th>match_num</th>\n",
       "      <th>winner_id</th>\n",
       "      <th>winner_entry</th>\n",
       "      <th>winner_name</th>\n",
       "      <th>winner_hand</th>\n",
       "      <th>winner_ht</th>\n",
       "      <th>winner_ioc</th>\n",
       "      <th>winner_age</th>\n",
       "      <th>loser_id</th>\n",
       "      <th>loser_entry</th>\n",
       "      <th>loser_name</th>\n",
       "      <th>loser_hand</th>\n",
       "      <th>loser_ht</th>\n",
       "      <th>loser_ioc</th>\n",
       "      <th>loser_age</th>\n",
       "      <th>score</th>\n",
       "      <th>best_of</th>\n",
       "      <th>round</th>\n",
       "      <th>minutes</th>\n",
       "      <th>w_ace</th>\n",
       "      <th>w_df</th>\n",
       "      <th>w_svpt</th>\n",
       "      <th>w_1stIn</th>\n",
       "      <th>w_1stWon</th>\n",
       "      <th>w_2ndWon</th>\n",
       "      <th>w_SvGms</th>\n",
       "      <th>w_bpSaved</th>\n",
       "      <th>w_bpFaced</th>\n",
       "      <th>l_ace</th>\n",
       "      <th>l_df</th>\n",
       "      <th>l_svpt</th>\n",
       "      <th>l_1stIn</th>\n",
       "      <th>l_1stWon</th>\n",
       "      <th>l_2ndWon</th>\n",
       "      <th>l_SvGms</th>\n",
       "      <th>l_bpSaved</th>\n",
       "      <th>l_bpFaced</th>\n",
       "      <th>winner_rank</th>\n",
       "      <th>winner_rank_points</th>\n",
       "      <th>loser_rank</th>\n",
       "      <th>loser_rank_points</th>\n",
       "      <th>tourney_spectators</th>\n",
       "      <th>tourney_revenue</th>\n",
       "      <th>winner_gender</th>\n",
       "      <th>loser_gender</th>\n",
       "    </tr>\n",
       "  </thead>\n",
       "  <tbody>\n",
       "    <tr>\n",
       "      <th>12025</th>\n",
       "      <td>2017-1059</td>\n",
       "      <td>Taipei</td>\n",
       "      <td>Hard</td>\n",
       "      <td>32.0</td>\n",
       "      <td>C</td>\n",
       "      <td>2017-11-13</td>\n",
       "      <td>272.0</td>\n",
       "      <td>201551.0</td>\n",
       "      <td>NaN</td>\n",
       "      <td>Arantxa Rus</td>\n",
       "      <td>L</td>\n",
       "      <td>180.0</td>\n",
       "      <td>NED</td>\n",
       "      <td>26.0</td>\n",
       "      <td>203567.0</td>\n",
       "      <td>NaN</td>\n",
       "      <td>Ipek Soylu</td>\n",
       "      <td>R</td>\n",
       "      <td>NaN</td>\n",
       "      <td>TUR</td>\n",
       "      <td>21.0</td>\n",
       "      <td>7-6(4) 7-5</td>\n",
       "      <td>3.0</td>\n",
       "      <td>R32</td>\n",
       "      <td>101.0</td>\n",
       "      <td>1.0</td>\n",
       "      <td>4.0</td>\n",
       "      <td>66.0</td>\n",
       "      <td>44.0</td>\n",
       "      <td>29.0</td>\n",
       "      <td>12.0</td>\n",
       "      <td>12.0</td>\n",
       "      <td>3.0</td>\n",
       "      <td>6.0</td>\n",
       "      <td>7.0</td>\n",
       "      <td>3.0</td>\n",
       "      <td>79.0</td>\n",
       "      <td>54.0</td>\n",
       "      <td>32.0</td>\n",
       "      <td>11.0</td>\n",
       "      <td>12.0</td>\n",
       "      <td>1.0</td>\n",
       "      <td>5.0</td>\n",
       "      <td>167.0</td>\n",
       "      <td>353.0</td>\n",
       "      <td>194.0</td>\n",
       "      <td>299.0</td>\n",
       "      <td>3535.0</td>\n",
       "      <td>638954.72</td>\n",
       "      <td>F</td>\n",
       "      <td>F</td>\n",
       "    </tr>\n",
       "    <tr>\n",
       "      <th>186075</th>\n",
       "      <td>NaN</td>\n",
       "      <td>NaN</td>\n",
       "      <td>NaN</td>\n",
       "      <td>32.0</td>\n",
       "      <td>NaN</td>\n",
       "      <td>NaN</td>\n",
       "      <td>272.0</td>\n",
       "      <td>NaN</td>\n",
       "      <td>NaN</td>\n",
       "      <td>NaN</td>\n",
       "      <td>NaN</td>\n",
       "      <td>NaN</td>\n",
       "      <td>NED</td>\n",
       "      <td>26.0</td>\n",
       "      <td>203567.0</td>\n",
       "      <td>NaN</td>\n",
       "      <td>NaN</td>\n",
       "      <td>R</td>\n",
       "      <td>NaN</td>\n",
       "      <td>NaN</td>\n",
       "      <td>21.0</td>\n",
       "      <td>7-6(4) 7-5</td>\n",
       "      <td>3.0</td>\n",
       "      <td>NaN</td>\n",
       "      <td>NaN</td>\n",
       "      <td>NaN</td>\n",
       "      <td>NaN</td>\n",
       "      <td>NaN</td>\n",
       "      <td>44.0</td>\n",
       "      <td>29.0</td>\n",
       "      <td>12.0</td>\n",
       "      <td>NaN</td>\n",
       "      <td>3.0</td>\n",
       "      <td>NaN</td>\n",
       "      <td>7.0</td>\n",
       "      <td>3.0</td>\n",
       "      <td>79.0</td>\n",
       "      <td>NaN</td>\n",
       "      <td>32.0</td>\n",
       "      <td>NaN</td>\n",
       "      <td>NaN</td>\n",
       "      <td>1.0</td>\n",
       "      <td>5.0</td>\n",
       "      <td>NaN</td>\n",
       "      <td>NaN</td>\n",
       "      <td>194.0</td>\n",
       "      <td>NaN</td>\n",
       "      <td>NaN</td>\n",
       "      <td>NaN</td>\n",
       "      <td>U</td>\n",
       "      <td>U</td>\n",
       "    </tr>\n",
       "  </tbody>\n",
       "</table>\n",
       "</div>"
      ],
      "text/plain": [
       "       tourney_id tourney_name surface  draw_size tourney_level tourney_date  \\\n",
       "12025   2017-1059       Taipei    Hard       32.0             C   2017-11-13   \n",
       "186075        NaN          NaN     NaN       32.0           NaN          NaN   \n",
       "\n",
       "        match_num  winner_id winner_entry  winner_name winner_hand  winner_ht  \\\n",
       "12025       272.0   201551.0          NaN  Arantxa Rus           L      180.0   \n",
       "186075      272.0        NaN          NaN          NaN         NaN        NaN   \n",
       "\n",
       "       winner_ioc  winner_age  loser_id loser_entry  loser_name loser_hand  \\\n",
       "12025         NED        26.0  203567.0         NaN  Ipek Soylu          R   \n",
       "186075        NED        26.0  203567.0         NaN         NaN          R   \n",
       "\n",
       "        loser_ht loser_ioc  loser_age       score  best_of round  minutes  \\\n",
       "12025        NaN       TUR       21.0  7-6(4) 7-5      3.0   R32    101.0   \n",
       "186075       NaN       NaN       21.0  7-6(4) 7-5      3.0   NaN      NaN   \n",
       "\n",
       "        w_ace  w_df  w_svpt  w_1stIn  w_1stWon  w_2ndWon  w_SvGms  w_bpSaved  \\\n",
       "12025     1.0   4.0    66.0     44.0      29.0      12.0     12.0        3.0   \n",
       "186075    NaN   NaN     NaN     44.0      29.0      12.0      NaN        3.0   \n",
       "\n",
       "        w_bpFaced  l_ace  l_df  l_svpt  l_1stIn  l_1stWon  l_2ndWon  l_SvGms  \\\n",
       "12025         6.0    7.0   3.0    79.0     54.0      32.0      11.0     12.0   \n",
       "186075        NaN    7.0   3.0    79.0      NaN      32.0       NaN      NaN   \n",
       "\n",
       "        l_bpSaved  l_bpFaced  winner_rank  winner_rank_points  loser_rank  \\\n",
       "12025         1.0        5.0        167.0               353.0       194.0   \n",
       "186075        1.0        5.0          NaN                 NaN       194.0   \n",
       "\n",
       "        loser_rank_points  tourney_spectators  tourney_revenue winner_gender  \\\n",
       "12025               299.0              3535.0        638954.72             F   \n",
       "186075                NaN                 NaN              NaN             U   \n",
       "\n",
       "       loser_gender  \n",
       "12025             F  \n",
       "186075            U  "
      ]
     },
     "execution_count": 6,
     "metadata": {},
     "output_type": "execute_result"
    }
   ],
   "source": [
    "# THIRD ATTEMPT: we search for other rows that have as not null values those of the row just identified \n",
    "# by detecting some values is useless since they can be the same for a lot of data such as for instance the draw_size=32 or loser_hand='R' which don't allow us to detect something else \n",
    "# depending from their values\n",
    "# but also for values that could be more unique as match_num=272, loser_id=203567.0 we identify several combinations of different attributes that cannot help\n",
    "#df[ df.loser_age==21.57974 ] #it does not find any row, neither the 186075\n",
    "#df[ (df.winner_ioc=='NED') | (df.winner_age==26.918549) ] #it is not a good combination since it finds a lot of rows\n",
    "\n",
    "df[ (df.loser_rank==194.0) & (df.loser_id==203567.0) ] #it is a good combination of attributes since it finds a unique row, that identified by 12025\n",
    "# we note that the first checked row 186075 has in common with the 12025 row all its non null values and some NaN values too, but for us are important those that are not NaN that have to match\n",
    "# since 12025 is more complete than the other we can decide to drop it out\n",
    "#print( df.loc[12025] )"
   ]
  },
  {
   "cell_type": "code",
   "execution_count": 7,
   "id": "religious-riverside",
   "metadata": {},
   "outputs": [],
   "source": [
    "#drop row with more NaN values\n",
    "df = df.drop(index=186075) "
   ]
  },
  {
   "cell_type": "code",
   "execution_count": 8,
   "id": "6a8ac64d-875e-425b-b4f8-f482732f4ba4",
   "metadata": {},
   "outputs": [],
   "source": [
    "\"\"\"\n",
    "print_simple_stat(df, 'tourney_id') #54\n",
    "print_simple_stat(df, 'tourney_name') #24\n",
    "print_simple_stat(df, 'tourney_level') #28\n",
    "print_simple_stat(df, 'tourney_spectators') #26\n",
    "print_simple_stat(df, 'tourney_revenue') #25\n",
    "\n",
    "# found a single row with this combination of null attributes, 186077\n",
    "df[ df.tourney_id.isnull() & df.tourney_name.isnull() & df.surface.isnull() & df.tourney_level.isnull() & df.tourney_spectators.isnull() & df.tourney_date.isnull() ] \n",
    "df[ (df.winner_name=='Magdalena Frech') & (df.winner_rank==172.0) ] #12027\n",
    "\"\"\"\n",
    "df = df.drop(index=186077) # again we drop the one that is less complete\n",
    "#--------------------------------------------------------------------------------------------------\n",
    "\"\"\"\n",
    "print_simple_stat(df, 'tourney_id') #53\n",
    "print_simple_stat(df, 'tourney_name') #23\n",
    "print_simple_stat(df, 'tourney_level') #27\n",
    "print_simple_stat(df, 'tourney_spectators') #25\n",
    "print_simple_stat(df, 'tourney_revenue') #24\n",
    "\n",
    "df[ df.tourney_id.isnull() & df.tourney_name.isnull() & df.surface.isnull() & df.tourney_level.isnull() & df.tourney_spectators.isnull() & df.l_bpSaved.isnull() ] #186104\n",
    "df[ (df.loser_name=='Carol Zhao') & (df.loser_rank==150.0) ] #12054\n",
    "\"\"\"\n",
    "df = df.drop(index=186104)\n",
    "#--------------------------------------------------------------------------------------------------\n",
    "\"\"\"\n",
    "print_simple_stat(df, 'tourney_id') #52\n",
    "print_simple_stat(df, 'tourney_name') #22\n",
    "print_simple_stat(df, 'tourney_level') #26\n",
    "print_simple_stat(df, 'tourney_spectators') #24\n",
    "print_simple_stat(df, 'tourney_revenue') #23\n",
    "\n",
    "df[ df.tourney_id.isnull() & df.tourney_name.isnull() & df.surface.isnull() & df.tourney_level.isnull() & df.tourney_date.isnull()] #186096\n",
    "df[ (df.loser_id==214544.0) & (df.loser_name=='Aryna Sabalenka') & (df['round']=='R16') & (df.w_df==1.0)]  #12046\n",
    "\"\"\"\n",
    "df = df.drop(index=186096)\n",
    "#--------------------------------------------------------------------------------------------------\n",
    "\"\"\"\n",
    "print_simple_stat(df, 'tourney_id') #51\n",
    "print_simple_stat(df, 'tourney_name') #21\n",
    "print_simple_stat(df, 'tourney_level') #25\n",
    "print_simple_stat(df, 'tourney_spectators') #24\n",
    "print_simple_stat(df, 'tourney_revenue') #23\n",
    "\n",
    "df[ df.tourney_id.isnull() & df.tourney_name.isnull() & df.surface.isnull() & df.tourney_date.isnull() &df.match_num.isnull() & df.winner_hand.isnull()] #186125\n",
    "df[ (df.loser_id==201674.0) & (df.loser_ioc=='UZB') & (df.tourney_level=='C') & (df.winner_name=='Dalila Jakupovic')] #12063\n",
    "\"\"\"\n",
    "df = df.drop(index=186125)\n",
    "#--------------------------------------------------------------------------------------------------\n",
    "\"\"\"\n",
    "print_simple_stat(df, 'tourney_id') #50\n",
    "print_simple_stat(df, 'tourney_name') #20\n",
    "print_simple_stat(df, 'tourney_level') #25\n",
    "print_simple_stat(df, 'tourney_spectators') #23\n",
    "print_simple_stat(df, 'tourney_revenue') #22\n",
    "\n",
    "df[ df.tourney_id.isnull() & df.tourney_name.isnull() & df.surface.isnull() & df.tourney_date.isnull() &df.match_num.isnull() ]#186121\n",
    "df[ (df.loser_name=='Vivian Heisen') & (df.loser_ioc=='GER') & (df.tourney_level=='C') & (df.winner_hand=='R') & (df.w_df==3.0)] #12059\n",
    "\"\"\"\n",
    "df = df.drop(index=186121)\n",
    "#--------------------------------------------------------------------------------------------------\n",
    "\"\"\"\n",
    "print_simple_stat(df, 'tourney_id') #49\n",
    "print_simple_stat(df, 'tourney_name') #19\n",
    "print_simple_stat(df, 'tourney_level') #25\n",
    "print_simple_stat(df, 'tourney_spectators') #23\n",
    "print_simple_stat(df, 'tourney_revenue') #22\n",
    "\n",
    "df[ df.tourney_id.isnull() & df.tourney_name.isnull() & df.surface.isnull() & df.tourney_date.isnull() & df.loser_id.isnull() ] #186082\n",
    "df[ (df.winner_name=='Sabina Sharipova') & (df.winner_ioc=='UZB') & (df.tourney_level=='C') & (df.match_num==246.0) ] #12057\n",
    "\"\"\"\n",
    "df = df.drop(index=186082)\n",
    "#--------------------------------------------------------------------------------------------------\n",
    "\"\"\"\n",
    "print_simple_stat(df, 'tourney_id') #48\n",
    "print_simple_stat(df, 'tourney_name') #18\n",
    "print_simple_stat(df, 'tourney_level') #25\n",
    "print_simple_stat(df, 'tourney_spectators') #23\n",
    "print_simple_stat(df, 'tourney_revenue') #21\n",
    "\n",
    "df[ df.tourney_id.isnull() & df.tourney_name.isnull() & df.surface.isnull() & df.tourney_level.isnull() & df.tourney_spectators.isnull() ] #186108\n",
    "df[ (df.tourney_date=='2017-11-13') & (df.loser_ioc=='KOR') & (df['round']=='Q1') & (df.minutes==91.0) ] #12058\n",
    "\"\"\"\n",
    "df = df.drop(index=186108)\n",
    "#--------------------------------------------------------------------------------------------------\n",
    "\"\"\"\n",
    "print_simple_stat(df, 'tourney_id') #47\n",
    "print_simple_stat(df, 'tourney_name') #17\n",
    "print_simple_stat(df, 'tourney_level') #24\n",
    "print_simple_stat(df, 'tourney_spectators') #22\n",
    "print_simple_stat(df, 'tourney_revenue') #20\n",
    "\n",
    "df[ df.tourney_id.isnull() & df.tourney_name.isnull() & df.surface.isnull() & df.winner_name.isnull() ]#186091\n",
    "df[ (df.tourney_date=='2017-11-13') & (df.winner_hand=='R') & (df.tourney_level=='C') & (df.match_num==288.00) & (df.winner_ht==175.00)] #12041\n",
    "\"\"\"\n",
    "df = df.drop(index=186091)\n",
    "#--------------------------------------------------------------------------------------------------\n",
    "\"\"\"\n",
    "print_simple_stat(df, 'tourney_id') #46\n",
    "print_simple_stat(df, 'tourney_name') #16\n",
    "print_simple_stat(df, 'tourney_level') #24\n",
    "print_simple_stat(df, 'tourney_spectators') #22\n",
    "print_simple_stat(df, 'tourney_revenue') #19\n",
    "\n",
    "df[ df.tourney_id.isnull() & df.tourney_name.isnull() & df.surface.isnull() & df.draw_size.isnull() ]#186119\n",
    "df[ (df.tourney_level=='C') & (df.match_num==246.00) & (df.winner_name=='Sabina Sharipova') ]#12057 and 186107\n",
    "\"\"\"\n",
    "df = df.drop(index=186119)\n",
    "df = df.drop(index=186107)\n",
    "#--------------------------------------------------------------------------------------------------\n",
    "\"\"\"\n",
    "print_simple_stat(df, 'tourney_id') #44\n",
    "print_simple_stat(df, 'tourney_name') #15\n",
    "print_simple_stat(df, 'tourney_level') #24\n",
    "print_simple_stat(df, 'tourney_spectators') #22\n",
    "print_simple_stat(df, 'tourney_revenue') #19\n",
    "\n",
    "df[ df.tourney_id.isnull() & df.tourney_name.isnull() & df.surface.isnull() & df.winner_ht.isnull() ]#186122\n",
    "df[ (df.tourney_level=='C') & (df.tourney_date=='2017-11-13') & (df.winner_name=='Priscilla Hon') ]#186122 -> 12060 and 186127 -> 12065\n",
    "\"\"\"\n",
    "df = df.drop(index=186122)\n",
    "df = df.drop(index=186127)\n",
    "#--------------------------------------------------------------------------------------------------\n",
    "\"\"\"\n",
    "print_simple_stat(df, 'tourney_id') #42\n",
    "print_simple_stat(df, 'tourney_name') #14\n",
    "print_simple_stat(df, 'tourney_level') #24\n",
    "print_simple_stat(df, 'tourney_spectators') #21\n",
    "print_simple_stat(df, 'tourney_revenue') #19\n",
    "\n",
    "df[ df.tourney_id.isnull() & df.tourney_name.isnull() & df.surface.isnull() ]#186126\n",
    "df[ (df.tourney_level=='C') & (df.tourney_date=='2017-11-13') & (df.winner_name=='Vitalia Diatchenko') ]#12064\n",
    "\"\"\"\n",
    "df = df.drop(index=186126)\n",
    "#--------------------------------------------------------------------------------------------------\n",
    "\"\"\"\n",
    "print_simple_stat(df, 'tourney_id') #41\n",
    "print_simple_stat(df, 'tourney_name') #13\n",
    "print_simple_stat(df, 'tourney_level') #24\n",
    "print_simple_stat(df, 'tourney_spectators') #21\n",
    "print_simple_stat(df, 'tourney_revenue') #18\n",
    "\n",
    "df[ df.tourney_id.isnull() & df.tourney_name.isnull() & df.tourney_level.isnull() & df.winner_name.isnull() & df.loser_name.isnull() ]#186123\n",
    "df[ (df.draw_size==32.00) & (df.tourney_date=='2017-11-13') & (df.match_num==250.00) & (df.surface=='Hard') & (df.loser_id==206075.00)]#12061\n",
    "\"\"\"\n",
    "df = df.drop(index=186123)\n",
    "#--------------------------------------------------------------------------------------------------\n",
    "\"\"\"\n",
    "print_simple_stat(df, 'tourney_id') #40\n",
    "print_simple_stat(df, 'tourney_name') #12\n",
    "print_simple_stat(df, 'tourney_level') #23\n",
    "print_simple_stat(df, 'tourney_spectators') #20\n",
    "print_simple_stat(df, 'tourney_revenue') #17\n",
    "\n",
    "df[ df.tourney_id.isnull() & df.tourney_name.isnull() & df.tourney_level.isnull() & df.winner_name.isnull() & df.winner_hand.isnull() ]#186081\n",
    "df[ (df.draw_size==32.00) & (df.tourney_date=='2017-11-13') & (df.surface=='Hard') & (df.winner_ioc=='JPN') & (df.loser_name=='Dalila Jakupovic')]#12031\n",
    "\"\"\"\n",
    "df = df.drop(index=186081)\n",
    "#--------------------------------------------------------------------------------------------------\n",
    "\"\"\"\n",
    "print_simple_stat(df, 'tourney_id') #39\n",
    "print_simple_stat(df, 'tourney_name') #11\n",
    "print_simple_stat(df, 'tourney_level') #22\n",
    "print_simple_stat(df, 'tourney_spectators') #19\n",
    "print_simple_stat(df, 'tourney_revenue') #17\n",
    "\n",
    "df[ df.tourney_id.isnull() & df.tourney_name.isnull() & df.tourney_level.isnull() & df.winner_name.isnull() & df.match_num.isnull() ]#186120\n",
    "df[ (df.surface=='Hard') & (df.winner_hand=='R') & (df.minutes==91.00) & (df.winner_rank==230.00)] #12058\n",
    "\"\"\"\n",
    "df = df.drop(index=186120)\n",
    "#--------------------------------------------------------------------------------------------------\n",
    "\"\"\"\n",
    "print_simple_stat(df, 'tourney_id') #38\n",
    "print_simple_stat(df, 'tourney_name') #10\n",
    "print_simple_stat(df, 'tourney_level') #21\n",
    "print_simple_stat(df, 'tourney_spectators') #18\n",
    "print_simple_stat(df, 'tourney_revenue') #16\n",
    "\n",
    "df[ df.tourney_id.isnull() & df.tourney_name.isnull() & df.tourney_level.isnull() & df.winner_name.isnull() ]#186079\n",
    "df[ (df.surface=='Hard') & (df.match_num==276.00) & (df.winner_hand=='R') & (df.winner_ht==189.00)] #12029\n",
    "\"\"\"\n",
    "df = df.drop(index=186079)\n",
    "#--------------------------------------------------------------------------------------------------\n",
    "\"\"\"\n",
    "print_simple_stat(df, 'tourney_id') #37\n",
    "print_simple_stat(df, 'tourney_name') #9\n",
    "print_simple_stat(df, 'tourney_level') #20\n",
    "print_simple_stat(df, 'tourney_spectators') #18\n",
    "print_simple_stat(df, 'tourney_revenue') #16\n",
    "\n",
    "df[ df.tourney_id.isnull() & df.tourney_name.isnull() & df.tourney_level.isnull() & df.score.isnull() ]#186087\n",
    "df[ (df.surface=='Hard') & (df.draw_size==32.00) & (df.winner_name=='Viktorija Golubic') & (df.loser_id==202693.00)] #12037\n",
    "\"\"\"\n",
    "df = df.drop(index=186087)\n",
    "#--------------------------------------------------------------------------------------------------\n",
    "\"\"\"\n",
    "print_simple_stat(df, 'tourney_id') #36\n",
    "print_simple_stat(df, 'tourney_name') #8\n",
    "print_simple_stat(df, 'tourney_level') #19\n",
    "print_simple_stat(df, 'tourney_spectators') #18\n",
    "print_simple_stat(df, 'tourney_revenue') #15\n",
    "\n",
    "df[ df.tourney_id.isnull() & df.tourney_name.isnull() & df.tourney_level.isnull() & df.minutes.isnull() ]#186102\n",
    "df[ (df.surface=='Hard') & (df.winner_name=='Belinda Bencic') & (df.winner_entry=='WC') & (df.w_1stIn==38.00) ] #12052\n",
    "\"\"\"\n",
    "df = df.drop(index=186102)\n",
    "\n",
    "\"\"\"\n",
    "#when discovered raw 12052, without the last condition, we saw that also 186094 has so much null values\n",
    "df[ (df.surface=='Hard') & (df.winner_name=='Belinda Bencic') & (df.match_num==291.00) ] #12044\n",
    "\"\"\"\n",
    "df = df.drop(index=186094)\n",
    "#--------------------------------------------------------------------------------------------------\n",
    "\"\"\"\n",
    "print_simple_stat(df, 'tourney_id') #34\n",
    "print_simple_stat(df, 'tourney_name') #7\n",
    "print_simple_stat(df, 'tourney_level') #17\n",
    "print_simple_stat(df, 'tourney_spectators') #17\n",
    "print_simple_stat(df, 'tourney_revenue') #14\n",
    "\n",
    "df[ df.tourney_id.isnull() & df.tourney_name.isnull() & df.tourney_level.isnull() & df.draw_size.isnull() ]#186085\n",
    "df[ (df.surface=='Hard') & (df.tourney_date=='2017-11-13') & (df.winner_name=='Luksika Kumkhum') & (df.loser_name=='Ana Bogdan')]#12052\n",
    "\"\"\"\n",
    "df = df.drop(index=186085)\n",
    "#--------------------------------------------------------------------------------------------------\n",
    "\"\"\"\n",
    "print_simple_stat(df, 'tourney_id') #33\n",
    "print_simple_stat(df, 'tourney_name') #6\n",
    "print_simple_stat(df, 'tourney_level') #16\n",
    "print_simple_stat(df, 'tourney_spectators') #17\n",
    "print_simple_stat(df, 'tourney_revenue') #14\n",
    "\n",
    "df[ df.tourney_id.isnull() & df.tourney_name.isnull() & df.tourney_level.isnull() ]#186109\n",
    "df[ (df.surface=='Hard') & (df.draw_size==32.00) & (df.match_num==248.00) & (df.winner_name=='Vitalia Diatchenko')] #12052\n",
    "\"\"\"\n",
    "df = df.drop(index=186109)\n",
    "#--------------------------------------------------------------------------------------------------\n",
    "\"\"\"\n",
    "print_simple_stat(df, 'tourney_id') #32\n",
    "print_simple_stat(df, 'tourney_name') #5\n",
    "print_simple_stat(df, 'tourney_level') #15\n",
    "print_simple_stat(df, 'tourney_spectators') #17\n",
    "print_simple_stat(df, 'tourney_revenue') #14\n",
    "\n",
    "df[ df.tourney_id.isnull() & df.tourney_name.isnull() & df.draw_size.isnull() ]#186086\n",
    "df[ (df.surface=='Hard') & (df.tourney_level=='C') & (df.winner_name=='Marie Bouzkova') & (df.loser_id==201667.0) ] #12036\n",
    "\"\"\"\n",
    "df = df.drop(index=186086)\n",
    "#--------------------------------------------------------------------------------------------------\n",
    "\"\"\"\n",
    "print_simple_stat(df, 'tourney_id') #31\n",
    "print_simple_stat(df, 'tourney_name') #4\n",
    "print_simple_stat(df, 'tourney_level') #15\n",
    "print_simple_stat(df, 'tourney_spectators') #17\n",
    "print_simple_stat(df, 'tourney_revenue') #14\n",
    "\n",
    "df[ df.tourney_id.isnull() & df.tourney_name.isnull() & df.winner_ioc.isnull() ]#186076\n",
    "df[ (df.surface=='Hard') & (df.tourney_level=='C') & (df.tourney_date=='2017-11-13') & (df.loser_id==201518.00) ] #12026\n",
    "\"\"\"\n",
    "df = df.drop(index=186076)\n",
    "#--------------------------------------------------------------------------------------------------\n",
    "\"\"\"\n",
    "print_simple_stat(df, 'tourney_id') #30\n",
    "print_simple_stat(df, 'tourney_name') #3\n",
    "print_simple_stat(df, 'tourney_level') #15\n",
    "print_simple_stat(df, 'tourney_spectators') #17\n",
    "print_simple_stat(df, 'tourney_revenue') #14\n",
    "\n",
    "df[ df.tourney_id.isnull() & df.tourney_name.isnull() & df.match_num.isnull() ]#186101\n",
    "df[ (df.surface=='Hard') & (df.tourney_level=='C') & (df.draw_size==32.00) & (df.winner_ioc=='NED') & (df.loser_id==201648.00)] #12051\n",
    "\"\"\"\n",
    "df = df.drop(index=186101)\n",
    "#--------------------------------------------------------------------------------------------------\n",
    "\"\"\"\n",
    "print_simple_stat(df, 'tourney_id') #29\n",
    "print_simple_stat(df, 'tourney_name') #2\n",
    "print_simple_stat(df, 'tourney_level') #15\n",
    "print_simple_stat(df, 'tourney_spectators') #17\n",
    "print_simple_stat(df, 'tourney_revenue') #13\n",
    "\n",
    "df[ df.tourney_id.isnull() & df.tourney_name.isnull() & df.winner_hand.isnull() ]#186080\n",
    "df[ (df.surface=='Hard') & (df.tourney_level=='C') & (df.draw_size==32.00) & (df.winner_ioc=='KOR') & (df.match_num==277.00) & (df.loser_ioc=='RUS')] #12030\n",
    "\"\"\"\n",
    "df = df.drop(index=186080)\n",
    "#--------------------------------------------------------------------------------------------------\n",
    "\"\"\"\n",
    "print_simple_stat(df, 'tourney_id') #28\n",
    "print_simple_stat(df, 'tourney_name') #1\n",
    "print_simple_stat(df, 'tourney_level') #15\n",
    "print_simple_stat(df, 'tourney_spectators') #16\n",
    "print_simple_stat(df, 'tourney_revenue') #13\n",
    "\n",
    "df[ df.tourney_id.isnull() & df.tourney_name.isnull() ]#186106\n",
    "df[ (df.surface=='Hard') & (df.tourney_level=='C') & (df.draw_size==32.00) & (df.winner_ioc=='SLO') & (df.match_num==245.00) & (df.loser_ioc=='MEX')] #12056\n",
    "\"\"\"\n",
    "df = df.drop(index=186106)\n",
    "#--------------------------------------------------------------------------------------------------\n",
    "\"\"\"\n",
    "print_simple_stat(df, 'tourney_id') #27\n",
    "print_simple_stat(df, 'tourney_name') #0 STOP\n",
    "print_simple_stat(df, 'tourney_level') #15\n",
    "print_simple_stat(df, 'tourney_spectators') #16\n",
    "print_simple_stat(df, 'tourney_revenue') #13\n",
    "\n",
    "df[ df.tourney_id.isnull() & df.surface.isnull() & df.draw_size.isnull()]#[186078, 186092, 186095, 186099, 186113 ... 186118]\n",
    "df[ (df.tourney_name=='Taipei') & (df.tourney_date=='2017-11-13') & (df.winner_entry=='Q') & (df.match_num==275.00) ]#12028\n",
    "\"\"\"\n",
    "df = df.drop(index=186078)\n",
    "#--------------------------------------------------------------------------------------------------\n",
    "\"\"\"\n",
    "print_simple_stat(df, 'tourney_id') #26\n",
    "print_simple_stat(df, 'tourney_level') #14\n",
    "print_simple_stat(df, 'tourney_spectators') #16\n",
    "print_simple_stat(df, 'tourney_revenue') #13\n",
    "\n",
    "df[ df.tourney_id.isnull() & df.surface.isnull() & df.draw_size.isnull()]#[186092, 186095, 186099, 186113 ... 186118]\n",
    "df[ (df.tourney_name=='Taipei') & (df.tourney_date=='2017-11-13') & (df.winner_entry=='WC') & (df.loser_id==203475.00) ]#12054\n",
    "\"\"\"\n",
    "df = df.drop(index=186116)\n",
    "#--------------------------------------------------------------------------------------------------\n",
    "\"\"\"\n",
    "print_simple_stat(df, 'tourney_id') #25\n",
    "print_simple_stat(df, 'tourney_level') #13\n",
    "print_simple_stat(df, 'tourney_spectators') #16\n",
    "print_simple_stat(df, 'tourney_revenue') #13\n",
    "print_simple_stat(df, 'tourney_date') #11\n",
    "\n",
    "df[ df.tourney_id.isnull() & df.surface.isnull() & df.draw_size.isnull()]#[186092, 186099, 186113 ... 186115 186118]\n",
    "df[ (df.tourney_name=='Taipei') & (df.tourney_level=='C') & (df.tourney_date=='2017-11-13') & (df.loser_id==213631.00) ]#12045\n",
    "\"\"\"\n",
    "df = df.drop(index=186095)\n",
    "#--------------------------------------------------------------------------------------------------\n",
    "\"\"\"\n",
    "print_simple_stat(df, 'tourney_id') #24\n",
    "print_simple_stat(df, 'tourney_level') #13\n",
    "print_simple_stat(df, 'tourney_spectators') #16\n",
    "print_simple_stat(df, 'tourney_revenue') #13\n",
    "print_simple_stat(df, 'tourney_date') #11\n",
    "\n",
    "df[ df.tourney_id.isnull() & df.surface.isnull() & df.draw_size.isnull()]#[186092, 186099, 186113 ... 186115 186118]\n",
    "df[ (df.tourney_name=='Taipei') & (df.tourney_level=='C') & (df.tourney_date=='2017-11-13') & (df.loser_name=='Victoria Rodriguez') ]#12056\n",
    "\"\"\"\n",
    "df = df.drop(index=186118)\n",
    "#--------------------------------------------------------------------------------------------------\n",
    "\"\"\"\n",
    "print_simple_stat(df, 'tourney_id') #23\n",
    "print_simple_stat(df, 'tourney_level') #13\n",
    "print_simple_stat(df, 'tourney_spectators') #15\n",
    "print_simple_stat(df, 'tourney_revenue') #13\n",
    "print_simple_stat(df, 'tourney_date') #11\n",
    "\n",
    "df[ df.tourney_id.isnull() & df.surface.isnull() & df.draw_size.isnull()]#[186092, 186099, 186113 ... 186115]\n",
    "df[ (df.tourney_name=='Taipei') & (df.tourney_level=='C') & (df.match_num==253.00) & (df.winner_ioc=='RUS') ]#12064\n",
    "\"\"\"\n",
    "df = df.drop(index=186114)\n",
    "#--------------------------------------------------------------------------------------------------\n",
    "\"\"\"\n",
    "print_simple_stat(df, 'tourney_id') #22\n",
    "print_simple_stat(df, 'tourney_level') #13\n",
    "print_simple_stat(df, 'tourney_spectators') #15\n",
    "print_simple_stat(df, 'tourney_revenue') #13\n",
    "print_simple_stat(df, 'tourney_date') #10\n",
    "\n",
    "df[ df.tourney_id.isnull() & df.surface.isnull() & df.draw_size.isnull()]#[186092, 186099, 186113, 186115]\n",
    "df[ (df.tourney_name=='Taipei') & (df.tourney_date=='2017-11-13') & (df.match_num==296.00) & (df.winner_ioc=='SUI') ]#12049\n",
    "\"\"\"\n",
    "df = df.drop(index=186099)\n",
    "#--------------------------------------------------------------------------------------------------\n",
    "\"\"\"\n",
    "print_simple_stat(df, 'tourney_id') #21\n",
    "print_simple_stat(df, 'tourney_level') #12\n",
    "print_simple_stat(df, 'tourney_spectators') #14\n",
    "print_simple_stat(df, 'tourney_revenue') #13\n",
    "print_simple_stat(df, 'tourney_date') #10\n",
    "\n",
    "df[ df.tourney_id.isnull() & df.surface.isnull() & df.draw_size.isnull()]#[186092, 186113, 186115]\n",
    "df[ (df.tourney_name=='Taipei') & (df.tourney_date=='2017-11-13') & (df.minutes==70.00) & (df.loser_rank==196.00) ]#12063\n",
    "\"\"\"\n",
    "df = df.drop(index=186113)\n",
    "#--------------------------------------------------------------------------------------------------\n",
    "\"\"\"\n",
    "print_simple_stat(df, 'tourney_id') #20\n",
    "print_simple_stat(df, 'tourney_level') #11\n",
    "print_simple_stat(df, 'tourney_spectators') #13\n",
    "print_simple_stat(df, 'tourney_revenue') #13\n",
    "print_simple_stat(df, 'tourney_date') #10\n",
    "\n",
    "df[ df.tourney_id.isnull() & df.surface.isnull() & df.draw_size.isnull()]#[186092, 186115]\n",
    "df[ (df.tourney_name=='Taipei') & (df.match_num==289.00) & (df.winner_name=='Naomi Broady') ]#12042\n",
    "\"\"\"\n",
    "df = df.drop(index=186092)\n",
    "#--------------------------------------------------------------------------------------------------\n",
    "\"\"\"\n",
    "print_simple_stat(df, 'tourney_id') #20\n",
    "print_simple_stat(df, 'tourney_level') #11\n",
    "print_simple_stat(df, 'tourney_spectators') #13\n",
    "print_simple_stat(df, 'tourney_revenue') #13\n",
    "print_simple_stat(df, 'tourney_date') #10\n",
    "\n",
    "df[ df.tourney_id.isnull() & df.surface.isnull() & df.draw_size.isnull()]#186115\n",
    "df[ (df.tourney_name=='Taipei') & (df.loser_id==202614.00) & (df.winner_name=='Priscilla Hon') ]#12065\n",
    "\"\"\"\n",
    "df = df.drop(index=186115)\n",
    "#--------------------------------------------------------------------------------------------------\n",
    "\"\"\"\n",
    "print_simple_stat(df, 'tourney_id') #18\n",
    "print_simple_stat(df, 'tourney_level') #9\n",
    "print_simple_stat(df, 'tourney_spectators') #12\n",
    "print_simple_stat(df, 'tourney_revenue') #12\n",
    "print_simple_stat(df, 'tourney_date') #8\n",
    "\n",
    "df[ df.tourney_id.isnull() & df.surface.isnull() & df.tourney_level.isnull()] #[186083, 186112]\n",
    "df[ (df.tourney_name=='Taipei') & (df.tourney_date=='2017-11-13') & (df.winner_name=='Priscilla Hon') & (df.winner_entry=='Q') ]#12033\n",
    "\"\"\"\n",
    "df = df.drop(index=186083)\n",
    "#--------------------------------------------------------------------------------------------------\n",
    "\"\"\"\n",
    "print_simple_stat(df, 'tourney_id') #17\n",
    "print_simple_stat(df, 'tourney_level') #8\n",
    "print_simple_stat(df, 'tourney_spectators') #12\n",
    "print_simple_stat(df, 'tourney_revenue') #11\n",
    "print_simple_stat(df, 'tourney_date') #8\n",
    "\n",
    "df[ df.tourney_id.isnull() & df.surface.isnull() & df.tourney_level.isnull()] #186112\n",
    "df[ (df.tourney_name=='Taipei') & (df.draw_size==32.00) & (df.winner_name=='Veronika Kudermetova') & (df.match_num==251.00) ]#12062\n",
    "\"\"\"\n",
    "df = df.drop(index=186112)\n",
    "#--------------------------------------------------------------------------------------------------\n",
    "\"\"\"\n",
    "print_simple_stat(df, 'tourney_id') #16\n",
    "print_simple_stat(df, 'tourney_level') #7\n",
    "print_simple_stat(df, 'tourney_spectators') #12\n",
    "print_simple_stat(df, 'tourney_revenue') #10\n",
    "print_simple_stat(df, 'tourney_date') #7\n",
    "\n",
    "df[ df.tourney_id.isnull() & df.surface.isnull() & df.tourney_date.isnull()] #186117\n",
    "df[ (df.tourney_name=='Taipei') & (df.draw_size==32.00) & (df.tourney_level=='C') & (df.loser_id==203576.00) ]#12055, also 186105 satisfies it\n",
    "\"\"\"\n",
    "df = df.drop(index=186117)\n",
    "df = df.drop(index=186105)\n",
    "#--------------------------------------------------------------------------------------------------\n",
    "\"\"\"\n",
    "print_simple_stat(df, 'tourney_id') #14\n",
    "print_simple_stat(df, 'tourney_level') #7\n",
    "print_simple_stat(df, 'tourney_spectators') #10\n",
    "print_simple_stat(df, 'tourney_revenue') #8\n",
    "print_simple_stat(df, 'tourney_date') #6\n",
    "\n",
    "df[ df.tourney_id.isnull() & df.surface.isnull() & df.winner_name.isnull()] #186084\n",
    "df[ (df.tourney_name=='Taipei') & (df.draw_size==32.00) & (df.tourney_level=='C') & (df.loser_name=='Ying Ying Duan') ]#12034\n",
    "\"\"\"\n",
    "df = df.drop(index=186084)\n",
    "#--------------------------------------------------------------------------------------------------\n",
    "\"\"\"\n",
    "print_simple_stat(df, 'tourney_id') #13\n",
    "print_simple_stat(df, 'tourney_level') #7\n",
    "print_simple_stat(df, 'tourney_spectators') #10\n",
    "print_simple_stat(df, 'tourney_revenue') #7\n",
    "print_simple_stat(df, 'tourney_date') #6\n",
    "\n",
    "df[ df.tourney_id.isnull() & df.surface.isnull() ]#186124\n",
    "df[ (df.tourney_name=='Taipei') & (df.draw_size==32.00) & (df.tourney_level=='C') & (df.winner_name=='Veronika Kudermetova') & (df.loser_id==214562.00)]#12062\n",
    "\"\"\"\n",
    "df = df.drop(index=186124)\n",
    "#--------------------------------------------------------------------------------------------------\n",
    "\"\"\"\n",
    "print_simple_stat(df, 'tourney_id') #12\n",
    "print_simple_stat(df, 'tourney_level') #7\n",
    "print_simple_stat(df, 'tourney_spectators') #9\n",
    "print_simple_stat(df, 'tourney_revenue') #6\n",
    "print_simple_stat(df, 'tourney_date') #6\n",
    "\n",
    "df[ df.tourney_id.isnull() & df.draw_size.isnull() & df.tourney_level.isnull() & df.tourney_date.isnull()]#186110\n",
    "df[ (df.tourney_name=='Taipei') & (df.surface=='Hard') & (df.loser_entry=='WC') & (df['round']=='Q1') & (df.winner_rank==231.00)]#12062\n",
    "\"\"\"\n",
    "df = df.drop(index=186110)\n",
    "#--------------------------------------------------------------------------------------------------\n",
    "\"\"\"\n",
    "print_simple_stat(df, 'tourney_id') #11\n",
    "print_simple_stat(df, 'tourney_level') #6\n",
    "print_simple_stat(df, 'tourney_spectators') #8\n",
    "print_simple_stat(df, 'tourney_revenue') #5\n",
    "print_simple_stat(df, 'tourney_date') #5\n",
    "\n",
    "df[ df.tourney_id.isnull() & df.draw_size.isnull() & df.tourney_level.isnull() & df.winner_ioc.isnull()]#186103\n",
    "df[ (df.tourney_name=='Taipei') & (df.surface=='Hard') & (df.tourney_date=='2017-11-13') & (df.match_num==300.00)]#12053\n",
    "\"\"\"\n",
    "df = df.drop(index=186103)\n",
    "#--------------------------------------------------------------------------------------------------\n",
    "\"\"\"\n",
    "print_simple_stat(df, 'tourney_id') #10\n",
    "print_simple_stat(df, 'tourney_level') #5\n",
    "print_simple_stat(df, 'tourney_spectators') #7\n",
    "print_simple_stat(df, 'tourney_revenue') #4\n",
    "print_simple_stat(df, 'tourney_date') #5\n",
    "\n",
    "df[ df.tourney_id.isnull() & df.draw_size.isnull() & df.tourney_level.isnull() ]#186090\n",
    "df[ (df.tourney_name=='Taipei') & (df.surface=='Hard') & (df.tourney_date=='2017-11-13') & (df.match_num==287.00)]#12040\n",
    "\"\"\"\n",
    "df = df.drop(index=186090)\n",
    "#--------------------------------------------------------------------------------------------------\n",
    "\"\"\"\n",
    "print_simple_stat(df, 'tourney_id') #9\n",
    "print_simple_stat(df, 'tourney_level') #4\n",
    "print_simple_stat(df, 'tourney_spectators') #6\n",
    "print_simple_stat(df, 'tourney_revenue') #4\n",
    "print_simple_stat(df, 'tourney_date') #5\n",
    "\n",
    "df[ df.tourney_id.isnull() & df.draw_size.isnull() & df.tourney_date.isnull() ]#186093\n",
    "df[ (df.tourney_name=='Taipei') & (df.surface=='Hard') & (df.tourney_level=='C') & (df.match_num==290.00) & (df.loser_id==203552.00)]#12043\n",
    "\"\"\"\n",
    "df = df.drop(index=186093)\n",
    "#--------------------------------------------------------------------------------------------------\n",
    "\"\"\"\n",
    "print_simple_stat(df, 'tourney_id') #8\n",
    "print_simple_stat(df, 'tourney_level') #4\n",
    "print_simple_stat(df, 'tourney_spectators') #5\n",
    "print_simple_stat(df, 'tourney_revenue') #3\n",
    "print_simple_stat(df, 'tourney_date') #4\n",
    "\n",
    "df[ df.tourney_id.isnull() & df.draw_size.isnull() & df.winner_hand.isnull() ]#186111\n",
    "df[ (df.tourney_name=='Taipei') & (df.surface=='Hard') & (df.tourney_level=='C') & (df.match_num==250.00) & (df.winner_name=='Jacqueline Cako')]#12061\n",
    "\"\"\"\n",
    "df = df.drop(index=186111)\n",
    "#--------------------------------------------------------------------------------------------------\n",
    "\"\"\"\n",
    "print_simple_stat(df, 'tourney_id') #7\n",
    "print_simple_stat(df, 'tourney_level') #4\n",
    "print_simple_stat(df, 'tourney_spectators') #5\n",
    "print_simple_stat(df, 'tourney_revenue') #2\n",
    "print_simple_stat(df, 'tourney_date') #4\n",
    "\n",
    "df[ df.tourney_id.isnull() & df.draw_size.isnull() ]#186100\n",
    "df[ (df.tourney_name=='Taipei') & (df.surface=='Hard') & (df.tourney_level=='C') & (df.tourney_date=='2017-11-13') & (df.winner_name=='Viktorija Golubic') & (df.loser_id==202503.00)]#12050\n",
    "\"\"\"\n",
    "df = df.drop(index=186100)\n",
    "#--------------------------------------------------------------------------------------------------\n",
    "\"\"\"\n",
    "print_simple_stat(df, 'tourney_id') #6\n",
    "print_simple_stat(df, 'tourney_level') #4\n",
    "print_simple_stat(df, 'tourney_spectators') #5\n",
    "print_simple_stat(df, 'tourney_revenue') #2\n",
    "print_simple_stat(df, 'tourney_date') #4\n",
    "\n",
    "df[ df.tourney_id.isnull() & df.winner_ioc.isnull() & df.loser_id.isnull()]#186074\n",
    "df[ (df.tourney_name=='Taipei') & (df.surface=='Hard') & (df.tourney_level=='C') & (df.tourney_date=='2017-11-13') & (df.match_num==271.00) & (df.loser_name=='Sara Errani')]#120524\n",
    "\"\"\"\n",
    "df = df.drop(index=186074)\n",
    "#--------------------------------------------------------------------------------------------------\n",
    "\"\"\"\n",
    "print_simple_stat(df, 'tourney_id') #5\n",
    "print_simple_stat(df, 'tourney_level') #4\n",
    "print_simple_stat(df, 'tourney_spectators') #4\n",
    "print_simple_stat(df, 'tourney_revenue') #1\n",
    "print_simple_stat(df, 'tourney_date') #4\n",
    "\n",
    "df[ df.tourney_id.isnull() & df.winner_ioc.isnull() & df.winner_name.isnull()]#186089\n",
    "df[ (df.tourney_name=='Taipei') & (df.surface=='Hard') & (df.draw_size==32.00)  & (df.match_num==286.00) & (df.loser_id==205815.00)]#120524\n",
    "\"\"\"\n",
    "df = df.drop(index=186089)\n",
    "#--------------------------------------------------------------------------------------------------\n",
    "\"\"\"\n",
    "print_simple_stat(df, 'tourney_id') #4\n",
    "print_simple_stat(df, 'tourney_level') #3\n",
    "print_simple_stat(df, 'tourney_spectators') #3\n",
    "print_simple_stat(df, 'tourney_revenue') #1\n",
    "print_simple_stat(df, 'tourney_date') #3\n",
    "\n",
    "df[ df.tourney_id.isnull() & df.winner_ioc.isnull() ]#186098\n",
    "df[ (df.tourney_name=='Taipei') & (df.surface=='Hard') & (df.draw_size==32.00)  & (df.match_num==295.00) & (df.loser_id==206368.00)]#12048\n",
    "\"\"\"\n",
    "df = df.drop(index=186098)\n",
    "#--------------------------------------------------------------------------------------------------\n",
    "\"\"\"\n",
    "print_simple_stat(df, 'tourney_id') #3\n",
    "print_simple_stat(df, 'tourney_level') #2\n",
    "print_simple_stat(df, 'tourney_spectators') #2\n",
    "print_simple_stat(df, 'tourney_revenue') #0 STOP\n",
    "print_simple_stat(df, 'tourney_date') #2\n",
    "\n",
    "df[ df.tourney_id.isnull() & df.match_num.isnull() ]#186097\n",
    "df[ (df.tourney_name=='Taipei') & (df.surface=='Hard') & (df.draw_size==32.00)  & (df.winner_ioc=='NED') & (df.loser_id==211878.00)]#12047\n",
    "\"\"\"\n",
    "df = df.drop(index=186097)\n",
    "#--------------------------------------------------------------------------------------------------\n",
    "\"\"\"\n",
    "print_simple_stat(df, 'tourney_id') #2\n",
    "print_simple_stat(df, 'tourney_level') #1\n",
    "print_simple_stat(df, 'tourney_spectators') #1\n",
    "print_simple_stat(df, 'tourney_date') #1\n",
    "\n",
    "df[ df.tourney_id.isnull() & df.tourney_level.isnull() ]#186073\n",
    "df[ (df.tourney_name=='Taipei') & (df.surface=='Hard') & (df.draw_size==32.00)  & (df.tourney_date=='2017-11-13') & (df.match_num==270.00)]#12023\n",
    "\"\"\"\n",
    "df = df.drop(index=186073)\n",
    "#--------------------------------------------------------------------------------------------------\n",
    "\"\"\"\n",
    "print_simple_stat(df, 'tourney_id') #1\n",
    "print_simple_stat(df, 'tourney_level') #0 STOP\n",
    "print_simple_stat(df, 'tourney_spectators') #1\n",
    "print_simple_stat(df, 'tourney_date') #1\n",
    "\n",
    "df[ df.tourney_id.isnull() ]#186088\n",
    "df[ (df.tourney_name=='Taipei') & (df.surface=='Hard') & (df.draw_size==32.00)  & (df.tourney_level=='C') & (df.match_num==285.00) & (df.winner_ioc=='BLR')]#12038\n",
    "\"\"\"\n",
    "df = df.drop(index=186088)\n",
    "#--------------------------------------------------------------------------------------------------"
   ]
  },
  {
   "cell_type": "markdown",
   "id": "assumed-allergy",
   "metadata": {},
   "source": [
    "#### Stats on missing values\n",
    "Some missing values are resolved removing twin rows. In particular for some attributes there are no one missing values while for attributes reguarding statistics of matches as aces, number of services and breakpoints they are the same missing values."
   ]
  },
  {
   "cell_type": "code",
   "execution_count": 9,
   "id": "59aa3dee-ff43-493a-9acc-aa71881f8c8d",
   "metadata": {},
   "outputs": [
    {
     "name": "stdout",
     "output_type": "stream",
     "text": [
      "tourney_id null_values:\t0\n",
      "tourney_spectators null_values:\t0\n",
      "tourney_date null_values:\t0\n",
      "match_num null_values:\t0\n",
      "draw_size null_values:\t0\n",
      "round null_values:\t0\n",
      "best_of null_values:\t0\n",
      "surface null_values:\t162\n",
      "minutes null_values:\t104430\n",
      "score null_values:\t169\n",
      "winner_id null_values:\t0\n",
      "loser_id null_values:\t0\n",
      "winner_name null_values:\t0\n",
      "loser_name null_values:\t0\n",
      "winner_ioc null_values:\t0\n",
      "loser_ioc null_values:\t0\n",
      "winner_ht null_values:\t136474\n",
      "loser_ht null_values:\t147438\n",
      "winner_age null_values:\t2828\n",
      "loser_age null_values:\t6501\n",
      "winner_hand null_values:\t16\n",
      "loser_hand null_values:\t71\n",
      "winner_gender null_values:\t0\n",
      "loser_gender null_values:\t0\n",
      "winner_entry null_values:\t159958\n",
      "loser_entry null_values:\t141684\n",
      "winner_rank null_values:\t19372\n",
      "loser_rank null_values:\t35232\n",
      "winner_rank_points null_values:\t19388\n",
      "loser_rank_points null_values:\t35248\n",
      "w_ace null_values:\t103782\n",
      "l_ace null_values:\t103782\n",
      "w_df null_values:\t103782\n",
      "l_df null_values:\t103782\n",
      "w_svpt null_values:\t103782\n",
      "l_svpt null_values:\t103782\n",
      "w_1stIn null_values:\t103782\n",
      "l_1stIn null_values:\t103782\n",
      "w_1stWon null_values:\t103782\n",
      "l_1stWon null_values:\t103782\n",
      "w_2ndWon null_values:\t103782\n",
      "l_2ndWon null_values:\t103782\n",
      "w_SvGms null_values:\t103778\n",
      "l_SvGms null_values:\t103778\n",
      "w_bpSaved null_values:\t103782\n",
      "l_bpSaved null_values:\t103782\n",
      "w_bpFaced null_values:\t103782\n",
      "l_bpFaced null_values:\t103782\n"
     ]
    }
   ],
   "source": [
    "#the results of NaN values, first and after twin rows deletion, are left commented  \n",
    "print_simple_stat(df, 'tourney_id') #0 STOP\n",
    "print_simple_stat(df, 'tourney_spectators') #0 STOP\n",
    "print_simple_stat(df, 'tourney_date') #0 STOP\n",
    "\n",
    "#Matches\n",
    "print_simple_stat(df, 'match_num') #27 --> 0 STOP\n",
    "print_simple_stat(df, 'draw_size') #29 --> 0 STOP\n",
    "print_simple_stat(df, 'round') #30 --> 0 STOP\n",
    "print_simple_stat(df, 'best_of') #29 --> 0 STOP\n",
    "\n",
    "print_simple_stat(df, 'surface') #188 --> 162\n",
    "print_simple_stat(df, 'minutes') #104468 --> 104430\n",
    "print_simple_stat(df, 'score') #199 --> 169\n",
    "\n",
    "# with the ones remained different from 0 we cannot discover single rows like we did till now, \n",
    "# for this we have to consider also the attributes of the Players group\n",
    "\n",
    "#Players\n",
    "print_simple_stat(df, 'winner_id') #55 --> 0 STOP\n",
    "print_simple_stat(df, 'loser_id') #28 --> 0 STOP\n",
    "print_simple_stat(df, 'winner_name') #27 --> 0 STOP\n",
    "print_simple_stat(df, 'loser_name') #31 --> 0 STOP\n",
    "print_simple_stat(df, 'winner_ioc') #29 --> 0 STOP\n",
    "print_simple_stat(df, 'loser_ioc') #26  --> 0 STOP\n",
    "\n",
    "print_simple_stat(df, 'winner_ht') #136787 --> 136474\n",
    "print_simple_stat(df, 'loser_ht') #147780 --> 147438\n",
    "print_simple_stat(df, 'winner_age') #2853 --> 2828\n",
    "print_simple_stat(df, 'loser_age') #6538 --> 6501\n",
    "print_simple_stat(df, 'winner_hand') # 46 --> 16\n",
    "print_simple_stat(df, 'loser_hand') #98 --> 71\n",
    "print_simple_stat(df, 'winner_gender') #2704 --> 2677\n",
    "print_simple_stat(df, 'loser_gender') #2129 --> 2098\n",
    "print_simple_stat(df, 'winner_entry') #160301 --> 159958\n",
    "print_simple_stat(df, 'loser_entry') #141974 --> 141684\n",
    "print_simple_stat(df, 'winner_rank') #19409 --> 19372\n",
    "print_simple_stat(df, 'loser_rank') #35283 --> 35232\n",
    "print_simple_stat(df, 'winner_rank_points') #19427 --> 19388\n",
    "print_simple_stat(df, 'loser_rank_points') #35300 --> 35248\n",
    "\n",
    "# while the following have achieved the same values of --> 103782\n",
    "\n",
    "print_simple_stat(df, 'w_ace') #103818\n",
    "print_simple_stat(df, 'l_ace') #103815 \n",
    "print_simple_stat(df, 'w_df') #103816\n",
    "print_simple_stat(df, 'l_df') #103809 \n",
    "print_simple_stat(df, 'w_svpt') #103818\n",
    "print_simple_stat(df, 'l_svpt') #103813 \n",
    "print_simple_stat(df, 'w_1stIn') #103818\n",
    "print_simple_stat(df, 'l_1stIn') #103824 \n",
    "print_simple_stat(df, 'w_1stWon') #103816\n",
    "print_simple_stat(df, 'l_1stWon') #103817\n",
    "print_simple_stat(df, 'w_2ndWon') #103819\n",
    "print_simple_stat(df, 'l_2ndWon') #103816 \n",
    "print_simple_stat(df, 'w_SvGms') #103817\n",
    "print_simple_stat(df, 'l_SvGms') #103810 \n",
    "print_simple_stat(df, 'w_bpSaved') #103813\n",
    "print_simple_stat(df, 'l_bpSaved') #103817 \n",
    "print_simple_stat(df, 'w_bpFaced') #103816\n",
    "print_simple_stat(df, 'l_bpFaced') #103822 "
   ]
  },
  {
   "cell_type": "markdown",
   "id": "fabulous-mineral",
   "metadata": {},
   "source": [
    "###### Notice that the following attributes not only have the same amount of NaN but also all missing values are present in the same rows."
   ]
  },
  {
   "cell_type": "code",
   "execution_count": 10,
   "id": "plastic-garden",
   "metadata": {},
   "outputs": [
    {
     "name": "stdout",
     "output_type": "stream",
     "text": [
      "w_ace null_values:\t103782\n",
      "l_ace null_values:\t103782\n",
      "w_df null_values:\t103782\n",
      "l_df null_values:\t103782\n",
      "w_svpt null_values:\t103782\n",
      "l_svpt null_values:\t103782\n",
      "w_1stIn null_values:\t103782\n",
      "l_1stIn null_values:\t103782\n",
      "w_1stWon null_values:\t103782\n",
      "l_1stWon null_values:\t103782\n",
      "w_2ndWon null_values:\t103782\n",
      "l_2ndWon null_values:\t103782\n",
      "w_SvGms null_values:\t103778\n",
      "l_SvGms null_values:\t103778\n",
      "w_bpSaved null_values:\t103782\n",
      "l_bpSaved null_values:\t103782\n",
      "w_bpFaced null_values:\t103782\n",
      "l_bpFaced null_values:\t103782\n"
     ]
    }
   ],
   "source": [
    "dataf = df[df['w_ace'].isna()]\n",
    "                                     #NaN first removing twin rows\n",
    "print_simple_stat(dataf, 'w_ace')    #103818\n",
    "print_simple_stat(dataf, 'l_ace')    #103815 \n",
    "print_simple_stat(dataf, 'w_df')     #103816\n",
    "print_simple_stat(dataf, 'l_df')     #103809 \n",
    "print_simple_stat(dataf, 'w_svpt')   #103818\n",
    "print_simple_stat(dataf, 'l_svpt')   #103813 \n",
    "print_simple_stat(dataf, 'w_1stIn')  #103818\n",
    "print_simple_stat(dataf, 'l_1stIn')  #103824 \n",
    "print_simple_stat(dataf, 'w_1stWon') #103816\n",
    "print_simple_stat(dataf, 'l_1stWon') #103817\n",
    "print_simple_stat(dataf, 'w_2ndWon') #103819\n",
    "print_simple_stat(dataf, 'l_2ndWon') #103816 \n",
    "print_simple_stat(dataf, 'w_SvGms')  #103817\n",
    "print_simple_stat(dataf, 'l_SvGms')  #103810 \n",
    "print_simple_stat(dataf, 'w_bpSaved')#103813\n",
    "print_simple_stat(dataf, 'l_bpSaved')#103817 \n",
    "print_simple_stat(dataf, 'w_bpFaced')#103816\n",
    "print_simple_stat(dataf, 'l_bpFaced')#103822 "
   ]
  },
  {
   "cell_type": "markdown",
   "id": "450e02fc-37e2-4132-a851-8d3df4833479",
   "metadata": {},
   "source": [
    "#### w_SvGms and l_SvGms\n",
    "First attempt was with interpolation that is commented now since there is a more efficient solution to resolve missing values of SvGms: in a tennis match, players alternate the service, so a player serves about an half of sets. Summing score, the total number of sets played are obtained. Also a new attribute SvGms are created and deletes w_SvGms and l_SvGms because they are strongly correletad."
   ]
  },
  {
   "cell_type": "code",
   "execution_count": 11,
   "id": "f32d0f42-8758-4007-8fcd-0729466edb50",
   "metadata": {
    "scrolled": true,
    "tags": []
   },
   "outputs": [],
   "source": [
    "#FIRST ATTEMPT: RESOLVE NaN WITH INTERPOLATION                        NaN\n",
    "#print_simple_stat(df, 'w_SvGms')                                 #103817\n",
    "#print_simple_stat(df, 'l_SvGms')                                 #103810 \n",
    "#df_SvGms_linear = df[['w_SvGms', 'l_SvGms']]\n",
    "#print(df_SvGms_linear.describe())\n",
    "\n",
    "#df_SvGms_linear = df_SvGms_linear.interpolate(method='linear')\n",
    "#print_simple_stat(df_SvGms_linear, 'w_SvGms')                         #0\n",
    "#print_simple_stat(df_SvGms_linear, 'l_SvGms')                         #0\n",
    "#print(df_SvGms_linear.describe())\n",
    "\n",
    "#df_SvGms_polynomial = df[['w_SvGms', 'l_SvGms']].interpolate(method='polynomial', order=2)\n",
    "#print_simple_stat(df_SvGms_polynomial, 'w_SvGms') \n",
    "#print_simple_stat(df_SvGms_polynomial, 'l_SvGms') \n",
    "#print(df_SvGms_polynomial.describe())\n",
    "\n",
    "# the linear interpolation does the most working fitting\n",
    "#df[['w_SvGms', 'l_SvGms']] = df_SvGms_linear"
   ]
  },
  {
   "cell_type": "code",
   "execution_count": 12,
   "id": "07aa4f6c-f2c9-4e5b-90fd-b074a969870b",
   "metadata": {},
   "outputs": [],
   "source": [
    "#find the number of sets played in each match\n",
    "score = df.score.replace( {'[(]\\d[)]' : '',\n",
    "                           '[(]\\d\\d[)]' : '',\n",
    "                           '\\[.' : '',\n",
    "                           '-' : ' ',\n",
    "                           '[&a-zA-z\\/,;]' : '',\n",
    "                          }, \n",
    "                         regex = True)\n",
    "score.dropna(inplace = True)\n",
    "score = score.apply(lambda x: [int(word) for word in x.split() if word.isdigit()])\n",
    "score = score.apply(lambda x: sum(x))\n",
    "score = pd.DataFrame(score)\n",
    "score.set_axis(['SvGms'], axis = 1, inplace = True)\n",
    "#create the new attribute SvGms and delete w_SvGms and l_SvGms\n",
    "df = pd.merge(df, score, how = 'left', left_index=True, right_index=True)\n",
    "del df['w_SvGms']\n",
    "del df['l_SvGms']"
   ]
  },
  {
   "cell_type": "markdown",
   "id": "1f61a440-0880-4223-a069-9d4318c7e2fe",
   "metadata": {},
   "source": [
    "### w_svpt w_1stIn and  l_svpt l_1stIn\n",
    "Try to discover values of svpt and 1stIn using interpolation with SvGms"
   ]
  },
  {
   "cell_type": "code",
   "execution_count": 13,
   "id": "5d7c13e5-c3f7-4d3b-97e8-9f32b702ed85",
   "metadata": {
    "scrolled": true,
    "tags": []
   },
   "outputs": [
    {
     "name": "stdout",
     "output_type": "stream",
     "text": [
      "w_svpt null_values:\t103782\n",
      "w_1stIn null_values:\t103782\n",
      "             w_svpt       w_1stIn          SvGms\n",
      "count  81982.000000  81982.000000  185595.000000\n",
      "mean      71.297004     44.270901      21.147132\n",
      "std       25.530921     16.950740       6.797639\n",
      "min        0.000000      0.000000       0.000000\n",
      "25%       53.000000     33.000000      16.000000\n",
      "50%       67.000000     42.000000      20.000000\n",
      "75%       87.000000     54.000000      26.000000\n",
      "max     1957.000000   1330.000000      99.000000\n",
      "w_svpt null_values:\t0\n",
      "w_1stIn null_values:\t0\n",
      "              w_svpt        w_1stIn          SvGms\n",
      "count  185764.000000  185764.000000  185764.000000\n",
      "mean       69.561850      45.608977      21.147410\n",
      "std        21.711929      14.726656       6.795732\n",
      "min         0.000000       0.000000       0.000000\n",
      "25%        54.000000      35.000000      16.000000\n",
      "50%        62.735412      42.000000      20.000000\n",
      "75%        86.000000      61.000000      26.000000\n",
      "max      1957.000000    1330.000000      99.000000\n",
      "w_svpt null_values:\t8569\n",
      "w_1stIn null_values:\t8569\n",
      "              w_svpt        w_1stIn          SvGms\n",
      "count  177195.000000  177195.000000  185764.000000\n",
      "mean   -13077.959298   -4506.936581      21.147305\n",
      "std     81571.121355   64944.724042       6.802717\n",
      "min   -223244.929204 -149637.364416      -1.864189\n",
      "25%    -35820.811281   -7721.450594      16.000000\n",
      "50%        59.000000      42.000000      20.000000\n",
      "75%       103.000000    8039.571250      26.000000\n",
      "max    216057.043555  152532.274971      99.000000\n",
      "l_svpt null_values:\t103782\n",
      "l_1stIn null_values:\t103782\n",
      "             l_svpt       l_1stIn          SvGms\n",
      "count  81982.000000  81982.000000  185595.000000\n",
      "mean      73.573297     44.565112      21.147132\n",
      "std       24.996130     16.777904       6.797639\n",
      "min        0.000000      0.000000       0.000000\n",
      "25%       56.000000     33.000000      16.000000\n",
      "50%       69.000000     42.000000      20.000000\n",
      "75%       88.000000     54.000000      26.000000\n",
      "max     1672.000000    893.000000      99.000000\n",
      "l_svpt null_values:\t0\n",
      "l_1stIn null_values:\t0\n",
      "              l_svpt        l_1stIn          SvGms\n",
      "count  185764.000000  185764.000000  185764.000000\n",
      "mean       71.983492      43.636256      21.147410\n",
      "std        19.846898      13.183410       6.795732\n",
      "min         0.000000       0.000000       0.000000\n",
      "25%        58.445987      36.690325      16.000000\n",
      "50%        67.625011      41.788049      20.000000\n",
      "75%        83.140433      51.368947      26.000000\n",
      "max      1672.000000     893.000000      99.000000\n",
      "l_svpt null_values:\t8569\n",
      "l_1stIn null_values:\t8569\n",
      "              w_svpt        w_1stIn          SvGms\n",
      "count  177195.000000  177195.000000  185764.000000\n",
      "mean   -13077.959298   -4506.936581      21.147305\n",
      "std     81571.121355   64944.724042       6.802717\n",
      "min   -223244.929204 -149637.364416      -1.864189\n",
      "25%    -35820.811281   -7721.450594      16.000000\n",
      "50%        59.000000      42.000000      20.000000\n",
      "75%       103.000000    8039.571250      26.000000\n",
      "max    216057.043555  152532.274971      99.000000\n"
     ]
    }
   ],
   "source": [
    "#we try different methods of interpolation: linear and polynomial\n",
    "#let's see the distribution before interpolation\n",
    "print_simple_stat(df, 'w_svpt') #103818\n",
    "print_simple_stat(df, 'w_1stIn') #103818\n",
    "#print_simple_stat(df, 'w_1stWon') #103816\n",
    "df_linear = df[['w_svpt', 'w_1stIn', 'SvGms']]\n",
    "print(df_linear.describe())\n",
    "\n",
    "#interpolate and see how change distribution\n",
    "df_linear = df_linear.interpolate(method='linear') #linear interpolation\n",
    "print_simple_stat(df_linear, 'w_svpt') #0\n",
    "print_simple_stat(df_linear, 'w_1stIn') #0\n",
    "#print_simple_stat(df_linear, 'w_1stWon') #0\n",
    "print(df_linear.describe())\n",
    "df_polynomial = df[['w_svpt', 'w_1stIn', 'SvGms']].interpolate(method='polynomial', order=2) #polynomial\n",
    "print_simple_stat(df_polynomial, 'w_svpt') \n",
    "print_simple_stat(df_polynomial, 'w_1stIn') \n",
    "#print_simple_stat(df_polynomial, 'w_1stWon') \n",
    "print(df_polynomial.describe())\n",
    "print_simple_stat(df, 'l_svpt') #103813 \n",
    "print_simple_stat(df, 'l_1stIn') #103824 \n",
    "#print_simple_stat(df, 'l_1stWon') #103817\n",
    "df_linear2 = df[['l_svpt', 'l_1stIn', 'SvGms']]\n",
    "print(df_linear2.describe())\n",
    "df_linear2 = df_linear2.interpolate(method='linear')\n",
    "print_simple_stat(df_linear2, 'l_svpt') #0\n",
    "print_simple_stat(df_linear2, 'l_1stIn') #0\n",
    "#print_simple_stat(df_linear2, 'l_1stWon') #0\n",
    "print(df_linear2.describe())\n",
    "df_polynomial2 = df[['l_svpt', 'l_1stIn', 'SvGms']].interpolate(method='polynomial', order=2)\n",
    "print_simple_stat(df_polynomial2, 'l_svpt') \n",
    "print_simple_stat(df_polynomial2, 'l_1stIn') \n",
    "#print_simple_stat(df_polynomial2, 'l_1stWon') \n",
    "print(df_polynomial.describe())\n",
    "\n",
    "# the linear interpolation does the most working fitting\n",
    "df[['w_svpt', 'w_1stIn', 'SvGms']] = df_linear\n",
    "df[['l_svpt', 'l_1stIn', 'SvGms']] = df_linear2 \n",
    "\n",
    "#take only integer part\n",
    "df[['w_svpt', 'w_1stIn']], rest = divmod(df[['w_svpt', 'w_1stIn']], 1)\n",
    "df[['l_svpt', 'l_1stIn']], rest = divmod(df[['l_svpt', 'l_1stIn']], 1) "
   ]
  },
  {
   "cell_type": "markdown",
   "id": "66a1c630-5e7c-41f1-b989-80abc6221abc",
   "metadata": {},
   "source": [
    "### breakpoints \n",
    "First attempt: try to handle missing values with interpolation, but because if in a row if one of attr is NaN and also the other is NaN and this solution is not helpful. So breakpoints are resolved grouping by name, missing values are substituted with mean or median according to the more closed standard deviation.    "
   ]
  },
  {
   "cell_type": "code",
   "execution_count": 14,
   "id": "93e66ab7-0757-4ac8-b9b0-2b6f15cfd169",
   "metadata": {
    "tags": []
   },
   "outputs": [
    {
     "name": "stdout",
     "output_type": "stream",
     "text": [
      "w_bpSaved null_values:\t103782\n",
      "count    81982.000000\n",
      "mean         3.538411\n",
      "std          3.108513\n",
      "min          0.000000\n",
      "25%          1.000000\n",
      "50%          3.000000\n",
      "75%          5.000000\n",
      "max        209.000000\n",
      "Name: w_bpSaved, dtype: float64\n",
      "w_bpSaved null_values:\t55143\n",
      "count    130622.000000\n",
      "mean          3.783352\n",
      "std           2.670199\n",
      "min           0.000000\n",
      "25%           2.000000\n",
      "50%           3.800000\n",
      "75%           5.000000\n",
      "max         209.000000\n",
      "Name: w_bpSaved, dtype: float64\n",
      "w_bpSaved null_values:\t103782\n",
      "count    81982.000000\n",
      "mean         3.538411\n",
      "std          3.108513\n",
      "min          0.000000\n",
      "25%          1.000000\n",
      "50%          3.000000\n",
      "75%          5.000000\n",
      "max        209.000000\n",
      "Name: w_bpSaved, dtype: float64\n"
     ]
    },
    {
     "name": "stderr",
     "output_type": "stream",
     "text": [
      "C:\\Users\\Gerlando\\anaconda3\\lib\\site-packages\\pandas\\core\\generic.py:6392: SettingWithCopyWarning: \n",
      "A value is trying to be set on a copy of a slice from a DataFrame\n",
      "\n",
      "See the caveats in the documentation: https://pandas.pydata.org/pandas-docs/stable/user_guide/indexing.html#returning-a-view-versus-a-copy\n",
      "  return self._update_inplace(result)\n",
      "C:\\Users\\Gerlando\\anaconda3\\lib\\site-packages\\pandas\\core\\indexing.py:723: SettingWithCopyWarning: \n",
      "A value is trying to be set on a copy of a slice from a DataFrame\n",
      "\n",
      "See the caveats in the documentation: https://pandas.pydata.org/pandas-docs/stable/user_guide/indexing.html#returning-a-view-versus-a-copy\n",
      "  iloc._setitem_with_indexer(indexer, value, self.name)\n"
     ]
    },
    {
     "name": "stdout",
     "output_type": "stream",
     "text": [
      "w_bpSaved null_values:\t55143\n",
      "count    130622.000000\n",
      "mean          3.635647\n",
      "std           2.678501\n",
      "min           0.000000\n",
      "25%           2.000000\n",
      "50%           3.000000\n",
      "75%           5.000000\n",
      "max         209.000000\n",
      "Name: w_bpSaved, dtype: float64\n",
      "w_bpFaced null_values:\t103782\n",
      "count    81982.000000\n",
      "mean         5.404137\n",
      "std          4.204083\n",
      "min          0.000000\n",
      "25%          2.000000\n",
      "50%          5.000000\n",
      "75%          8.000000\n",
      "max        266.000000\n",
      "Name: w_bpFaced, dtype: float64\n",
      "w_bpFaced null_values:\t55143\n",
      "count    130622.000000\n",
      "mean          5.981503\n",
      "std           3.708298\n",
      "min           0.000000\n",
      "25%           3.000000\n",
      "50%           6.000000\n",
      "75%           8.000000\n",
      "max         266.000000\n",
      "Name: w_bpFaced, dtype: float64\n",
      "w_bpFaced null_values:\t103782\n",
      "count    81982.000000\n",
      "mean         5.404137\n",
      "std          4.204083\n",
      "min          0.000000\n",
      "25%          2.000000\n",
      "50%          5.000000\n",
      "75%          8.000000\n",
      "max        266.000000\n",
      "Name: w_bpFaced, dtype: float64\n",
      "w_bpFaced null_values:\t55143\n",
      "count    130622.000000\n",
      "mean          5.822786\n",
      "std           3.706705\n",
      "min           0.000000\n",
      "25%           3.000000\n",
      "50%           5.500000\n",
      "75%           8.000000\n",
      "max         266.000000\n",
      "Name: w_bpFaced, dtype: float64\n",
      "l_bpSaved null_values:\t103782\n",
      "count    81982.000000\n",
      "mean         4.658608\n",
      "std          3.148033\n",
      "min          0.000000\n",
      "25%          2.000000\n",
      "50%          4.000000\n",
      "75%          6.000000\n",
      "max        120.000000\n",
      "Name: l_bpSaved, dtype: float64\n",
      "l_bpSaved null_values:\t56826\n",
      "count    128939.000000\n",
      "mean          4.718438\n",
      "std           2.678056\n",
      "min           0.000000\n",
      "25%           3.000000\n",
      "50%           4.691057\n",
      "75%           6.000000\n",
      "max         120.000000\n",
      "Name: l_bpSaved, dtype: float64\n",
      "l_bpSaved null_values:\t103782\n",
      "count    81982.000000\n",
      "mean         4.658608\n",
      "std          3.148033\n",
      "min          0.000000\n",
      "25%          2.000000\n",
      "50%          4.000000\n",
      "75%          6.000000\n",
      "max        120.000000\n",
      "Name: l_bpSaved, dtype: float64\n",
      "l_bpSaved null_values:\t56826\n",
      "count    128939.000000\n",
      "mean          4.607946\n",
      "std           2.691364\n",
      "min           0.000000\n",
      "25%           3.000000\n",
      "50%           4.000000\n",
      "75%           6.000000\n",
      "max         120.000000\n",
      "Name: l_bpSaved, dtype: float64\n",
      "l_bpFaced null_values:\t103782\n",
      "count    81982.000000\n",
      "mean         8.864238\n",
      "std          3.967422\n",
      "min          0.000000\n",
      "25%          6.000000\n",
      "50%          8.000000\n",
      "75%         11.000000\n",
      "max        190.000000\n",
      "Name: l_bpFaced, dtype: float64\n",
      "l_bpFaced null_values:\t56826\n",
      "count    128939.000000\n",
      "mean          9.324294\n",
      "std           3.415781\n",
      "min           0.000000\n",
      "25%           7.000000\n",
      "50%           9.351852\n",
      "75%          11.000000\n",
      "max         190.000000\n",
      "Name: l_bpFaced, dtype: float64\n",
      "l_bpFaced null_values:\t103782\n",
      "count    81982.000000\n",
      "mean         8.864238\n",
      "std          3.967422\n",
      "min          0.000000\n",
      "25%          6.000000\n",
      "50%          8.000000\n",
      "75%         11.000000\n",
      "max        190.000000\n",
      "Name: l_bpFaced, dtype: float64\n",
      "l_bpFaced null_values:\t56826\n",
      "count    128939.000000\n",
      "mean          9.213046\n",
      "std           3.407601\n",
      "min           0.000000\n",
      "25%           7.000000\n",
      "50%           9.000000\n",
      "75%          11.000000\n",
      "max         190.000000\n",
      "Name: l_bpFaced, dtype: float64\n"
     ]
    }
   ],
   "source": [
    "\"\"\"\n",
    "print_simple_stat(df, 'w_bpSaved') #103813\n",
    "print_simple_stat(df, 'w_bpFaced') #103816\n",
    "df_linear = df[['w_bpSaved', 'w_bpFaced']]\n",
    "print(df_linear.describe())\n",
    "df_linear = df_linear.interpolate(method='linear')\n",
    "print_simple_stat(df_linear, 'w_bpSaved') #0\n",
    "print_simple_stat(df_linear, 'w_bpFaced') #0\n",
    "print(df_linear.describe())\n",
    "df_polynomial = df[['w_bpSaved', 'w_bpFaced']].interpolate(method='polynomial', order=2)\n",
    "print_simple_stat(df_polynomial, 'w_bpSaved') #\n",
    "print_simple_stat(df_polynomial, 'w_bpFaced') #\n",
    "print(df_polynomial.describe())\n",
    "\n",
    "print_simple_stat(df, 'l_bpSaved') #103817\n",
    "print_simple_stat(df, 'l_bpFaced') #103822 \n",
    "df_linear2 = df[['l_bpSaved', 'l_bpFaced']]\n",
    "print(df_linear2.describe())\n",
    "df_linear2 = df_linear2.interpolate(method='linear')\n",
    "print_simple_stat(df_linear2, 'l_bpSaved') #0\n",
    "print_simple_stat(df_linear2, 'l_bpFaced') #0\n",
    "print(df_linear2.describe())\n",
    "df_polynomial2 = df[['l_bpSaved', 'l_bpFaced']].interpolate(method='polynomial', order=2)\n",
    "print_simple_stat(df_polynomial2, 'l_bpSaved') #\n",
    "print_simple_stat(df_polynomial2, 'l_bpFaced') #\n",
    "print(df_polynomial2.describe())\n",
    "\n",
    "# the linear interpolation does the most working fitting\n",
    "df[['w_bpSaved', 'w_bpFaced']] = df_linear \n",
    "df[['l_bpSaved', 'l_bpFaced']] = df_linear2\n",
    "\n",
    "df[['w_bpSaved', 'w_bpFaced']], rest = divmod(df[['w_bpSaved', 'w_bpFaced']], 1)\n",
    "df[['l_bpSaved', 'l_bpFaced']], rest = divmod(df[['l_bpSaved', 'l_bpFaced']], 1) \n",
    "\"\"\"\n",
    "\n",
    "winner_bpSaved_mean = _fillna_(df, 'winner_name', 'w_bpSaved', 'mean') #\n",
    "winner_bpSaved_median = _fillna_(df, 'winner_name', 'w_bpSaved', 'median') #\n",
    "winner_bpFaced_mean = _fillna_(df, 'winner_name', 'w_bpFaced', 'mean') #\n",
    "winner_bpFaced_median = _fillna_(df, 'winner_name', 'w_bpFaced', 'median') #\n",
    "\n",
    "# since the deviation standard of the median is less far than that achieved by the mean\n",
    "# then we choose to transform with the median\n",
    "df['w_bpSaved'] = df['w_bpSaved'].fillna(df.groupby('winner_name')['w_bpSaved'].transform('median'))\n",
    "df['w_bpSaved'] = round(df['w_bpSaved'], 0)\n",
    "df['w_bpFaced'] = df['w_bpFaced'].fillna(df.groupby('winner_name')['w_bpFaced'].transform('median'))\n",
    "df['w_bpFaced'] = round(df['w_bpFaced'], 0)\n",
    "\n",
    "loser_bpSaved_mean =  _fillna_(df, 'loser_name', 'l_bpSaved', 'mean')\n",
    "loser_bpSaved_median =  _fillna_(df, 'loser_name', 'l_bpSaved', 'median') #\n",
    "loser_bpFaced_mean =  _fillna_(df, 'loser_name', 'l_bpFaced', 'mean')\n",
    "loser_bpFaced_median =  _fillna_(df, 'loser_name', 'l_bpFaced', 'median') #\n",
    "\n",
    "# since the deviation standard of the median is less far than that achieved by the mean\n",
    "# then we choose to transform with the median\n",
    "df['l_bpSaved'] = df['l_bpSaved'].fillna(df.groupby('loser_name')['l_bpSaved'].transform('median'))\n",
    "df['l_bpSaved'] = round(df['l_bpSaved'], 0)\n",
    "df['l_bpFaced'] = df['l_bpFaced'].fillna(df.groupby('loser_name')['l_bpFaced'].transform('median'))\n",
    "df['l_bpFaced'] = round(df['l_bpFaced'], 0)\n"
   ]
  },
  {
   "cell_type": "markdown",
   "id": "cf0fa528-c5ba-416f-9289-6db89cc3dd30",
   "metadata": {},
   "source": [
    "### w_ace, w_1stwon, w_2ndwon, w_df, l_ace, l_1stwon, l_2ndwon, l_df\n",
    "these attributes depend on player's skills, so we group by name and approximate missing value with mean or median. The metric is decided looking the standard deviation."
   ]
  },
  {
   "cell_type": "markdown",
   "id": "845c9be3-ec2d-42ba-85e9-b79beb1e36bf",
   "metadata": {},
   "source": [
    "#### aces"
   ]
  },
  {
   "cell_type": "code",
   "execution_count": 15,
   "id": "1559c1c4-1ae1-4dcd-957e-599e4ff6da71",
   "metadata": {
    "scrolled": true,
    "tags": []
   },
   "outputs": [
    {
     "name": "stdout",
     "output_type": "stream",
     "text": [
      "w_ace null_values:\t103782\n",
      "count    81982.000000\n",
      "mean         4.823388\n",
      "std          4.389558\n",
      "min          0.000000\n",
      "25%          2.000000\n",
      "50%          4.000000\n",
      "75%          7.000000\n",
      "max         75.000000\n",
      "Name: w_ace, dtype: float64\n",
      "w_ace null_values:\t55143\n",
      "count    130622.000000\n",
      "mean          3.920117\n",
      "std           3.854439\n",
      "min           0.000000\n",
      "25%           1.220339\n",
      "50%           3.000000\n",
      "75%           5.000000\n",
      "max          75.000000\n",
      "Name: w_ace, dtype: float64\n",
      "w_ace null_values:\t103782\n",
      "count    81982.000000\n",
      "mean         4.823388\n",
      "std          4.389558\n",
      "min          0.000000\n",
      "25%          2.000000\n",
      "50%          4.000000\n",
      "75%          7.000000\n",
      "max         75.000000\n",
      "Name: w_ace, dtype: float64\n",
      "w_ace null_values:\t55143\n",
      "count    130622.000000\n",
      "mean          3.822289\n",
      "std           3.889436\n",
      "min           0.000000\n",
      "25%           1.000000\n",
      "50%           3.000000\n",
      "75%           5.000000\n",
      "max          75.000000\n",
      "Name: w_ace, dtype: float64\n",
      "l_ace null_values:\t103782\n",
      "count    81982.000000\n",
      "mean         3.535422\n",
      "std          3.831693\n",
      "min          0.000000\n",
      "25%          1.000000\n",
      "50%          2.000000\n",
      "75%          5.000000\n",
      "max         67.000000\n",
      "Name: l_ace, dtype: float64\n",
      "l_ace null_values:\t56826\n",
      "count    128939.000000\n",
      "mean          2.812161\n",
      "std           3.308683\n",
      "min           0.000000\n",
      "25%           1.000000\n",
      "50%           2.000000\n",
      "75%           4.000000\n",
      "max          67.000000\n",
      "Name: l_ace, dtype: float64\n",
      "l_ace null_values:\t103782\n",
      "count    81982.000000\n",
      "mean         3.535422\n",
      "std          3.831693\n",
      "min          0.000000\n",
      "25%          1.000000\n",
      "50%          2.000000\n",
      "75%          5.000000\n",
      "max         67.000000\n",
      "Name: l_ace, dtype: float64\n",
      "l_ace null_values:\t56826\n",
      "count    128939.000000\n",
      "mean          2.707486\n",
      "std           3.341187\n",
      "min           0.000000\n",
      "25%           1.000000\n",
      "50%           2.000000\n",
      "75%           4.000000\n",
      "max          67.000000\n",
      "Name: l_ace, dtype: float64\n"
     ]
    }
   ],
   "source": [
    "winner_ace_mean = _fillna_(df, 'winner_name', 'w_ace', 'mean') #55142\n",
    "winner_ace_median = _fillna_(df, 'winner_name', 'w_ace', 'median') #55142\n",
    "\n",
    "# since the deviation standard of the median is less far than that achieved by the mean\n",
    "# then we choose to transform with the median\n",
    "df['w_ace'] = df['w_ace'].fillna(df.groupby('winner_name')['w_ace'].transform('median'))\n",
    "df['w_ace'] = round(df['w_ace'], 0)\n",
    "\n",
    "loser_ace_mean =  _fillna_(df, 'loser_name', 'l_ace', 'mean')\n",
    "loser_ace_median =  _fillna_(df, 'loser_name', 'l_ace', 'median') #56825\n",
    "\n",
    "# since the deviation standard of the median is less far than that achieved by the mean\n",
    "# then we choose to transform with the median\n",
    "df['l_ace'] = df['l_ace'].fillna(df.groupby('loser_name')['l_ace'].transform('median'))\n",
    "df['l_ace'] = round(df['l_ace'], 0)"
   ]
  },
  {
   "cell_type": "code",
   "execution_count": 16,
   "id": "213ab10a-6596-474f-80b2-00fcca8992d1",
   "metadata": {},
   "outputs": [
    {
     "name": "stdout",
     "output_type": "stream",
     "text": [
      "w_ace null_values:\t55142\n",
      "l_ace null_values:\t56825\n"
     ]
    }
   ],
   "source": [
    "# we still have null values\n",
    "print_simple_stat(df, 'w_ace') #103818 --> 55142\n",
    "print_simple_stat(df, 'l_ace') #103815 --> 56825"
   ]
  },
  {
   "cell_type": "markdown",
   "id": "7797db5b-7f55-4332-90aa-47942923a55b",
   "metadata": {},
   "source": [
    "#### first won and second won"
   ]
  },
  {
   "cell_type": "code",
   "execution_count": 17,
   "id": "4d5b85d7-f171-4e51-a7c8-7659bad23578",
   "metadata": {},
   "outputs": [
    {
     "name": "stdout",
     "output_type": "stream",
     "text": [
      "w_1stWon null_values:\t103782\n",
      "count    81982.000000\n",
      "mean        32.142848\n",
      "std         11.414119\n",
      "min          0.000000\n",
      "25%         24.000000\n",
      "50%         30.000000\n",
      "75%         38.000000\n",
      "max        836.000000\n",
      "Name: w_1stWon, dtype: float64\n",
      "w_1stWon null_values:\t55143\n",
      "count    130622.000000\n",
      "mean         31.055713\n",
      "std           9.626020\n",
      "min           0.000000\n",
      "25%          25.000000\n",
      "50%          30.000000\n",
      "75%          35.000000\n",
      "max         836.000000\n",
      "Name: w_1stWon, dtype: float64\n",
      "w_1stWon null_values:\t103782\n",
      "count    81982.000000\n",
      "mean        32.142848\n",
      "std         11.414119\n",
      "min          0.000000\n",
      "25%         24.000000\n",
      "50%         30.000000\n",
      "75%         38.000000\n",
      "max        836.000000\n",
      "Name: w_1stWon, dtype: float64\n",
      "w_1stWon null_values:\t55143\n",
      "count    130622.000000\n",
      "mean         30.783076\n",
      "std           9.707955\n",
      "min           0.000000\n",
      "25%          25.000000\n",
      "50%          29.000000\n",
      "75%          35.000000\n",
      "max         836.000000\n",
      "Name: w_1stWon, dtype: float64\n",
      "l_1stWon null_values:\t103782\n",
      "count    81982.000000\n",
      "mean        28.046169\n",
      "std         12.274711\n",
      "min          0.000000\n",
      "25%         19.000000\n",
      "50%         26.000000\n",
      "75%         35.000000\n",
      "max        532.000000\n",
      "Name: l_1stWon, dtype: float64\n",
      "l_1stWon null_values:\t56826\n",
      "count    128939.000000\n",
      "mean         26.228446\n",
      "std          10.747374\n",
      "min           0.000000\n",
      "25%          19.500000\n",
      "50%          24.666667\n",
      "75%          31.000000\n",
      "max         532.000000\n",
      "Name: l_1stWon, dtype: float64\n",
      "l_1stWon null_values:\t103782\n",
      "count    81982.000000\n",
      "mean        28.046169\n",
      "std         12.274711\n",
      "min          0.000000\n",
      "25%         19.000000\n",
      "50%         26.000000\n",
      "75%         35.000000\n",
      "max        532.000000\n",
      "Name: l_1stWon, dtype: float64\n",
      "l_1stWon null_values:\t56826\n",
      "count    128939.000000\n",
      "mean         25.887912\n",
      "std          10.877993\n",
      "min           0.000000\n",
      "25%          19.000000\n",
      "50%          24.000000\n",
      "75%          31.000000\n",
      "max         532.000000\n",
      "Name: l_1stWon, dtype: float64\n"
     ]
    }
   ],
   "source": [
    "winner_1stwon_mean = _fillna_(df,'winner_name', 'w_1stWon', 'mean') \n",
    "winner_1stwon_median = _fillna_(df,'winner_name', 'w_1stWon', 'median') \n",
    "# since the deviation standard of the median is less far than that achieved by the mean\n",
    "# then we choose to transform with the median\n",
    "df['w_1stWon'] = df['w_1stWon'].fillna(df.groupby('winner_name')['w_1stWon'].transform('median'))\n",
    "df['w_1stWon'] = round(df['w_1stWon'], 0)\n",
    "\n",
    "loser_1stwon_mean = _fillna_(df,'loser_name', 'l_1stWon', 'mean') \n",
    "loser_1stwon_median =  _fillna_(df,'loser_name', 'l_1stWon', 'median') \n",
    "# since the deviation standard of the median is less far than that achieved by the mean\n",
    "# then we choose to transform with the median\n",
    "df['l_1stWon'] = df['l_1stWon'].fillna(df.groupby('loser_name')['l_1stWon'].transform('median'))\n",
    "df['l_1stWon'] = round(df['l_1stWon'], 0)"
   ]
  },
  {
   "cell_type": "code",
   "execution_count": 18,
   "id": "6a1f464e-da9f-4c98-87b0-e5919f06b735",
   "metadata": {},
   "outputs": [
    {
     "name": "stdout",
     "output_type": "stream",
     "text": [
      "w_2ndWon null_values:\t103782\n",
      "count    81982.000000\n",
      "mean        14.460662\n",
      "std          5.935955\n",
      "min          0.000000\n",
      "25%         10.000000\n",
      "50%         14.000000\n",
      "75%         18.000000\n",
      "max        304.000000\n",
      "Name: w_2ndWon, dtype: float64\n",
      "w_2ndWon null_values:\t55143\n",
      "count    130622.000000\n",
      "mean         13.851734\n",
      "std           5.106300\n",
      "min           0.000000\n",
      "25%          10.898305\n",
      "50%          13.000000\n",
      "75%          16.000000\n",
      "max         304.000000\n",
      "Name: w_2ndWon, dtype: float64\n",
      "w_2ndWon null_values:\t103782\n",
      "count    81982.000000\n",
      "mean        14.460662\n",
      "std          5.935955\n",
      "min          0.000000\n",
      "25%         10.000000\n",
      "50%         14.000000\n",
      "75%         18.000000\n",
      "max        304.000000\n",
      "Name: w_2ndWon, dtype: float64\n",
      "w_2ndWon null_values:\t55143\n",
      "count    130622.000000\n",
      "mean         13.743512\n",
      "std           5.134051\n",
      "min           0.000000\n",
      "25%          11.000000\n",
      "50%          13.000000\n",
      "75%          16.000000\n",
      "max         304.000000\n",
      "Name: w_2ndWon, dtype: float64\n",
      "l_2ndWon null_values:\t103782\n",
      "count    81982.000000\n",
      "mean        12.715657\n",
      "std          6.322835\n",
      "min          0.000000\n",
      "25%          8.000000\n",
      "50%         12.000000\n",
      "75%         16.000000\n",
      "max        399.000000\n",
      "Name: l_2ndWon, dtype: float64\n",
      "l_2ndWon null_values:\t56826\n",
      "count    128939.000000\n",
      "mean         11.801980\n",
      "std           5.508871\n",
      "min           0.000000\n",
      "25%           8.000000\n",
      "50%          11.000000\n",
      "75%          14.000000\n",
      "max         399.000000\n",
      "Name: l_2ndWon, dtype: float64\n",
      "l_2ndWon null_values:\t103782\n",
      "count    81982.000000\n",
      "mean        12.715657\n",
      "std          6.322835\n",
      "min          0.000000\n",
      "25%          8.000000\n",
      "50%         12.000000\n",
      "75%         16.000000\n",
      "max        399.000000\n",
      "Name: l_2ndWon, dtype: float64\n",
      "l_2ndWon null_values:\t56826\n",
      "count    128939.000000\n",
      "mean         11.650420\n",
      "std           5.570133\n",
      "min           0.000000\n",
      "25%           8.000000\n",
      "50%          11.000000\n",
      "75%          14.000000\n",
      "max         399.000000\n",
      "Name: l_2ndWon, dtype: float64\n"
     ]
    }
   ],
   "source": [
    "winner_2ndwon_mean = _fillna_(df,'winner_name', 'w_2ndWon', 'mean') \n",
    "winner_2ndwon_median = _fillna_(df,'winner_name', 'w_2ndWon', 'median') \n",
    "# since the deviation standard of the median is less far than that achieved by the mean\n",
    "# then we choose to transform with the median\n",
    "df['w_2ndWon'] = df['w_2ndWon'].fillna(df.groupby('winner_name')['w_2ndWon'].transform('median'))\n",
    "df['w_2ndWon'] = round(df['w_2ndWon'], 0)\n",
    "\n",
    "loser_2ndwon_mean = _fillna_(df,'loser_name', 'l_2ndWon', 'mean') \n",
    "loser_2ndwon_median =  _fillna_(df,'loser_name', 'l_2ndWon', 'median') \n",
    "# since the deviation standard of the median is less far than that achieved by the mean\n",
    "# then we choose to transform with the median\n",
    "df['l_2ndWon'] = df['l_2ndWon'].fillna(df.groupby('loser_name')['l_2ndWon'].transform('median'))\n",
    "df['l_2ndWon'] = round(df['l_2ndWon'], 0)"
   ]
  },
  {
   "cell_type": "markdown",
   "id": "db05bf70-4c59-47d8-a1ac-48335f8ca0f1",
   "metadata": {},
   "source": [
    "#### double fault"
   ]
  },
  {
   "cell_type": "code",
   "execution_count": 19,
   "id": "75762c42-7f33-4206-8ffd-0f39c312efda",
   "metadata": {
    "scrolled": true,
    "tags": []
   },
   "outputs": [
    {
     "name": "stdout",
     "output_type": "stream",
     "text": [
      "w_df null_values:\t103782\n",
      "count    81982.000000\n",
      "mean         2.855907\n",
      "std          2.420502\n",
      "min          0.000000\n",
      "25%          1.000000\n",
      "50%          2.000000\n",
      "75%          4.000000\n",
      "max        114.000000\n",
      "Name: w_df, dtype: float64\n",
      "w_df null_values:\t55143\n",
      "count    130622.000000\n",
      "mean          3.136839\n",
      "std           2.285586\n",
      "min           0.000000\n",
      "25%           1.777778\n",
      "50%           3.000000\n",
      "75%           4.041667\n",
      "max         114.000000\n",
      "Name: w_df, dtype: float64\n",
      "w_df null_values:\t103782\n",
      "count    81982.000000\n",
      "mean         2.855907\n",
      "std          2.420502\n",
      "min          0.000000\n",
      "25%          1.000000\n",
      "50%          2.000000\n",
      "75%          4.000000\n",
      "max        114.000000\n",
      "Name: w_df, dtype: float64\n",
      "w_df null_values:\t55143\n",
      "count    130622.000000\n",
      "mean          3.039385\n",
      "std           2.284035\n",
      "min           0.000000\n",
      "25%           1.000000\n",
      "50%           3.000000\n",
      "75%           4.000000\n",
      "max         114.000000\n",
      "Name: w_df, dtype: float64\n",
      "l_df null_values:\t103782\n",
      "count    81982.000000\n",
      "mean         3.609365\n",
      "std          2.606058\n",
      "min          0.000000\n",
      "25%          2.000000\n",
      "50%          3.000000\n",
      "75%          5.000000\n",
      "max        114.000000\n",
      "Name: l_df, dtype: float64\n",
      "l_df null_values:\t103782\n",
      "count    81982.000000\n",
      "mean         3.609365\n",
      "std          2.606058\n",
      "min          0.000000\n",
      "25%          2.000000\n",
      "50%          3.000000\n",
      "75%          5.000000\n",
      "max        114.000000\n",
      "Name: l_df, dtype: float64\n",
      "l_df null_values:\t56826\n",
      "count    128939.000000\n",
      "mean          3.815715\n",
      "std           2.374777\n",
      "min           0.000000\n",
      "25%           2.000000\n",
      "50%           3.500000\n",
      "75%           5.000000\n",
      "max         114.000000\n",
      "Name: l_df, dtype: float64\n",
      "l_df null_values:\t103782\n",
      "count    81982.000000\n",
      "mean         3.609365\n",
      "std          2.606058\n",
      "min          0.000000\n",
      "25%          2.000000\n",
      "50%          3.000000\n",
      "75%          5.000000\n",
      "max        114.000000\n",
      "Name: l_df, dtype: float64\n",
      "l_df null_values:\t56826\n",
      "count    128939.000000\n",
      "mean          3.735146\n",
      "std           2.381379\n",
      "min           0.000000\n",
      "25%           2.000000\n",
      "50%           3.000000\n",
      "75%           5.000000\n",
      "max         114.000000\n",
      "Name: l_df, dtype: float64\n"
     ]
    }
   ],
   "source": [
    "winner_df_mean = _fillna_(df,'winner_name', 'w_df', 'mean') \n",
    "winner_df_median = _fillna_(df,'winner_name', 'w_df', 'median') \n",
    "# since the deviation standard of the median is less far than that achieved by the mean\n",
    "# then we choose to transform with the median\n",
    "df['w_df'] = df['w_df'].fillna(df.groupby('winner_name')['w_df'].transform('median'))\n",
    "df['w_df'] = round(df['w_df'], 0)\n",
    "\n",
    "\n",
    "print_stat(df,'l_df') #is done the same with the l_ace\n",
    "loser_df_mean = _fillna_(df,'loser_name', 'l_df', 'mean') \n",
    "loser_df_median =  _fillna_(df,'loser_name', 'l_df', 'median') \n",
    "# since the deviation standard of the median is less far than that achieved by the mean\n",
    "# then we choose to transform with the median\n",
    "df['l_df'] = df['l_df'].fillna(df.groupby('loser_name')['l_df'].transform('median'))\n",
    "df['l_df'] = round(df['l_df'], 0)"
   ]
  },
  {
   "cell_type": "code",
   "execution_count": 20,
   "id": "caa43982-62a3-4cbe-8bd7-99d7b000415a",
   "metadata": {},
   "outputs": [
    {
     "name": "stdout",
     "output_type": "stream",
     "text": [
      "w_df null_values:\t55142\n",
      "l_df null_values:\t56825\n"
     ]
    }
   ],
   "source": [
    "print_simple_stat(df, 'w_df') #103816 --> 55142\n",
    "print_simple_stat(df, 'l_df') #103809 --> 56825"
   ]
  },
  {
   "cell_type": "markdown",
   "id": "fancy-butler",
   "metadata": {},
   "source": [
    "### Entry\n",
    "Too many missing values so these attributes are dropped"
   ]
  },
  {
   "cell_type": "code",
   "execution_count": 21,
   "id": "20196e04-eca8-4571-a78f-c8b3db890deb",
   "metadata": {},
   "outputs": [
    {
     "name": "stdout",
     "output_type": "stream",
     "text": [
      "winner_entry null_values:\t159958\n",
      "loser_entry null_values:\t141684\n"
     ]
    },
    {
     "name": "stderr",
     "output_type": "stream",
     "text": [
      "<ipython-input-21-e5b1507b5385>:7: FutureWarning: In a future version of pandas all arguments of DataFrame.drop except for the argument 'labels' will be keyword-only\n",
      "  df.drop('winner_entry', 1, inplace = True)\n",
      "<ipython-input-21-e5b1507b5385>:8: FutureWarning: In a future version of pandas all arguments of DataFrame.drop except for the argument 'labels' will be keyword-only\n",
      "  df.drop('loser_entry', 1, inplace = True)\n"
     ]
    }
   ],
   "source": [
    "# ACHTUNG\n",
    "print_simple_stat(df, 'winner_entry') #159958\n",
    "print_simple_stat(df, 'loser_entry') #141684\n",
    "\n",
    "# since they are much more than the half of all the dataset rows we decide to remove both the 2 columns\n",
    "# moreover we couldn't do any assumption to try to deduce something more\n",
    "df.drop('winner_entry', 1, inplace = True)\n",
    "df.drop('loser_entry', 1, inplace = True)"
   ]
  },
  {
   "cell_type": "markdown",
   "id": "05a31d3e-1ebc-43ff-9bf2-593723e7456f",
   "metadata": {},
   "source": [
    "## Hand\n",
    "We see again the graph the used hands. By which we could also see which are the most used values and assign to the missing ones, but we avoid this way."
   ]
  },
  {
   "cell_type": "code",
   "execution_count": 22,
   "id": "02947f09-f245-47d9-973f-0cea15dacedf",
   "metadata": {},
   "outputs": [
    {
     "name": "stdout",
     "output_type": "stream",
     "text": [
      "winner_hand null_values:\t16\n",
      "loser_hand null_values:\t71\n"
     ]
    }
   ],
   "source": [
    "# this is the attribute with less empty values\n",
    "\n",
    "print_simple_stat(df, 'winner_hand') #16\n",
    "\n",
    "df_names = df[ df.winner_hand.isnull() & df.winner_name.notnull() ].winner_name.unique()\n",
    "#print(df_names)\n",
    "for i in df_names: # for each of them we try to find a possible match in which they were saved with his/her hand\n",
    "    df_match = df[ (df.winner_hand.notnull() & (df.winner_hand!='U')) & (df.winner_name==i)] \n",
    "    if (df_match.size != 0):\n",
    "        print(df_match) #never enters -> never present \n",
    "    df_match = df[ (df.loser_hand.notnull() & (df.loser_hand!='U')) & (df.loser_name==i)] \n",
    "    if (df_match.size != 0):\n",
    "        print(df_match) #never enters -> never present \n",
    "    \n",
    "df_ids = df[ df.winner_hand.isnull() & df.winner_name.notnull() ].winner_id.unique()\n",
    "for i in df_ids:\n",
    "    df_match = df[ (df.winner_hand.notnull() & (df.winner_hand!='U')) & (df.winner_id==i)]     \n",
    "    if (df_match.size != 0):\n",
    "        print(df_match) \n",
    "    df_match = df[ (df.loser_hand.notnull() & (df.loser_hand!='U')) & (df.loser_id==i)] \n",
    "    if (df_match.size != 0):\n",
    "        print(df_match) \n",
    "\n",
    "# we weren't able to find a match so we cannot fill empty values here, we think that they are, more porbably, outliers\n",
    "\n",
    "\n",
    "# we check the same also for the loser_hand\n",
    "print_simple_stat(df, 'loser_hand') #71\n",
    "\n",
    "df_names = df[ df.loser_hand.isnull() & df.loser_name.notnull() ].loser_name.unique()\n",
    "# they are all the previous, without Jean Jacques Rakotohasy\n",
    "\n",
    "for i in df_names:    \n",
    "    df_match = df[ (df.loser_hand.notnull() & (df.loser_hand!='U')) & (df.loser_name==i)] \n",
    "    if (df_match.size != 0):\n",
    "        print(df_match) \n",
    "    df_match = df[ (df.winner_hand.notnull() & (df.winner_hand!='U')) & (df.winner_name==i)] \n",
    "    if (df_match.size != 0):\n",
    "        print(df_match) \n",
    "df_ids = df[ df.loser_hand.isnull() & df.loser_name.notnull() ].loser_id.unique()\n",
    "for i in df_ids:    \n",
    "    df_match = df[ (df.loser_hand.notnull() & (df.loser_hand!='U')) & (df.loser_id==i)] \n",
    "    if (df_match.size != 0):\n",
    "        print(df_match) \n",
    "    df_match = df[ (df.winner_hand.notnull() & (df.winner_hand!='U')) & (df.winner_id==i)] \n",
    "    if (df_match.size != 0):\n",
    "        print(df_match) \n",
    "\n",
    "df['winner_hand']=df['winner_hand'].fillna('U')\n",
    "df['loser_hand']=df['loser_hand'].fillna('U')"
   ]
  },
  {
   "cell_type": "code",
   "execution_count": 23,
   "id": "4b2ca15d",
   "metadata": {},
   "outputs": [
    {
     "name": "stdout",
     "output_type": "stream",
     "text": [
      "winner_hand null_values:\t0\n",
      "loser_hand null_values:\t0\n"
     ]
    }
   ],
   "source": [
    "print_simple_stat(df, 'winner_hand')\n",
    "print_simple_stat(df, 'loser_hand')"
   ]
  },
  {
   "cell_type": "markdown",
   "id": "f5915249-7007-4e14-b009-da2b6cc3d8d7",
   "metadata": {},
   "source": [
    "### minutes\n",
    "Because minutes attribute contains a lot of outliers, first they are substitued with median value. After, missing values are resolved choosing between mean, median and 60 minutues looking to standard deviation."
   ]
  },
  {
   "cell_type": "code",
   "execution_count": 24,
   "id": "spare-state",
   "metadata": {},
   "outputs": [
    {
     "name": "stdout",
     "output_type": "stream",
     "text": [
      "facciamo la mediana 91.0\n"
     ]
    },
    {
     "name": "stderr",
     "output_type": "stream",
     "text": [
      "C:\\Users\\Gerlando\\anaconda3\\lib\\site-packages\\pandas\\core\\indexing.py:1817: SettingWithCopyWarning: \n",
      "A value is trying to be set on a copy of a slice from a DataFrame.\n",
      "Try using .loc[row_indexer,col_indexer] = value instead\n",
      "\n",
      "See the caveats in the documentation: https://pandas.pydata.org/pandas-docs/stable/user_guide/indexing.html#returning-a-view-versus-a-copy\n",
      "  self._setitem_single_column(loc, value, pi)\n"
     ]
    },
    {
     "data": {
      "image/png": "[encoded data removed]",
      "text/plain": [
       "<Figure size 432x288 with 1 Axes>"
      ]
     },
     "metadata": {
      "needs_background": "light"
     },
     "output_type": "display_data"
    }
   ],
   "source": [
    "df.boxplot('minutes')\n",
    "df = detecting_outliers_numerical(df, 'minutes', 0, 600, 'median')"
   ]
  },
  {
   "cell_type": "code",
   "execution_count": 25,
   "id": "automatic-reflection",
   "metadata": {},
   "outputs": [
    {
     "data": {
      "text/plain": [
       "(array([5.7790e+03, 5.1006e+04, 2.1965e+04, 2.2740e+03, 2.5200e+02,\n",
       "        3.4000e+01, 6.0000e+00, 2.0000e+00, 0.0000e+00, 2.0000e+00]),\n",
       " array([0.        , 0.93833333, 1.87666667, 2.815     , 3.75333333,\n",
       "        4.69166667, 5.63      , 6.56833333, 7.50666667, 8.445     ,\n",
       "        9.38333333]),\n",
       " <BarContainer object of 10 artists>)"
      ]
     },
     "execution_count": 25,
     "metadata": {},
     "output_type": "execute_result"
    },
    {
     "data": {
      "image/png": "[encoded data removed]",
      "text/plain": [
       "<Figure size 432x288 with 1 Axes>"
      ]
     },
     "metadata": {
      "needs_background": "light"
     },
     "output_type": "display_data"
    }
   ],
   "source": [
    "plt.hist(df['minutes']/60)"
   ]
  },
  {
   "cell_type": "code",
   "execution_count": 26,
   "id": "specific-newcastle",
   "metadata": {},
   "outputs": [
    {
     "name": "stdout",
     "output_type": "stream",
     "text": [
      "minutes null_values:\t104430\n",
      "count    81320.000000\n",
      "mean        97.448967\n",
      "std         34.732848\n",
      "min          0.000000\n",
      "25%         72.000000\n",
      "50%         91.000000\n",
      "75%        119.000000\n",
      "max        563.000000\n",
      "Name: minutes, dtype: float64\n",
      "minutes null_values:\t0\n",
      "count    185750.000000\n",
      "mean         97.448967\n",
      "std          22.981225\n",
      "min           0.000000\n",
      "25%          97.448967\n",
      "50%          97.448967\n",
      "75%          97.448967\n",
      "max         563.000000\n",
      "Name: minutes, dtype: float64\n",
      "minutes null_values:\t0\n",
      "count    185750.000000\n",
      "mean         93.823311\n",
      "std          23.202868\n",
      "min           0.000000\n",
      "25%          91.000000\n",
      "50%          91.000000\n",
      "75%          91.000000\n",
      "max         563.000000\n",
      "Name: minutes, dtype: float64\n",
      "minutes null_values:\t0\n",
      "count    185750.000000\n",
      "mean         76.394886\n",
      "std          29.551951\n",
      "min           0.000000\n",
      "25%          60.000000\n",
      "50%          60.000000\n",
      "75%          85.000000\n",
      "max         563.000000\n",
      "Name: minutes, dtype: float64\n"
     ]
    }
   ],
   "source": [
    "print_stat(df, 'minutes') #104430\n",
    "\n",
    "# in the already seen graph, the majority of the matches has happened within 1 hour, even if we show the difference between the mean and median\n",
    "# we decide to apply the amount of time of 60.00 minutes for the unknown values since it is the one with the better similar standard deviation \n",
    "\n",
    "var = df[['minutes']].copy()\n",
    "var['minutes'].fillna(var.minutes.mean(), inplace = True)\n",
    "print_stat(var, 'minutes')\n",
    "\n",
    "var2 = df[['minutes']].copy()\n",
    "var2['minutes'].fillna(var2.minutes.median(), inplace = True)\n",
    "print_stat(var2, 'minutes')\n",
    "\n",
    "var3 = df[['minutes']].copy()\n",
    "var3['minutes'].fillna(60.00, inplace = True)\n",
    "print_stat(var3, 'minutes') #0\n",
    "\n",
    "df['minutes'] = var3['minutes'].copy()"
   ]
  },
  {
   "cell_type": "code",
   "execution_count": 27,
   "id": "valid-question",
   "metadata": {},
   "outputs": [
    {
     "data": {
      "text/plain": [
       "(array([5.77900e+03, 1.55436e+05, 2.19650e+04, 2.27400e+03, 2.52000e+02,\n",
       "        3.40000e+01, 6.00000e+00, 2.00000e+00, 0.00000e+00, 2.00000e+00]),\n",
       " array([0.        , 0.93833333, 1.87666667, 2.815     , 3.75333333,\n",
       "        4.69166667, 5.63      , 6.56833333, 7.50666667, 8.445     ,\n",
       "        9.38333333]),\n",
       " <BarContainer object of 10 artists>)"
      ]
     },
     "execution_count": 27,
     "metadata": {},
     "output_type": "execute_result"
    },
    {
     "data": {
      "image/png": "[encoded data removed]",
      "text/plain": [
       "<Figure size 432x288 with 1 Axes>"
      ]
     },
     "metadata": {
      "needs_background": "light"
     },
     "output_type": "display_data"
    }
   ],
   "source": [
    "plt.hist(df['minutes']/60)"
   ]
  },
  {
   "cell_type": "markdown",
   "id": "991c8705-3290-4e0e-b336-f9cdc78f19f6",
   "metadata": {},
   "source": [
    "### surface\n",
    "Choosing to change the missing values respecting the distribution is avoided since it could be done bringing errors. Keep them empty since the missing values are for matches that happened in different places where we cannot be sure of the surface value.\n"
   ]
  },
  {
   "cell_type": "code",
   "execution_count": 28,
   "id": "685b4468-c837-46d6-b2e5-e51de003f91c",
   "metadata": {
    "tags": []
   },
   "outputs": [
    {
     "name": "stdout",
     "output_type": "stream",
     "text": [
      "surface null_values:\t162\n",
      "                   tourney_name  freq\n",
      "0   Davis Cup G1 R1: ISR vs POR     4\n",
      "1   Davis Cup G1 R1: NZL vs IND     4\n",
      "2   Davis Cup G1 R1: PER vs ECU     4\n",
      "3   Davis Cup G1 R1: ROU vs BLR     4\n",
      "4   Davis Cup G1 R1: TPE vs CHN     4\n",
      "5   Davis Cup G1 R1: UZB vs KOR     3\n",
      "6   Davis Cup G1 R2: SVK vs HUN     3\n",
      "7   Davis Cup G2 R1: BAH vs VEN     4\n",
      "8   Davis Cup G2 R1: BAR vs PAR     4\n",
      "9   Davis Cup G2 R1: BOL vs ESA     4\n",
      "10  Davis Cup G2 R1: EST vs RSA     4\n",
      "11  Davis Cup G2 R1: FIN vs GEO     4\n",
      "12  Davis Cup G2 R1: INA vs PHI     4\n",
      "13  Davis Cup G2 R1: KUW vs THA     3\n",
      "14  Davis Cup G2 R1: LTU vs MAD     4\n",
      "15  Davis Cup G2 R1: MAR vs DEN     4\n",
      "16  Davis Cup G2 R1: MEX vs GUA     3\n",
      "17  Davis Cup G2 R1: MON vs SLO     4\n",
      "18  Davis Cup G2 R1: NOR vs LAT     4\n",
      "19  Davis Cup G2 R1: TUR vs CYP     4\n",
      "20  Davis Cup G2 R1: VIE vs HKG     4\n",
      "23    Fed Cup G2 PM: DOM vs CRC     4\n"
     ]
    }
   ],
   "source": [
    "print_simple_stat(df, 'surface') \n",
    "# they are competitions that have happened in different places so is not possile to resolve their knowledge \n",
    "# the only way to resolve them is by using an external resource as Google\n",
    "# for that reason we leave them as NaN\n",
    "\n",
    "tourney_ids = df[ df['surface'].isnull() ]\n",
    "tourney_ids = tourney_ids.groupby(tourney_ids.tourney_name).size()\n",
    "tourney_ids = pd.DataFrame(tourney_ids)\n",
    "tourney_ids.reset_index(level=0, inplace=True)\n",
    "tourney_ids.rename( columns={ 0 :'freq'}, inplace = True)\n",
    "print(tourney_ids[tourney_ids['freq']>=3])"
   ]
  },
  {
   "cell_type": "markdown",
   "id": "974c08a4-5961-4fdf-9a78-cda60161ccbc",
   "metadata": {},
   "source": [
    "### gender\n",
    "Only matches with same gender are assumed so, using this fact it's possible to deduce the gender of the missing player, such as, if we know the gender of the winner then we can also know the gender of the loser, and vice versa."
   ]
  },
  {
   "cell_type": "code",
   "execution_count": 29,
   "id": "suitable-couple",
   "metadata": {},
   "outputs": [
    {
     "data": {
      "text/plain": [
       "<AxesSubplot:title={'center':'Distribution of tourney_level values according to the gender of the player'}, xlabel='Gender of the winner and loser player', ylabel='Counting'>"
      ]
     },
     "execution_count": 29,
     "metadata": {},
     "output_type": "execute_result"
    },
    {
     "data": {
      "image/png": "[encoded data removed]",
      "text/plain": [
       "<Figure size 1440x720 with 1 Axes>"
      ]
     },
     "metadata": {
      "needs_background": "light"
     },
     "output_type": "display_data"
    }
   ],
   "source": [
    "lf = df.groupby(['winner_gender', 'loser_gender', 'tourney_level']).size()\n",
    "lf = lf.unstack()\n",
    "lf.plot(\n",
    "    figsize=(20, 10), \n",
    "    title=\"Distribution of tourney_level values according to the gender of the player\", \n",
    "    xlabel=\"Gender of the winner and loser player\",\n",
    "    ylabel=\"Counting\",\n",
    "    kind='bar')"
   ]
  },
  {
   "cell_type": "code",
   "execution_count": 30,
   "id": "1645e147-34a5-4a08-bc71-9f7ff5872e5d",
   "metadata": {},
   "outputs": [
    {
     "name": "stderr",
     "output_type": "stream",
     "text": [
      "<ipython-input-30-a333d79c7317>:2: SettingWithCopyWarning: \n",
      "A value is trying to be set on a copy of a slice from a DataFrame.\n",
      "Try using .loc[row_indexer,col_indexer] = value instead\n",
      "\n",
      "See the caveats in the documentation: https://pandas.pydata.org/pandas-docs/stable/user_guide/indexing.html#returning-a-view-versus-a-copy\n",
      "  var['loser_gender']=var['loser_gender'].replace({'U': np.nan}, regex=True)\n",
      "C:\\Users\\Gerlando\\anaconda3\\lib\\site-packages\\pandas\\core\\generic.py:5516: SettingWithCopyWarning: \n",
      "A value is trying to be set on a copy of a slice from a DataFrame.\n",
      "Try using .loc[row_indexer,col_indexer] = value instead\n",
      "\n",
      "See the caveats in the documentation: https://pandas.pydata.org/pandas-docs/stable/user_guide/indexing.html#returning-a-view-versus-a-copy\n",
      "  self[name] = value\n"
     ]
    }
   ],
   "source": [
    "var = df[ df['winner_gender'] == 'U']\n",
    "var['loser_gender']=var['loser_gender'].replace({'U': np.nan}, regex=True)\n",
    "var = var[var['loser_gender'].notna()]\n",
    "\n",
    "var = var.groupby(['winner_name']).loser_gender.unique()\n",
    "\n",
    "var = pd.DataFrame(var)\n",
    "var.reset_index(level=0, inplace=True)\n",
    "\n",
    "df[df.winner_name.isin(var['winner_name'])].winner_gender=df[df.winner_name.isin(var['winner_name'])].loser_gender.values\n",
    "df[df.winner_name.isin(var['winner_name'])] = df[df.winner_name.isin(var['winner_name'])].assign(winner_gender=df[df.winner_name.isin(var['winner_name'])].loser_gender)\n"
   ]
  },
  {
   "cell_type": "code",
   "execution_count": 31,
   "id": "44af4e22-aa80-4ead-a504-ae8b2c2ac8c5",
   "metadata": {},
   "outputs": [
    {
     "name": "stderr",
     "output_type": "stream",
     "text": [
      "<ipython-input-31-91b2aca6544e>:2: SettingWithCopyWarning: \n",
      "A value is trying to be set on a copy of a slice from a DataFrame.\n",
      "Try using .loc[row_indexer,col_indexer] = value instead\n",
      "\n",
      "See the caveats in the documentation: https://pandas.pydata.org/pandas-docs/stable/user_guide/indexing.html#returning-a-view-versus-a-copy\n",
      "  var['winner_gender']=var['winner_gender'].replace({'U': np.nan}, regex=True)\n"
     ]
    }
   ],
   "source": [
    "var = df[ df['loser_gender'] == 'U']\n",
    "var['winner_gender']=var['winner_gender'].replace({'U': np.nan}, regex=True)\n",
    "var = var[var['winner_gender'].notna()]\n",
    "\n",
    "var = var.groupby(['loser_name']).winner_gender.unique()\n",
    "\n",
    "var = pd.DataFrame(var)\n",
    "var.reset_index(level=0, inplace=True)\n",
    "\n",
    "df[df.loser_name.isin(var['loser_name'])].loser_gender=df[df.loser_name.isin(var['loser_name'])].winner_gender.values\n",
    "df[df.loser_name.isin(var['loser_name'])] = df[df.loser_name.isin(var['loser_name'])].assign(loser_gender=df[df.loser_name.isin(var['loser_name'])].winner_gender)"
   ]
  },
  {
   "cell_type": "markdown",
   "id": "interested-diamond",
   "metadata": {},
   "source": [
    "###### tourney_level where both players have gender 'U' refer to matches among M genders. Only tourney_level D is for both gender, looking names, gender M are assigned to them."
   ]
  },
  {
   "cell_type": "code",
   "execution_count": 32,
   "id": "adaeb0aa-0d46-4e34-896a-fda44a5348ea",
   "metadata": {},
   "outputs": [
    {
     "data": {
      "text/plain": [
       "<AxesSubplot:title={'center':'Distribution of tourney_level values according to the gender of the player'}, xlabel='Gender of the winner and loser player', ylabel='Counting'>"
      ]
     },
     "execution_count": 32,
     "metadata": {},
     "output_type": "execute_result"
    },
    {
     "data": {
      "image/png": "[encoded data removed]",
      "text/plain": [
       "<Figure size 1440x720 with 1 Axes>"
      ]
     },
     "metadata": {
      "needs_background": "light"
     },
     "output_type": "display_data"
    }
   ],
   "source": [
    "lf = df.groupby(['winner_gender', 'loser_gender', 'tourney_level']).size()\n",
    "lf = lf.unstack()\n",
    "lf.plot(\n",
    "    figsize=(20, 10), \n",
    "    title=\"Distribution of tourney_level values according to the gender of the player\", \n",
    "    xlabel=\"Gender of the winner and loser player\",\n",
    "    ylabel=\"Counting\",\n",
    "    kind='bar')"
   ]
  },
  {
   "cell_type": "code",
   "execution_count": 33,
   "id": "still-consortium",
   "metadata": {},
   "outputs": [
    {
     "data": {
      "text/plain": [
       "winner_gender\n",
       "U    [A, M, G, D, C]\n",
       "Name: tourney_level, dtype: object"
      ]
     },
     "execution_count": 33,
     "metadata": {},
     "output_type": "execute_result"
    }
   ],
   "source": [
    "gen = df[df['winner_gender'] == 'U']\n",
    "gen.groupby('winner_gender').tourney_level.unique()"
   ]
  },
  {
   "cell_type": "code",
   "execution_count": 34,
   "id": "global-canberra",
   "metadata": {},
   "outputs": [],
   "source": [
    "tourney_lev_male = ['A', 'M', 'G', 'C']\n",
    "for lev in tourney_lev_male:\n",
    "    df.loc[(df['winner_gender'] == 'U') & (df['tourney_level'] == lev), 'winner_gender'] = 'M'\n",
    "    df.loc[(df['loser_gender'] == 'U') & (df['tourney_level'] == lev), 'loser_gender'] = 'M'"
   ]
  },
  {
   "cell_type": "code",
   "execution_count": 35,
   "id": "cloudy-antigua",
   "metadata": {},
   "outputs": [
    {
     "data": {
      "text/html": [
       "<div>\n",
       "<style scoped>\n",
       "    .dataframe tbody tr th:only-of-type {\n",
       "        vertical-align: middle;\n",
       "    }\n",
       "\n",
       "    .dataframe tbody tr th {\n",
       "        vertical-align: top;\n",
       "    }\n",
       "\n",
       "    .dataframe thead th {\n",
       "        text-align: right;\n",
       "    }\n",
       "</style>\n",
       "<table border=\"1\" class=\"dataframe\">\n",
       "  <thead>\n",
       "    <tr style=\"text-align: right;\">\n",
       "      <th></th>\n",
       "      <th>tourney_id</th>\n",
       "      <th>tourney_name</th>\n",
       "      <th>surface</th>\n",
       "      <th>draw_size</th>\n",
       "      <th>tourney_level</th>\n",
       "      <th>tourney_date</th>\n",
       "      <th>match_num</th>\n",
       "      <th>winner_id</th>\n",
       "      <th>winner_name</th>\n",
       "      <th>winner_hand</th>\n",
       "      <th>winner_ht</th>\n",
       "      <th>winner_ioc</th>\n",
       "      <th>winner_age</th>\n",
       "      <th>loser_id</th>\n",
       "      <th>loser_name</th>\n",
       "      <th>loser_hand</th>\n",
       "      <th>loser_ht</th>\n",
       "      <th>loser_ioc</th>\n",
       "      <th>loser_age</th>\n",
       "      <th>score</th>\n",
       "      <th>best_of</th>\n",
       "      <th>round</th>\n",
       "      <th>minutes</th>\n",
       "      <th>w_ace</th>\n",
       "      <th>w_df</th>\n",
       "      <th>w_svpt</th>\n",
       "      <th>w_1stIn</th>\n",
       "      <th>w_1stWon</th>\n",
       "      <th>w_2ndWon</th>\n",
       "      <th>w_bpSaved</th>\n",
       "      <th>w_bpFaced</th>\n",
       "      <th>l_ace</th>\n",
       "      <th>l_df</th>\n",
       "      <th>l_svpt</th>\n",
       "      <th>l_1stIn</th>\n",
       "      <th>l_1stWon</th>\n",
       "      <th>l_2ndWon</th>\n",
       "      <th>l_bpSaved</th>\n",
       "      <th>l_bpFaced</th>\n",
       "      <th>winner_rank</th>\n",
       "      <th>winner_rank_points</th>\n",
       "      <th>loser_rank</th>\n",
       "      <th>loser_rank_points</th>\n",
       "      <th>tourney_spectators</th>\n",
       "      <th>tourney_revenue</th>\n",
       "      <th>winner_gender</th>\n",
       "      <th>loser_gender</th>\n",
       "      <th>SvGms</th>\n",
       "    </tr>\n",
       "  </thead>\n",
       "  <tbody>\n",
       "    <tr>\n",
       "      <th>5801</th>\n",
       "      <td>2019-M-DC-2019-FLS-C-M-ARG-CHI-01</td>\n",
       "      <td>Davis Cup Finals RR: ARG vs CHI</td>\n",
       "      <td>Hard</td>\n",
       "      <td>4.0</td>\n",
       "      <td>D</td>\n",
       "      <td>2019-11-19</td>\n",
       "      <td>2.0</td>\n",
       "      <td>106043.0</td>\n",
       "      <td>Diego Schwartzman</td>\n",
       "      <td>R</td>\n",
       "      <td>170.0</td>\n",
       "      <td>ARG</td>\n",
       "      <td>27.0</td>\n",
       "      <td>106426.0</td>\n",
       "      <td>Cristian Garin</td>\n",
       "      <td>R</td>\n",
       "      <td>185.0</td>\n",
       "      <td>CHI</td>\n",
       "      <td>23.0</td>\n",
       "      <td>6-2 6-2</td>\n",
       "      <td>3.0</td>\n",
       "      <td>RR</td>\n",
       "      <td>73.0</td>\n",
       "      <td>5.0</td>\n",
       "      <td>2.0</td>\n",
       "      <td>48.0</td>\n",
       "      <td>38.0</td>\n",
       "      <td>27.0</td>\n",
       "      <td>5.0</td>\n",
       "      <td>1.0</td>\n",
       "      <td>3.0</td>\n",
       "      <td>1.0</td>\n",
       "      <td>2.0</td>\n",
       "      <td>56.0</td>\n",
       "      <td>36.0</td>\n",
       "      <td>17.0</td>\n",
       "      <td>7.0</td>\n",
       "      <td>4.0</td>\n",
       "      <td>10.0</td>\n",
       "      <td>14.0</td>\n",
       "      <td>2125.0</td>\n",
       "      <td>33.0</td>\n",
       "      <td>1297.0</td>\n",
       "      <td>424.0</td>\n",
       "      <td>81710.80</td>\n",
       "      <td>U</td>\n",
       "      <td>U</td>\n",
       "      <td>16.0</td>\n",
       "    </tr>\n",
       "    <tr>\n",
       "      <th>7897</th>\n",
       "      <td>2018-M-DC-2018-G1-AM-M-ARG-CHI-01</td>\n",
       "      <td>Davis Cup G1 R2: ARG vs CHI</td>\n",
       "      <td>Clay</td>\n",
       "      <td>4.0</td>\n",
       "      <td>D</td>\n",
       "      <td>2018-04-06</td>\n",
       "      <td>2.0</td>\n",
       "      <td>106043.0</td>\n",
       "      <td>Diego Schwartzman</td>\n",
       "      <td>R</td>\n",
       "      <td>170.0</td>\n",
       "      <td>ARG</td>\n",
       "      <td>25.0</td>\n",
       "      <td>106426.0</td>\n",
       "      <td>Cristian Garin</td>\n",
       "      <td>R</td>\n",
       "      <td>185.0</td>\n",
       "      <td>CHI</td>\n",
       "      <td>21.0</td>\n",
       "      <td>7-6(2) 6-7(2) 6-2</td>\n",
       "      <td>3.0</td>\n",
       "      <td>RR</td>\n",
       "      <td>162.0</td>\n",
       "      <td>3.0</td>\n",
       "      <td>6.0</td>\n",
       "      <td>112.0</td>\n",
       "      <td>63.0</td>\n",
       "      <td>42.0</td>\n",
       "      <td>24.0</td>\n",
       "      <td>2.0</td>\n",
       "      <td>6.0</td>\n",
       "      <td>2.0</td>\n",
       "      <td>8.0</td>\n",
       "      <td>108.0</td>\n",
       "      <td>58.0</td>\n",
       "      <td>37.0</td>\n",
       "      <td>26.0</td>\n",
       "      <td>6.0</td>\n",
       "      <td>12.0</td>\n",
       "      <td>15.0</td>\n",
       "      <td>2220.0</td>\n",
       "      <td>217.0</td>\n",
       "      <td>256.0</td>\n",
       "      <td>426.0</td>\n",
       "      <td>85412.09</td>\n",
       "      <td>U</td>\n",
       "      <td>U</td>\n",
       "      <td>34.0</td>\n",
       "    </tr>\n",
       "  </tbody>\n",
       "</table>\n",
       "</div>"
      ],
      "text/plain": [
       "                             tourney_id                     tourney_name  \\\n",
       "5801  2019-M-DC-2019-FLS-C-M-ARG-CHI-01  Davis Cup Finals RR: ARG vs CHI   \n",
       "7897  2018-M-DC-2018-G1-AM-M-ARG-CHI-01      Davis Cup G1 R2: ARG vs CHI   \n",
       "\n",
       "     surface  draw_size tourney_level tourney_date  match_num  winner_id  \\\n",
       "5801    Hard        4.0             D   2019-11-19        2.0   106043.0   \n",
       "7897    Clay        4.0             D   2018-04-06        2.0   106043.0   \n",
       "\n",
       "            winner_name winner_hand  winner_ht winner_ioc  winner_age  \\\n",
       "5801  Diego Schwartzman           R      170.0        ARG        27.0   \n",
       "7897  Diego Schwartzman           R      170.0        ARG        25.0   \n",
       "\n",
       "      loser_id      loser_name loser_hand  loser_ht loser_ioc  loser_age  \\\n",
       "5801  106426.0  Cristian Garin          R     185.0       CHI       23.0   \n",
       "7897  106426.0  Cristian Garin          R     185.0       CHI       21.0   \n",
       "\n",
       "                  score  best_of round  minutes  w_ace  w_df  w_svpt  w_1stIn  \\\n",
       "5801            6-2 6-2      3.0    RR     73.0    5.0   2.0    48.0     38.0   \n",
       "7897  7-6(2) 6-7(2) 6-2      3.0    RR    162.0    3.0   6.0   112.0     63.0   \n",
       "\n",
       "      w_1stWon  w_2ndWon  w_bpSaved  w_bpFaced  l_ace  l_df  l_svpt  l_1stIn  \\\n",
       "5801      27.0       5.0        1.0        3.0    1.0   2.0    56.0     36.0   \n",
       "7897      42.0      24.0        2.0        6.0    2.0   8.0   108.0     58.0   \n",
       "\n",
       "      l_1stWon  l_2ndWon  l_bpSaved  l_bpFaced  winner_rank  \\\n",
       "5801      17.0       7.0        4.0       10.0         14.0   \n",
       "7897      37.0      26.0        6.0       12.0         15.0   \n",
       "\n",
       "      winner_rank_points  loser_rank  loser_rank_points  tourney_spectators  \\\n",
       "5801              2125.0        33.0             1297.0               424.0   \n",
       "7897              2220.0       217.0              256.0               426.0   \n",
       "\n",
       "      tourney_revenue winner_gender loser_gender  SvGms  \n",
       "5801         81710.80             U            U   16.0  \n",
       "7897         85412.09             U            U   34.0  "
      ]
     },
     "execution_count": 35,
     "metadata": {},
     "output_type": "execute_result"
    }
   ],
   "source": [
    "df.loc[(df['winner_gender'] == 'U') & (df['tourney_level'] == 'D')] "
   ]
  },
  {
   "cell_type": "code",
   "execution_count": 36,
   "id": "responsible-syracuse",
   "metadata": {},
   "outputs": [],
   "source": [
    "df.loc[(df['winner_gender'] == 'U') & (df['tourney_level'] == 'D'), 'winner_gender'] = 'M'\n",
    "df.loc[(df['loser_gender'] == 'U') & (df['tourney_level'] == 'D'), 'loser_gender'] = 'M'"
   ]
  },
  {
   "cell_type": "code",
   "execution_count": 37,
   "id": "valuable-trail",
   "metadata": {},
   "outputs": [
    {
     "data": {
      "text/plain": [
       "<AxesSubplot:title={'center':'Distribution of tourney_level values according to the gender of the player'}, xlabel='Gender of the winner and loser player', ylabel='Counting'>"
      ]
     },
     "execution_count": 37,
     "metadata": {},
     "output_type": "execute_result"
    },
    {
     "data": {
      "image/png": "[encoded data removed]",
      "text/plain": [
       "<Figure size 1440x720 with 1 Axes>"
      ]
     },
     "metadata": {
      "needs_background": "light"
     },
     "output_type": "display_data"
    }
   ],
   "source": [
    "l= df.groupby(['winner_gender', 'loser_gender', 'tourney_level']).size()\n",
    "l = l.unstack()\n",
    "l.plot(\n",
    "    figsize=(20, 10), \n",
    "    title=\"Distribution of tourney_level values according to the gender of the player\", \n",
    "    xlabel=\"Gender of the winner and loser player\",\n",
    "    ylabel=\"Counting\",\n",
    "    kind='bar')"
   ]
  },
  {
   "cell_type": "markdown",
   "id": "ba01c1eb-db20-498b-8c48-0a1ed09db96a",
   "metadata": {},
   "source": [
    "### heights\n",
    "The heights are resolved in three steps:  \n",
    "1. group by name and substitute missing values with heights mean of the player\n",
    "2. group by gender and nationality together and resolve again with mean\n",
    "3. group by only gender "
   ]
  },
  {
   "cell_type": "code",
   "execution_count": 38,
   "id": "f3a78002-3365-4f1f-9586-19819e69c61d",
   "metadata": {
    "tags": []
   },
   "outputs": [
    {
     "name": "stdout",
     "output_type": "stream",
     "text": [
      "winner_ht null_values:\t136468\n",
      "count    49282.000000\n",
      "mean       181.415040\n",
      "std         11.632295\n",
      "min          2.000000\n",
      "25%        175.000000\n",
      "50%        183.000000\n",
      "75%        188.000000\n",
      "max        211.000000\n",
      "Name: winner_ht, dtype: float64\n",
      "winner_ht null_values:\t134356\n",
      "count    51394.000000\n",
      "mean       180.978208\n",
      "std         12.082347\n",
      "min          2.000000\n",
      "25%        175.000000\n",
      "50%        182.000000\n",
      "75%        188.000000\n",
      "max        211.000000\n",
      "Name: winner_ht, dtype: float64\n",
      "loser_ht null_values:\t147429\n",
      "count    38321.000000\n",
      "mean       181.567209\n",
      "std         10.816284\n",
      "min          2.000000\n",
      "25%        175.000000\n",
      "50%        183.000000\n",
      "75%        188.000000\n",
      "max        211.000000\n",
      "Name: loser_ht, dtype: float64\n",
      "loser_ht null_values:\t145961\n",
      "count    39789.000000\n",
      "mean       181.159516\n",
      "std         11.384144\n",
      "min          2.000000\n",
      "25%        175.000000\n",
      "50%        183.000000\n",
      "75%        188.000000\n",
      "max        211.000000\n",
      "Name: loser_ht, dtype: float64\n"
     ]
    }
   ],
   "source": [
    "print_stat(df,'winner_ht')\n",
    "df['winner_ht'] = df['winner_ht'].fillna(df.groupby('winner_name')['winner_ht'].transform('mean'))\n",
    "print_stat(df, 'winner_ht')\n",
    "\n",
    "print_stat(df, 'loser_ht')\n",
    "df['loser_ht'] = df['loser_ht'].fillna(df.groupby('loser_name')['loser_ht'].transform('mean'))\n",
    "print_stat(df, 'loser_ht')"
   ]
  },
  {
   "cell_type": "code",
   "execution_count": 39,
   "id": "ceea9894-012c-4608-8dfb-a6fd96723534",
   "metadata": {},
   "outputs": [
    {
     "name": "stderr",
     "output_type": "stream",
     "text": [
      "C:\\Users\\Gerlando\\anaconda3\\lib\\site-packages\\pandas\\core\\generic.py:6392: SettingWithCopyWarning: \n",
      "A value is trying to be set on a copy of a slice from a DataFrame\n",
      "\n",
      "See the caveats in the documentation: https://pandas.pydata.org/pandas-docs/stable/user_guide/indexing.html#returning-a-view-versus-a-copy\n",
      "  return self._update_inplace(result)\n"
     ]
    },
    {
     "name": "stdout",
     "output_type": "stream",
     "text": [
      "rows with winner ht Nan 0\n",
      "rows with loser ht Nan 0\n"
     ]
    }
   ],
   "source": [
    "#The remaining heights are estimated according to mean, grouping by nationality and gender together\n",
    "w_ht = df[['winner_name', 'winner_ioc', 'winner_ht', 'winner_gender']].copy()\n",
    "w_ht.set_axis(['name', 'ioc', 'ht', 'gender'], axis = 1, inplace = True)\n",
    "l_ht = df[['loser_name','loser_ioc', 'loser_ht', 'loser_gender']].copy()\n",
    "l_ht.set_axis(['name', 'ioc', 'ht', 'gender'], axis = 1, inplace = True)\n",
    "\n",
    "player_ht = w_ht.append(l_ht)\n",
    "player_ht.drop_duplicates(inplace = True)\n",
    "#female players\n",
    "female_ht = player_ht[player_ht.gender == 'F']\n",
    "female_ht.ht.fillna(female_ht.groupby('ioc')['ht'].transform('mean'), inplace = True)\n",
    "#for female not yet resolved, consider height's mean depending on only gender\n",
    "female_ht.ht.fillna(female_ht.ht.mean(), inplace = True)\n",
    "\n",
    "#male players\n",
    "male_ht = player_ht[player_ht.gender == 'M']\n",
    "male_ht.ht.fillna(male_ht.groupby('ioc')['ht'].transform('mean'), inplace = True)\n",
    "male_ht.ht.fillna(male_ht.ht.mean(), inplace = True)\n",
    "\n",
    "\n",
    "#when we'll create the player profile we are interested in the last ht \n",
    "player_ht = female_ht.append(male_ht)\n",
    "player_ht = player_ht.groupby('name').ht.max()\n",
    "player_ht = pd.DataFrame(player_ht)\n",
    "player_ht = player_ht.reset_index()\n",
    "\n",
    "\n",
    "#fillna winner player\n",
    "player_ht.set_axis(['winner_name', 'winner_ht'], axis = 1, inplace = True)\n",
    "del df['winner_ht']\n",
    "df = pd.merge(df, player_ht, how = 'left', on = 'winner_name')\n",
    "\n",
    "\n",
    "#fillna loser player\n",
    "player_ht.set_axis(['loser_name', 'loser_ht'], axis = 1, inplace = True)\n",
    "del df['loser_ht']\n",
    "df = pd.merge(df, player_ht, how = 'left', on = 'loser_name')\n",
    "\n",
    "\n",
    "print('rows with winner ht Nan', df.winner_ht.isna().sum())\n",
    "print('rows with loser ht Nan', df.loser_ht.isna().sum())"
   ]
  },
  {
   "cell_type": "code",
   "execution_count": 40,
   "id": "ef5b5ed2",
   "metadata": {},
   "outputs": [
    {
     "data": {
      "text/plain": [
       "loser_name    0\n",
       "loser_ht      0\n",
       "dtype: int64"
      ]
     },
     "execution_count": 40,
     "metadata": {},
     "output_type": "execute_result"
    }
   ],
   "source": [
    "player_ht.isna().sum()"
   ]
  },
  {
   "cell_type": "markdown",
   "id": "9e21d232-afd7-4c45-9e72-b46056b640f8",
   "metadata": {},
   "source": [
    "### age\n",
    "To avoid more values for same player, calulate birth year and substitute the attribute age with attribute birth, for both winner and loser player. It is computed by the difference between the tourney’s year, in which the match has been played, and the age of the player. In the case there are 2 different ages we took the minimum since the other has been changed due to the day of the birth."
   ]
  },
  {
   "cell_type": "code",
   "execution_count": 41,
   "id": "pressing-marsh",
   "metadata": {},
   "outputs": [],
   "source": [
    "df['tourney_date'] = pd.to_datetime(df['tourney_date'])\n",
    "df['tourney_year'] = df['tourney_date'].dt.year\n",
    "df['winner_birth']=df['tourney_year']-df['winner_age']\n",
    "df['loser_birth']=df['tourney_year']-df['loser_age']\n",
    "\n",
    "#winner_bith\n",
    "winner_birth=df.groupby(['winner_name']).winner_birth.min() \n",
    "winner_birth = pd.DataFrame(winner_birth)\n",
    "winner_birth.reset_index(inplace=True)\n",
    "winner_birth.set_axis(['name', 'birth'], axis=1, inplace=True)\n",
    "\n",
    "#loser_birth\n",
    "loser_birth = df.groupby(['loser_name']).loser_birth.min() \n",
    "loser_birth = pd.DataFrame(loser_birth)\n",
    "loser_birth.reset_index(inplace=True)\n",
    "loser_birth.set_axis(['name', 'birth'], axis=1, inplace=True)\n",
    "\n",
    "#players_birth\n",
    "name_birth = winner_birth.append(loser_birth)\n",
    "name_birth.dropna(inplace=True)\n",
    "name_birth.drop_duplicates(inplace=True)\n",
    "name_birth = name_birth.groupby(name_birth['name']).birth.min()\n",
    "name_birth = pd.DataFrame(name_birth)\n",
    "name_birth.reset_index(inplace=True)\n",
    "\n",
    "del df['winner_birth']\n",
    "del df['loser_birth']\n",
    "\n",
    "#set winner birth\n",
    "name_birth.set_axis(['winner_name', 'winner_birth'], axis=1, inplace=True)\n",
    "df = pd.merge(df, name_birth, how='left', on='winner_name')\n",
    "#set loser birth\n",
    "name_birth.set_axis(['loser_name', 'loser_birth'], axis=1, inplace=True)\n",
    "df = pd.merge(df, name_birth, how='left', on='loser_name')"
   ]
  },
  {
   "cell_type": "code",
   "execution_count": 42,
   "id": "pretty-palestinian",
   "metadata": {},
   "outputs": [],
   "source": [
    "del df['winner_age']\n",
    "del df['loser_age']"
   ]
  },
  {
   "cell_type": "code",
   "execution_count": 43,
   "id": "endless-reform",
   "metadata": {},
   "outputs": [
    {
     "name": "stdout",
     "output_type": "stream",
     "text": [
      "winner_birth null_values:\t2809\n",
      "loser_birth null_values:\t6468\n"
     ]
    }
   ],
   "source": [
    "print_simple_stat(df, 'winner_birth')\n",
    "print_simple_stat(df, 'loser_birth')"
   ]
  },
  {
   "cell_type": "code",
   "execution_count": 44,
   "id": "bb507b37-69b1-4cd0-982a-61133c32a904",
   "metadata": {},
   "outputs": [
    {
     "name": "stdout",
     "output_type": "stream",
     "text": [
      "w_2ndWon null_values:\t55142\n",
      "l_2ndWon null_values:\t56825\n",
      "winner_rank null_values:\t19372\n",
      "loser_rank null_values:\t35231\n",
      "winner_rank_points null_values:\t19388\n",
      "loser_rank_points null_values:\t35247\n"
     ]
    }
   ],
   "source": [
    "#the commented number are NaN values before resolving some of them \n",
    "print_simple_stat(df, 'w_2ndWon') #103819\n",
    "print_simple_stat(df, 'l_2ndWon') #103816 \n",
    "print_simple_stat(df, 'winner_rank') #19372\n",
    "print_simple_stat(df, 'loser_rank') #35232\n",
    "print_simple_stat(df, 'winner_rank_points') #19388\n",
    "print_simple_stat(df, 'loser_rank_points') #35248"
   ]
  },
  {
   "cell_type": "markdown",
   "id": "095aec03-b33a-44b5-b9e5-3ad64e795676",
   "metadata": {},
   "source": [
    "## Wrong values"
   ]
  },
  {
   "cell_type": "markdown",
   "id": "ec12233f",
   "metadata": {},
   "source": [
    "### tourney_name"
   ]
  },
  {
   "cell_type": "markdown",
   "id": "known-guidance",
   "metadata": {},
   "source": [
    "Try to resolve wrong values in tourney name. Strings are normalized so extra special characters and punctuation are romoved, then tourney names are grouped by tourney id, this is useful to discover very similar names that have only few different characters, also names write in different ways or language are discovered and resolved."
   ]
  },
  {
   "cell_type": "code",
   "execution_count": 45,
   "id": "182cd33b",
   "metadata": {},
   "outputs": [
    {
     "name": "stdout",
     "output_type": "stream",
     "text": [
      "tourney_id\n",
      "0405              [TOKYO , JAPAN OPEN TOKYO, HIROSHIMA]\n",
      "0637                      [CHAMPAIGN, CHAMPAIGN URBANA]\n",
      "0703                                [STANFORD, ST.JOSE]\n",
      "0741                           [EASTBOURNE, NOTTINGHAM]\n",
      "0784                                 [SEVILLE, SEVILLA]\n",
      "0806                      [TORONTO, MONTREAL, TORONTO ]\n",
      "0808                       [SINGAPORE, SHENZHEN FINALS]\n",
      "0891                                    [PUNE, CHENNAI]\n",
      "1056                                     [TOKYO, OSAKA]\n",
      "1091                                 [CALVIA, MALLORCA]\n",
      "1094                                 [GSTAAD, LAUSANNE]\n",
      "1096                                  [TAIPEI, HUA HIN]\n",
      "1796                             [ST BRIEUC, ST.BRIEUC]\n",
      "2000                                [CHICAGO, CHICAGO ]\n",
      "2151                                      [ROME, ROME ]\n",
      "3618                  [ASTANA, NUR SULTAN, NUR SULTAN ]\n",
      "3627                                    [TODI, LAQUILA]\n",
      "3945            [ST.BENEDETTO DEL TRONTO, ST.BENEDETTO]\n",
      "4012                              [TASHKENT, TASHKENT ]\n",
      "5016                       [BUCARAMANGA, FLORIDABLANCA]\n",
      "5047                                [BANGKOK, BANGKOK ]\n",
      "5057                                      [ROME, ROME ]\n",
      "5069                              [SARASOTA, BRADENTON]\n",
      "581     [DOHA AUS OPEN QUALIES, DUBAI AUS OPEN QUALIES]\n",
      "6239                                [QUIMPER, QUIMPER ]\n",
      "6795                                [LIBEREC, LIBEREC ]\n",
      "6963                              [MORELOS, CUERNAVACA]\n",
      "7085                                  [BIELLA, BIELLA ]\n",
      "7318                              [COLUMBUS, ANN ARBOR]\n",
      "7333                          [HOI MINH, HOI MINH CITY]\n",
      "7343                                   [NONGBO, NINGBO]\n",
      "7393                                [CANBERRA, BENDIGO]\n",
      "7440                              [BUENOS AIRES, TIGRE]\n",
      "7536                                      [LYON, LYON ]\n",
      "7586                               [CANBERRA, PLAYFORD]\n",
      "7652                                [KOBLENZ, KOBLENZ ]\n",
      "7742                                   [LISBON, LISBOA]\n",
      "7774                            [VANCOUVER, VANCOUVER ]\n",
      "7808                             [BANGALORE, BENGALURU]\n",
      "7841                                [BENDIGO, PLAYFORD]\n",
      "7909                                [ALICANTE, VILLENA]\n",
      "8285                          [NUR SULTAN , NUR SULTAN]\n",
      "8371                    [POTCHEFSTROOM, POTCHEFSTROOM ]\n",
      "8388                                    [SPLIT, SPLIT ]\n",
      "9003                 [POPRAD, POPRAD TATRY, BRATISLAVA]\n",
      "9118                               [NEW HAVEN, CHICAGO]\n",
      "9124                              [FLORENCE, FLORENCE ]\n",
      "9128                                [CALGARY, CALGARY ]\n",
      "M006                      [INDIAN WELLS , INDIAN WELLS]\n",
      "M007                                    [MIAMI , MIAMI]\n",
      "M009                                      [ROME , ROME]\n",
      "M015                                [BEIJING, BEIJING ]\n",
      "M021                                  [MADRID , MADRID]\n",
      "M024                          [CINCINNATI , CINCINNATI]\n",
      "O16                            [OLYMPICS, RIO OLYMPICS]\n",
      "Name: tourney_name, dtype: object\n",
      "55\n"
     ]
    }
   ],
   "source": [
    "df['tourney_name']=df['tourney_name'].str.upper()\n",
    "dd = df.copy()\n",
    "df['tourney_id']= df['tourney_id'].str[5:]\n",
    "df['tourney_name']=df['tourney_name'].replace( {\n",
    "    'MASTERS':'',\n",
    "    ' \\d*' : ' ',\n",
    "    '[-._''+]' : ' ',\n",
    "     \"'\": '',\n",
    "    ' $ ' : '',\n",
    "    'CH ':'',\n",
    "    ' CH':'',        \n",
    "    'SAN ':'ST.',\n",
    "    'SAINT ':'ST.',\n",
    "    'ST. ':'ST '\n",
    "}, regex=True)\n",
    "\n",
    "TourneyId_name = df.groupby(['tourney_id']).tourney_name.nunique() # it contains each value of TourneyId and the number of Tourneyname values it is associated with \n",
    "TourneyId_name = TourneyId_name[TourneyId_name > 1] # it contains the TourneyId values associated with more than one Tourneyname value\n",
    "\n",
    "\n",
    "print(df[df.tourney_id.isin(TourneyId_name.index)].groupby(['tourney_id']).tourney_name.unique())\n",
    "print(df[df.tourney_id.isin(TourneyId_name.index)].groupby(['tourney_id']).tourney_name.unique().count())"
   ]
  },
  {
   "cell_type": "code",
   "execution_count": 46,
   "id": "thirty-secretariat",
   "metadata": {},
   "outputs": [
    {
     "name": "stdout",
     "output_type": "stream",
     "text": [
      "tourney_id\n",
      "0405               [TOKYO, JAPAN OPEN TOKYO, HIROSHIMA]\n",
      "0637                      [CHAMPAIGN, CHAMPAIGN URBANA]\n",
      "0703                                [STANFORD, ST.JOSE]\n",
      "0741                           [EASTBOURNE, NOTTINGHAM]\n",
      "0806                                [TORONTO, MONTREAL]\n",
      "0808                       [SINGAPORE, SHENZHEN FINALS]\n",
      "0891                                    [PUNE, CHENNAI]\n",
      "1056                                     [TOKYO, OSAKA]\n",
      "1091                                 [CALVIA, MALLORCA]\n",
      "1094                                 [GSTAAD, LAUSANNE]\n",
      "1096                                  [TAIPEI, HUA HIN]\n",
      "3618                               [ASTANA, NUR SULTAN]\n",
      "3627                                    [TODI, LAQUILA]\n",
      "5016                       [BUCARAMANGA, FLORIDABLANCA]\n",
      "5069                              [SARASOTA, BRADENTON]\n",
      "581     [DOHA AUS OPEN QUALIES, DUBAI AUS OPEN QUALIES]\n",
      "6963                              [MORELOS, CUERNAVACA]\n",
      "7318                              [COLUMBUS, ANN ARBOR]\n",
      "7343                                   [NONGBO, NINGBO]\n",
      "7393                                [CANBERRA, BENDIGO]\n",
      "7440                              [BUENOS AIRES, TIGRE]\n",
      "7586                               [CANBERRA, PLAYFORD]\n",
      "7841                                [BENDIGO, PLAYFORD]\n",
      "7909                                [ALICANTE, VILLENA]\n",
      "9003                               [POPRAD, BRATISLAVA]\n",
      "9118                               [NEW HAVEN, CHICAGO]\n",
      "O16                            [OLYMPICS, RIO OLYMPICS]\n",
      "Name: tourney_name, dtype: object\n",
      "27\n"
     ]
    }
   ],
   "source": [
    "\n",
    "df['tourney_name']=df['tourney_name'].replace( {\n",
    "    'SEVILLA':'SEVILLE',\n",
    "    'ST BRIEUC':'ST.BRIEUC',\n",
    "    'ST.BENEDETTO':'ST.BENEDETTO DEL TRONTO',\n",
    "    'HOI MINH CITY':'HOI MINH',\n",
    "    'LISBOA':'LISBON',\n",
    "    'BENGALURU':'BANGALORE',\n",
    "    'POPRAD TATRY':'POPRAD',\n",
    "}, regex=True)\n",
    "\n",
    "df['tourney_name']=df['tourney_name'].replace( {\n",
    "    'DEL TRONTO DEL TRONTO':'DEL TRONTO',\n",
    "    'RIO RIO ':'RIO ',\n",
    "}, regex=True)\n",
    "\n",
    "\n",
    "df['tourney_name'] = df['tourney_name'].str.rstrip()\n",
    "\n",
    "\n",
    "TourneyId_name = df.groupby(['tourney_id']).tourney_name.nunique() # it contains each value of TourneyId and the number of Tourneyname values it is associated with \n",
    "TourneyId_name = TourneyId_name[TourneyId_name > 1] # it contains the TourneyId values associated with more than one Tourneyname value\n",
    "\n",
    "print(df[df.tourney_id.isin(TourneyId_name.index)].groupby(['tourney_id']).tourney_name.unique())\n",
    "print(df[df.tourney_id.isin(TourneyId_name.index)].groupby(['tourney_id']).tourney_name.unique().count())\n",
    "df['tourney_id']=dd['tourney_id']\n"
   ]
  },
  {
   "cell_type": "markdown",
   "id": "84c9bf59",
   "metadata": {},
   "source": [
    "### winner_name and loser_name\n",
    "Verify if there is a unique relationship between ids and names. Unfortunately a name is not identified by a unique id and to a id corresponds more than one names. So no correction is applied."
   ]
  },
  {
   "cell_type": "code",
   "execution_count": 47,
   "id": "f1b93c04",
   "metadata": {},
   "outputs": [
    {
     "name": "stdout",
     "output_type": "stream",
     "text": [
      "winners with more than one id: 9\n"
     ]
    }
   ],
   "source": [
    "df['winner_name']=df['winner_name'].str.upper()\n",
    "df['winner_name']=df['winner_name'].replace({'  ':' '}, regex=True)\n",
    "WinnerId_name = df.groupby(['winner_name']).winner_id.nunique()\n",
    "WinnerId_name = WinnerId_name[WinnerId_name > 1] \n",
    "print('winners with more than one id:',df[df.winner_name.isin(WinnerId_name.index)].groupby(['winner_name']).winner_id.unique().count())"
   ]
  },
  {
   "cell_type": "code",
   "execution_count": 48,
   "id": "b12d5cb2",
   "metadata": {},
   "outputs": [
    {
     "name": "stdout",
     "output_type": "stream",
     "text": [
      "winners with more than one id: loser_name\n",
      "ASTRID CIROTTE             [223401.0, 236980.0]\n",
      "EKATERINA MAKAROVA         [201505.0, 223126.0]\n",
      "ELENI FASOULA              [222942.0, 222943.0]\n",
      "ELLIE MYERS                [222407.0, 240168.0]\n",
      "EMILSE LUJAN RUIZ          [222646.0, 236974.0]\n",
      "FITRIANI SABATINI          [221189.0, 239429.0]\n",
      "GIUSEPPE TRESCA            [206834.0, 207982.0]\n",
      "GUY STOKMAN                [206883.0, 207142.0]\n",
      "HEI CHING CLAUDIA NG       [219835.0, 216586.0]\n",
      "HOLLY FISCHER              [221142.0, 222228.0]\n",
      "KUAN YI LEE                [134120.0, 221745.0]\n",
      "LARA ONAL                  [224486.0, 223215.0]\n",
      "LIISA VARUL                [222915.0, 222914.0]\n",
      "MARIA FERNANDA NAVARRO     [223367.0, 223287.0]\n",
      "MATYLDA BURYLO             [222845.0, 222066.0]\n",
      "NANA KAWAGISHI             [221771.0, 244078.0]\n",
      "SOFIA NAHIARA GARCIA       [220928.0, 236977.0]\n",
      "STANISLAVA BOBROVNIKOVA    [221347.0, 225865.0]\n",
      "VALENTINA LIA              [220334.0, 239415.0]\n",
      "Name: loser_id, dtype: object\n"
     ]
    }
   ],
   "source": [
    "df['loser_name']=df['loser_name'].str.upper()\n",
    "df['loser_name']=df['loser_name'].replace({'  ':' '}, regex=True)\n",
    "LoserId_name = df.groupby(['loser_name']).loser_id.nunique() \n",
    "LoserId_name = LoserId_name[LoserId_name > 1] \n",
    "print('winners with more than one id:',df[df.loser_name.isin(LoserId_name.index)].groupby(['loser_name']).loser_id.unique())"
   ]
  },
  {
   "cell_type": "code",
   "execution_count": 49,
   "id": "gross-porter",
   "metadata": {},
   "outputs": [
    {
     "name": "stdout",
     "output_type": "stream",
     "text": [
      "HOW MANY IDs CORRESPOND TO MORE THAN ONE NAMES: 47\n",
      "loser_id\n",
      "200033.0                      [SERENA WILLIAMS, KUSHAAN NATH]\n",
      "202273.0                    [ANURAG NENWANI, LIGA DEKMEIJERE]\n",
      "202277.0                      [MARIANA CORREA, DAMIEN WENGER]\n",
      "202349.0                   [RUSHMI CHAKRAVARTHI, KAI LEMSTRA]\n",
      "202359.0                      [MARVIN MOELLER, CHIN WEI CHAN]\n",
      "202414.0             [CATHERINE HARRISON, ALEXANDRE ROTSAERT]\n",
      "202419.0                     [BARBARA LUZ, JUSTIN SCHLAGETER]\n",
      "202420.0                    [AIDAN MCHUGH, AN SOPHIE MESTACH]\n",
      "202421.0               [ALISON VAN UYTVANCK, GEORGE HOUGHTON]\n",
      "202426.0                         [JULIA BOSERUP, MATT HALPIN]\n",
      "202428.0                 [KIKI BERTENS, JOAO PEDRO ALCANTARA]\n",
      "202429.0                [CAMILA GIORGI, DAVID LUCAS AMBROZIC]\n",
      "202432.0                    [HILDA MELANDER, NICK STACHOWIAK]\n",
      "202433.0                [ANNA GIULIA REMONDINA, CONG TIEN LE]\n",
      "202434.0                   [ALEKSANDRA KRUNIC, RICARDO ORTIZ]\n",
      "202436.0                        [REKA LUCA JANI, ZI YANG CAI]\n",
      "202437.0                      [ANASTASIA GRYMALSKA, YANG LIU]\n",
      "202440.0                      [PAULA ORMAECHEA, MARCO MICELI]\n",
      "202443.0                     [VALERIA SAVINYKH, TOBIAS SONNE]\n",
      "202447.0                  [ALEXANDRA MUELLER, NARU SHIRAFUJI]\n",
      "202477.0                [DINAH PFIZENMAIER, MILAN RADOJKOVIC]\n",
      "205831.0                 [AMMAR ALHOGBANI, ISABELLA ROBBIANI]\n",
      "205842.0                       [CARLA LUCERO, ARTHUR REYMOND]\n",
      "205941.0                   [GANNA POZNIKHIRENKO, RISHI REDDY]\n",
      "205984.0                     [LINDA PRENKOVIC, DANIIL KLIMOV]\n",
      "206000.0                          [MICHEL SAADE, KANA DANIEL]\n",
      "206003.0                     [LAURA SCHAEDER, CHIH CHI HUANG]\n",
      "206062.0             [ADRIJA RUNCHA, WERAPATH SIRIJARIYAPORN]\n",
      "206091.0                  [YOLANDE LEACOCK, YAN BONDAREVSKIY]\n",
      "206137.0                    [OLEKSANDRA PISKUN, ANDREJ GLVAC]\n",
      "206145.0                        [DIANA SUMOVA, THOMAS WRIGHT]\n",
      "206171.0                       [ALICE BACQUIE, BARNABY SMITH]\n",
      "206173.0                   [JANNIK SINNER, BEATRICE LOMBARDO]\n",
      "206199.0                        [KEVIN CHERUIYOT, AI WEN ZHU]\n",
      "206258.0            [DUNJA STAMENKOVIC, SAUL VERDUGO VICENTE]\n",
      "206299.0                          [SARAH ADEGOKE, MAX BENAIM]\n",
      "206363.0               [ANNA DANILINA, ALEXANDER WOLFSCHMIDT]\n",
      "206377.0              [EMMA JANSSEN, MICHEL ALEXANDRE FORTIN]\n",
      "206403.0                         [ALONA FOMINA, ALENA FOMINA]\n",
      "206426.0                 [GIULIA PAIRONE, MIHAILO SAMARDZIJA]\n",
      "206430.0    [CAROLINA MELIGENI RODRIGUES ALVES, ANDREA DEL...\n",
      "206579.0                 [SARAH TAMI MASI, SEAN VAN RENSBURG]\n",
      "207990.0                 [MORITZ THIEM, MARINE NIZRI SPIEGEL]\n",
      "208147.0            [ALEXANDRE AUBRIOT, PAMELA DURAN VINUEZA]\n",
      "208518.0                       [ANA PAULA SAVIOLE, HAZEM NAW]\n",
      "208603.0                      [AMIRA BENAISSA, CLEEVE HARPER]\n",
      "209866.0                        [GRACE LEAKE, KARLIS OZOLINS]\n",
      "Name: loser_name, dtype: object\n"
     ]
    }
   ],
   "source": [
    "LoserId_name = df.groupby(['loser_id']).loser_name.nunique() \n",
    "LoserId_name = LoserId_name[LoserId_name > 1] \n",
    "print(\"HOW MANY IDs CORRESPOND TO MORE THAN ONE NAMES:\", df[df.loser_id.isin(LoserId_name.index)].groupby(['loser_id']).loser_name.unique().count())\n",
    "print(df[df.loser_id.isin(LoserId_name.index)].groupby(['loser_id']).loser_name.unique())"
   ]
  },
  {
   "cell_type": "markdown",
   "id": "5a5f0b3e",
   "metadata": {},
   "source": [
    "### winner_ioc\n",
    "Regarding the nationalities, use a pycountry library in order to check if the code of each nation is written correctly, the analysis gives good results for all the attributes. Is noted that some players (3 to be precise) appear with multiple nationalities, following research with external sources it is checked which players have dual nationality and replace those which have the wrong nationalities with the correct ones. "
   ]
  },
  {
   "cell_type": "code",
   "execution_count": 50,
   "id": "19cca546",
   "metadata": {},
   "outputs": [
    {
     "name": "stdout",
     "output_type": "stream",
     "text": [
      "no: 0\n"
     ]
    }
   ],
   "source": [
    "country_winner_dim=df.groupby(df.winner_ioc,as_index=False).size()\n",
    "nation=np.concatenate((df.winner_ioc.unique(), df.loser_ioc.unique()),0)\n",
    "country = pd.DataFrame(nation)\n",
    "country = country.drop_duplicates()\n",
    "\n",
    "no=0\n",
    "\n",
    "for i in country[0]:\n",
    "    try:\n",
    "        pycountry.countries.get(alpha_3=i)\n",
    "    except:\n",
    "        no+=1\n",
    "        \n",
    "print(\"no:\",no)\n",
    "\n"
   ]
  },
  {
   "cell_type": "code",
   "execution_count": 51,
   "id": "5089f695",
   "metadata": {},
   "outputs": [
    {
     "data": {
      "text/plain": [
       "loser_name\n",
       "ANASTASIA KULIKOVA    [RUS, FIN]\n",
       "ELENI FASOULA         [GRE, KAZ]\n",
       "MATYLDA BURYLO        [POL, NOR]\n",
       "Name: loser_ioc, dtype: object"
      ]
     },
     "execution_count": 51,
     "metadata": {},
     "output_type": "execute_result"
    }
   ],
   "source": [
    "LoserId_name = df.groupby(['loser_name']).loser_ioc.nunique()\n",
    "LoserId_name = LoserId_name[LoserId_name > 1] \n",
    "df[df.loser_name.isin(LoserId_name.index)].groupby(['loser_name']).loser_ioc.unique()"
   ]
  },
  {
   "cell_type": "code",
   "execution_count": 52,
   "id": "b35e581f",
   "metadata": {
    "scrolled": false
   },
   "outputs": [
    {
     "name": "stdout",
     "output_type": "stream",
     "text": [
      "['KAZ']\n",
      "['GRE' 'KAZ']\n",
      "['GRE']\n",
      "['GRE']\n",
      "[]\n",
      "['POL' 'NOR']\n",
      "[]\n",
      "['NOR']\n",
      "['[RUS, FIN]']\n",
      "['[RUS, FIN]']\n"
     ]
    }
   ],
   "source": [
    "print(df[df.winner_name=='ELENI FASOULA']['winner_ioc'].unique())\n",
    "print(df[df.loser_name=='ELENI FASOULA']['loser_ioc'].unique())\n",
    "\n",
    "df.loc[(df.winner_name=='ELENI FASOULA'), 'winner_ioc'] = 'GRE' \n",
    "df.loc[(df.loser_name=='ELENI FASOULA'), 'loser_ioc'] = 'GRE' \n",
    "\n",
    "print(df[df.winner_name=='ELENI FASOULA']['winner_ioc'].unique())\n",
    "print(df[df.loser_name=='ELENI FASOULA']['loser_ioc'].unique())\n",
    "\n",
    "print(df[df.winner_name=='MATYLDA BURYLO']['winner_ioc'].unique())\n",
    "print(df[df.loser_name=='MATYLDA BURYLO']['loser_ioc'].unique())\n",
    "\n",
    "df.loc[(df.winner_name=='MATYLDA BURYLO'), 'winner_ioc'] = 'NOR' \n",
    "df.loc[(df.loser_name=='MATYLDA BURYLO'), 'loser_ioc'] = 'NOR' \n",
    "\n",
    "print(df[df.winner_name=='MATYLDA BURYLO']['winner_ioc'].unique())\n",
    "print(df[df.loser_name=='MATYLDA BURYLO']['loser_ioc'].unique())\n",
    "\n",
    "df.loc[(df.winner_name=='ANASTASIA KULIKOVA'), 'winner_ioc'] = '[RUS, FIN]' \n",
    "df.loc[(df.loser_name=='ANASTASIA KULIKOVA'), 'loser_ioc'] = '[RUS, FIN]' \n",
    "\n",
    "print(df[df.winner_name=='ANASTASIA KULIKOVA']['winner_ioc'].unique())\n",
    "print(df[df.loser_name=='ANASTASIA KULIKOVA']['loser_ioc'].unique())"
   ]
  },
  {
   "cell_type": "code",
   "execution_count": 53,
   "id": "3c4329ca",
   "metadata": {},
   "outputs": [
    {
     "data": {
      "text/plain": [
       "Series([], Name: winner_ioc, dtype: object)"
      ]
     },
     "execution_count": 53,
     "metadata": {},
     "output_type": "execute_result"
    }
   ],
   "source": [
    "LoserId_name = df.groupby(['winner_name']).winner_ioc.nunique() # it contains each value of TourneyId and the number of Tourneyname values it is associated with \n",
    "LoserId_name = LoserId_name[LoserId_name > 1] # it contains the TourneyId values associated with more than one Tourneyname value\n",
    "\n",
    "df[df.winner_name.isin(LoserId_name.index)].groupby(['winner_name']).winner_ioc.unique()"
   ]
  },
  {
   "cell_type": "markdown",
   "id": "42fd7501",
   "metadata": {},
   "source": [
    "#### winner_hand and loser_hand\n",
    "Try to resolve player with more than one hand assigned to him. Search for players with 'U' hand and 'R' or 'L' hand and substitute U hand with the correct one."
   ]
  },
  {
   "cell_type": "code",
   "execution_count": 54,
   "id": "55b67036",
   "metadata": {},
   "outputs": [],
   "source": [
    "LoserId_name = df.groupby(['loser_name']).loser_hand.nunique() \n",
    "LoserId_name = LoserId_name[LoserId_name > 1] \n",
    "\n",
    "df[df.loser_name.isin(LoserId_name.index)].groupby(['loser_name']).loser_hand.unique()\n",
    "names=df[df.loser_name.isin(LoserId_name.index)].groupby(['loser_name']).loser_hand.unique()\n",
    "\n",
    "for i in names.keys():\n",
    "    value=df[(df.loser_name==i) & (df.loser_hand!='U')]['loser_hand'].unique()\n",
    "    df.loc[(df.loser_name==i) & (df.loser_hand=='U'), 'loser_hand'] = value[0]\n",
    "\n",
    "WinnerId_name = df.groupby(['winner_name']).winner_hand.nunique() \n",
    "WinnerId_name = WinnerId_name[WinnerId_name > 1] \n",
    "\n",
    "df[df.winner_name.isin(WinnerId_name.index)].groupby(['winner_name']).winner_hand.unique()\n",
    "names=df[df.winner_name.isin(WinnerId_name.index)].groupby(['winner_name']).winner_hand.unique()\n",
    "\n",
    "for i in names.keys():\n",
    "    value=df[(df.winner_name==i) & (df.winner_hand!='U')]['winner_hand'].unique()\n",
    "    df.loc[(df.winner_name==i) & (df.winner_hand=='U'), 'winner_hand']=value[0]"
   ]
  },
  {
   "cell_type": "markdown",
   "id": "8bb756a1",
   "metadata": {},
   "source": [
    "## winner_gender and loser_gender\n",
    "Player with more genders are resolved assign only one."
   ]
  },
  {
   "cell_type": "code",
   "execution_count": 55,
   "id": "60819563",
   "metadata": {},
   "outputs": [],
   "source": [
    "LoserId_name = df.groupby(['loser_name']).loser_gender.nunique() \n",
    "LoserId_name = LoserId_name[LoserId_name > 1] \n",
    "\n",
    "df[df.loser_name.isin(LoserId_name.index)].groupby(['loser_name']).loser_gender.unique()\n",
    "names=df[df.loser_name.isin(LoserId_name.index)].groupby(['loser_name']).loser_gender.unique()\n",
    "for i in names.keys():\n",
    "    value=df[(df.loser_name==i) & (df.loser_gender!='U')]['loser_gender'].unique()\n",
    "    df.loc[(df.loser_name==i), 'loser_gender'] = value[0]\n",
    "\n",
    "WinnerId_name = df.groupby(['winner_name']).winner_gender.nunique() \n",
    "WinnerId_name = WinnerId_name[WinnerId_name > 1] \n",
    "\n",
    "df[df.winner_name.isin(WinnerId_name.index)].groupby(['winner_name']).winner_gender.unique()\n",
    "names=df[df.winner_name.isin(WinnerId_name.index)].groupby(['winner_name']).winner_gender.unique()\n",
    "\n",
    "for i in names.keys():\n",
    "    value=df[(df.winner_name==i) & (df.winner_gender!='U')]['winner_gender'].unique()\n",
    "    df.loc[(df.winner_name==i), 'winner_gender'] = value[0]"
   ]
  },
  {
   "cell_type": "markdown",
   "id": "c8fc0862",
   "metadata": {},
   "source": [
    "# Outliers\n",
    "Try to discover outliers in each numerical attribute considering, if necessary, more attributes together, in case some constraints are present."
   ]
  },
  {
   "cell_type": "markdown",
   "id": "413d04ea",
   "metadata": {},
   "source": [
    "#### winner and loser ht\n",
    "\n",
    "Use the boxplot to visualize if there are some outliers inside attributes. Because players with an outlier heigth are very few, external sources are used to find the correct values of this attribute. Not all values are outliers, some of them are the real value of corresponding attribute.\n",
    "The only wrong value are:\n",
    "Ilija Vucic:       145 --> 188\n",
    "Kamilla Rakhimova: 2.0 --> 174\n",
    "Ivo Karlovic:      208 --> 211"
   ]
  },
  {
   "cell_type": "code",
   "execution_count": 56,
   "id": "2d1fcb59",
   "metadata": {},
   "outputs": [
    {
     "data": {
      "text/plain": [
       "<AxesSubplot:>"
      ]
     },
     "execution_count": 56,
     "metadata": {},
     "output_type": "execute_result"
    },
    {
     "data": {
      "image/png": "[encoded data removed]",
      "text/plain": [
       "<Figure size 432x288 with 1 Axes>"
      ]
     },
     "metadata": {
      "needs_background": "light"
     },
     "output_type": "display_data"
    }
   ],
   "source": [
    "df_box = df[['winner_ht', 'loser_ht']].copy()\n",
    "df_box.plot.box()"
   ]
  },
  {
   "cell_type": "code",
   "execution_count": 57,
   "id": "faced-pledge",
   "metadata": {},
   "outputs": [
    {
     "name": "stdout",
     "output_type": "stream",
     "text": [
      "print winner with possibly wrong ht\n",
      " winner_name\n",
      "ALBANO OLIVETTI      [203.0]\n",
      "ILIJA VUCIC          [145.0]\n",
      "IVO KARLOVIC         [208.0]\n",
      "JERZY JANOWICZ       [203.0]\n",
      "JOHN ISNER           [206.0]\n",
      "KAMILLA RAKHIMOVA      [2.0]\n",
      "KENNY DE SCHEPPER    [203.0]\n",
      "KEVIN ANDERSON       [203.0]\n",
      "KURUMI NARA          [155.0]\n",
      "REILLY OPELKA        [211.0]\n",
      "Name: winner_ht, dtype: object\n"
     ]
    }
   ],
   "source": [
    "L, R = detecting_outliers(df.winner_ht)\n",
    "df_outliers = df[(df.winner_ht < L) | (df.winner_ht > R)]\n",
    "print(\"print winner with possibly wrong ht\\n\", df_outliers.groupby(['winner_name']).winner_ht.unique())"
   ]
  },
  {
   "cell_type": "code",
   "execution_count": 58,
   "id": "vanilla-construction",
   "metadata": {},
   "outputs": [],
   "source": [
    "df.loc[df['winner_name'] == 'KAMILLA RAKHIMOVA', 'winner_ht'] = 174.0 \n",
    "df.loc[df['winner_name'] == 'ILIJA VUCIC', 'winner_ht'] = 188.0 \n",
    "df.loc[df['winner_name'] == 'IVO KARLOVIC', 'winner_ht'] = 211.0 "
   ]
  },
  {
   "cell_type": "markdown",
   "id": "18fd7c3a",
   "metadata": {},
   "source": [
    "The same thing is done for losers"
   ]
  },
  {
   "cell_type": "code",
   "execution_count": 59,
   "id": "348ec2d8",
   "metadata": {},
   "outputs": [
    {
     "name": "stdout",
     "output_type": "stream",
     "text": [
      "print loser with possibly wrong ht\n",
      " loser_name\n",
      "ALBANO OLIVETTI      [203.0]\n",
      "ILIJA VUCIC          [145.0]\n",
      "IVO KARLOVIC         [208.0]\n",
      "JERZY JANOWICZ       [203.0]\n",
      "JOHN ISNER           [206.0]\n",
      "KAMILLA RAKHIMOVA      [2.0]\n",
      "KENNY DE SCHEPPER    [203.0]\n",
      "KEVIN ANDERSON       [203.0]\n",
      "KURUMI NARA          [155.0]\n",
      "MARCELO MELO         [203.0]\n",
      "REILLY OPELKA        [211.0]\n",
      "Name: loser_ht, dtype: object\n"
     ]
    }
   ],
   "source": [
    "L, R = detecting_outliers(df.loser_ht)\n",
    "df_outliers = df[(df.loser_ht < L) | (df.loser_ht > R)]\n",
    "print(\"print loser with possibly wrong ht\\n\", df_outliers.groupby(['loser_name']).loser_ht.unique())"
   ]
  },
  {
   "cell_type": "code",
   "execution_count": 60,
   "id": "straight-synthesis",
   "metadata": {},
   "outputs": [],
   "source": [
    "df.loc[df['loser_name'] == 'KAMILLA RAKHIMOVA', 'loser_ht'] = 174 \n",
    "df.loc[df['loser_name'] == 'ILIJA VUCIC', 'loser_ht'] = 188 \n",
    "df.loc[df['loser_name'] == 'IVO KARLOVIC', 'loser_ht'] = 211 "
   ]
  },
  {
   "cell_type": "code",
   "execution_count": 61,
   "id": "leading-kuwait",
   "metadata": {},
   "outputs": [
    {
     "data": {
      "text/plain": [
       "<AxesSubplot:>"
      ]
     },
     "execution_count": 61,
     "metadata": {},
     "output_type": "execute_result"
    },
    {
     "data": {
      "image/png": "[encoded data removed]",
      "text/plain": [
       "<Figure size 432x288 with 1 Axes>"
      ]
     },
     "metadata": {
      "needs_background": "light"
     },
     "output_type": "display_data"
    }
   ],
   "source": [
    "df_box = df[['winner_ht', 'loser_ht']].copy()\n",
    "df_box.plot.box()"
   ]
  },
  {
   "cell_type": "markdown",
   "id": "d84c65f6",
   "metadata": {},
   "source": [
    "#### winner_birth and loser_birth\n",
    "the birth year of players born before 1960 is changed with L"
   ]
  },
  {
   "cell_type": "code",
   "execution_count": 62,
   "id": "hairy-liquid",
   "metadata": {},
   "outputs": [
    {
     "data": {
      "text/plain": [
       "<AxesSubplot:>"
      ]
     },
     "execution_count": 62,
     "metadata": {},
     "output_type": "execute_result"
    },
    {
     "data": {
      "image/png": "[encoded data removed]",
      "text/plain": [
       "<Figure size 432x288 with 1 Axes>"
      ]
     },
     "metadata": {
      "needs_background": "light"
     },
     "output_type": "display_data"
    }
   ],
   "source": [
    "df_box = df[['loser_birth', 'winner_birth']].copy()\n",
    "df_box.plot.box()"
   ]
  },
  {
   "cell_type": "code",
   "execution_count": 63,
   "id": "497965a6",
   "metadata": {},
   "outputs": [],
   "source": [
    "L, R = detecting_outliers(df.winner_birth)\n",
    "df.loc[df['winner_birth'] < 1960, 'winner_birth'] = L\n",
    "df.loc[df['loser_birth'] < 1960, 'loser_birth'] = L"
   ]
  },
  {
   "cell_type": "code",
   "execution_count": 64,
   "id": "killing-promise",
   "metadata": {},
   "outputs": [
    {
     "data": {
      "text/plain": [
       "<AxesSubplot:>"
      ]
     },
     "execution_count": 64,
     "metadata": {},
     "output_type": "execute_result"
    },
    {
     "data": {
      "image/png": "[encoded data removed]",
      "text/plain": [
       "<Figure size 432x288 with 1 Axes>"
      ]
     },
     "metadata": {
      "needs_background": "light"
     },
     "output_type": "display_data"
    }
   ],
   "source": [
    "df_box = df[['loser_birth', 'winner_birth']].copy()\n",
    "df_box.plot.box()"
   ]
  },
  {
   "cell_type": "markdown",
   "id": "ba675520",
   "metadata": {},
   "source": [
    "#### winner_rank , loser_rank  | winner_rank_point, loser_rank_point\n",
    "Since rank and rank points are very sparse because each player has a different rank, could be useful analyze the trend of hyperbole looked before. It's possibile to observe that no one point is out of this trend, so no one outlier is present."
   ]
  },
  {
   "cell_type": "code",
   "execution_count": 65,
   "id": "c118d8dc",
   "metadata": {},
   "outputs": [
    {
     "data": {
      "text/plain": [
       "<AxesSubplot:>"
      ]
     },
     "execution_count": 65,
     "metadata": {},
     "output_type": "execute_result"
    },
    {
     "data": {
      "image/png": "[encoded data removed]",
      "text/plain": [
       "<Figure size 432x288 with 1 Axes>"
      ]
     },
     "metadata": {
      "needs_background": "light"
     },
     "output_type": "display_data"
    },
    {
     "data": {
      "image/png": "[encoded data removed]",
      "text/plain": [
       "<Figure size 432x288 with 1 Axes>"
      ]
     },
     "metadata": {
      "needs_background": "light"
     },
     "output_type": "display_data"
    }
   ],
   "source": [
    "df_box = df[['winner_rank', 'loser_rank']].copy()\n",
    "df_box.plot.box()\n",
    "df_box = df[['winner_rank_points', 'loser_rank_points']].copy()\n",
    "df_box.plot.box()"
   ]
  },
  {
   "cell_type": "code",
   "execution_count": 66,
   "id": "prerequisite-tribute",
   "metadata": {},
   "outputs": [
    {
     "data": {
      "text/plain": [
       "Text(0, 0.5, 'loser_rank_points')"
      ]
     },
     "execution_count": 66,
     "metadata": {},
     "output_type": "execute_result"
    },
    {
     "data": {
      "image/png": "[encoded data removed]",
      "text/plain": [
       "<Figure size 936x288 with 2 Axes>"
      ]
     },
     "metadata": {
      "needs_background": "light"
     },
     "output_type": "display_data"
    }
   ],
   "source": [
    "f, axs = plt.subplots(nrows = 1, ncols = 2, figsize=(13,4))\n",
    "\n",
    "axs[0].scatter(df['winner_rank'],df['winner_rank_points'])\n",
    "axs[0].set_xlabel('winner_rank')\n",
    "axs[0].set_ylabel('winner_rank_points')\n",
    "axs[1].scatter(df['loser_rank'],df['loser_rank_points'])\n",
    "axs[1].set_xlabel('loser_rank')\n",
    "axs[1].set_ylabel('loser_rank_points')"
   ]
  },
  {
   "cell_type": "markdown",
   "id": "fd6f43b5",
   "metadata": {},
   "source": [
    "#### w_ace and l_ace\n",
    "Boxplots are not useful because values are too sparse."
   ]
  },
  {
   "cell_type": "code",
   "execution_count": 67,
   "id": "earlier-ocean",
   "metadata": {},
   "outputs": [
    {
     "data": {
      "text/plain": [
       "<AxesSubplot:>"
      ]
     },
     "execution_count": 67,
     "metadata": {},
     "output_type": "execute_result"
    },
    {
     "data": {
      "image/png": "[encoded data removed]",
      "text/plain": [
       "<Figure size 432x288 with 1 Axes>"
      ]
     },
     "metadata": {
      "needs_background": "light"
     },
     "output_type": "display_data"
    }
   ],
   "source": [
    "df_box = df[['w_ace', 'l_ace']].copy()\n",
    "df_box.plot.box()"
   ]
  },
  {
   "cell_type": "markdown",
   "id": "colonial-peter",
   "metadata": {},
   "source": [
    "### ace with svpt\n",
    "the trend of ace are studied with svpt because it is expected that the number of aces increase with respect the number of services. Looking to the trend, some points are very distant so, a threashold is set for both ace and svpt. Outliers are changed with the corresponding R value."
   ]
  },
  {
   "cell_type": "code",
   "execution_count": 68,
   "id": "legislative-absolute",
   "metadata": {},
   "outputs": [
    {
     "data": {
      "text/plain": [
       "Text(0, 0.5, 'l_svpt')"
      ]
     },
     "execution_count": 68,
     "metadata": {},
     "output_type": "execute_result"
    },
    {
     "data": {
      "image/png": "[encoded data removed]",
      "text/plain": [
       "<Figure size 936x288 with 2 Axes>"
      ]
     },
     "metadata": {
      "needs_background": "light"
     },
     "output_type": "display_data"
    }
   ],
   "source": [
    "f, axs = plt.subplots(nrows = 1, ncols = 2, figsize=(13,4))\n",
    "axs[0].scatter(df['w_ace'],df['w_svpt'])\n",
    "axs[0].set_xlabel('w_ace')\n",
    "axs[0].set_ylabel('w_svpt')\n",
    "axs[1].scatter(df['l_ace'],df['l_svpt'])\n",
    "axs[1].set_xlabel('l_ace')\n",
    "axs[1].set_ylabel('l_svpt')"
   ]
  },
  {
   "cell_type": "code",
   "execution_count": 69,
   "id": "statistical-greenhouse",
   "metadata": {},
   "outputs": [],
   "source": [
    "L_ace,R_ace = detecting_outliers(df.w_ace)\n",
    "L_svpt,R_svpt = detecting_outliers(df.w_svpt)\n",
    "df.loc[df['w_ace'] >= 60, 'w_ace'] = R_ace\n",
    "df.loc[df['w_svpt'] >= 300, 'w_svpt'] = R_svpt\n",
    "L_ace, R_ace = detecting_outliers(df.l_ace)\n",
    "L_svpt, R_svpt = detecting_outliers(df.l_svpt)\n",
    "df.loc[df['l_ace'] >= 60, 'l_ace'] = R_ace\n",
    "df.loc[df['l_svpt'] >= 300, 'l_svpt'] = R_svpt"
   ]
  },
  {
   "cell_type": "code",
   "execution_count": 70,
   "id": "unable-asthma",
   "metadata": {},
   "outputs": [
    {
     "data": {
      "text/plain": [
       "Text(0, 0.5, 'l_svpt')"
      ]
     },
     "execution_count": 70,
     "metadata": {},
     "output_type": "execute_result"
    },
    {
     "data": {
      "image/png": "[encoded data removed]",
      "text/plain": [
       "<Figure size 936x288 with 2 Axes>"
      ]
     },
     "metadata": {
      "needs_background": "light"
     },
     "output_type": "display_data"
    }
   ],
   "source": [
    "f, axs = plt.subplots(nrows = 1, ncols = 2, figsize=(13,4))\n",
    "axs[0].scatter(df['w_ace'],df['w_svpt'])\n",
    "axs[0].set_xlabel('w_ace')\n",
    "axs[0].set_ylabel('w_svpt')\n",
    "axs[1].scatter(df['l_ace'],df['l_svpt'])\n",
    "axs[1].set_xlabel('l_ace')\n",
    "axs[1].set_ylabel('l_svpt')"
   ]
  },
  {
   "cell_type": "markdown",
   "id": "59ede853",
   "metadata": {},
   "source": [
    "#### w_df and l_df\n",
    "Some points are far away from the distribution, so their values are changed with R."
   ]
  },
  {
   "cell_type": "code",
   "execution_count": 71,
   "id": "initial-scoop",
   "metadata": {},
   "outputs": [
    {
     "data": {
      "text/plain": [
       "<AxesSubplot:>"
      ]
     },
     "execution_count": 71,
     "metadata": {},
     "output_type": "execute_result"
    },
    {
     "data": {
      "image/png": "[encoded data removed]",
      "text/plain": [
       "<Figure size 432x288 with 1 Axes>"
      ]
     },
     "metadata": {
      "needs_background": "light"
     },
     "output_type": "display_data"
    }
   ],
   "source": [
    "df_box = df[['w_df', 'l_df']].copy()\n",
    "df_box.plot.box()"
   ]
  },
  {
   "cell_type": "code",
   "execution_count": 72,
   "id": "a1ce79d7",
   "metadata": {},
   "outputs": [],
   "source": [
    "L, R = detecting_outliers(df.w_df)\n",
    "df.loc[df['w_df'] >= 40, 'w_df'] = R\n",
    "L, R = detecting_outliers(df.l_df)\n",
    "df.loc[df['l_df'] >= 40, 'l_df'] = R"
   ]
  },
  {
   "cell_type": "code",
   "execution_count": 73,
   "id": "thirty-airport",
   "metadata": {},
   "outputs": [
    {
     "data": {
      "text/plain": [
       "<AxesSubplot:>"
      ]
     },
     "execution_count": 73,
     "metadata": {},
     "output_type": "execute_result"
    },
    {
     "data": {
      "image/png": "[encoded data removed]",
      "text/plain": [
       "<Figure size 432x288 with 1 Axes>"
      ]
     },
     "metadata": {
      "needs_background": "light"
     },
     "output_type": "display_data"
    }
   ],
   "source": [
    "df_box = df[['w_df', 'l_df']].copy()\n",
    "df_box.plot.box()"
   ]
  },
  {
   "cell_type": "markdown",
   "id": "824beb72",
   "metadata": {},
   "source": [
    "#### w_1stIn and l_1stIn\n",
    "Looking to trend of 1_stIn respect to svpt, some points are far away from the distribution, so 1_stIn outliers are changed with R value."
   ]
  },
  {
   "cell_type": "code",
   "execution_count": 74,
   "id": "e75d2564",
   "metadata": {},
   "outputs": [
    {
     "data": {
      "text/plain": [
       "Text(0, 0.5, 'l_1stIn')"
      ]
     },
     "execution_count": 74,
     "metadata": {},
     "output_type": "execute_result"
    },
    {
     "data": {
      "image/png": "[encoded data removed]",
      "text/plain": [
       "<Figure size 936x288 with 2 Axes>"
      ]
     },
     "metadata": {
      "needs_background": "light"
     },
     "output_type": "display_data"
    }
   ],
   "source": [
    "f, axs = plt.subplots(nrows = 1, ncols = 2, figsize=(13,4))\n",
    "axs[0].scatter(df['w_svpt'],df['w_1stIn'])\n",
    "axs[0].set_xlabel('w_svpt')\n",
    "axs[0].set_ylabel('w_1stIn')\n",
    "axs[1].scatter(df['l_svpt'],df['l_1stIn'])\n",
    "axs[1].set_xlabel('l_svpt')\n",
    "axs[1].set_ylabel('l_1stIn')"
   ]
  },
  {
   "cell_type": "code",
   "execution_count": 75,
   "id": "clean-launch",
   "metadata": {},
   "outputs": [],
   "source": [
    "L, R = detecting_outliers(df.w_1stIn)\n",
    "df.loc[df['w_1stIn'] > df['w_svpt'], 'w_1stIn'] = R\n",
    "L, R = detecting_outliers(df.l_1stIn)\n",
    "df.loc[df['l_1stIn'] > df['l_svpt'], 'l_1stIn'] = R"
   ]
  },
  {
   "cell_type": "code",
   "execution_count": 76,
   "id": "wooden-delaware",
   "metadata": {},
   "outputs": [
    {
     "data": {
      "text/plain": [
       "Text(0, 0.5, 'l_svpt')"
      ]
     },
     "execution_count": 76,
     "metadata": {},
     "output_type": "execute_result"
    },
    {
     "data": {
      "image/png": "[encoded data removed]",
      "text/plain": [
       "<Figure size 936x288 with 2 Axes>"
      ]
     },
     "metadata": {
      "needs_background": "light"
     },
     "output_type": "display_data"
    }
   ],
   "source": [
    "f, axs = plt.subplots(nrows = 1, ncols = 2, figsize=(13,4))\n",
    "axs[0].scatter(df['w_svpt'],df['w_1stIn'])\n",
    "axs[0].set_xlabel('w_svpt')\n",
    "axs[0].set_ylabel('w_1stIn')\n",
    "axs[1].scatter(df['l_1stIn'],df['l_svpt'])\n",
    "axs[1].set_xlabel('l_1stIn')\n",
    "axs[1].set_ylabel('l_svpt')"
   ]
  },
  {
   "cell_type": "markdown",
   "id": "e717cdac",
   "metadata": {},
   "source": [
    "#### w_1stWon l_1stWon \n",
    "Looking to trend of 1_stWon respect to 1_stIn, some points are far away from the distribution. Also values of 1_stWon must be less than the corresponding 1_stIn because it's impossible that the number of first serve points won is greater than first serve point made, so values of 1_stWon that are in contrast with it are changed with a propotion. This is made taking into account the total number of 1_stWon with respect to total number of 1_1stIn."
   ]
  },
  {
   "cell_type": "code",
   "execution_count": 77,
   "id": "beautiful-standing",
   "metadata": {},
   "outputs": [
    {
     "data": {
      "text/plain": [
       "<AxesSubplot:>"
      ]
     },
     "execution_count": 77,
     "metadata": {},
     "output_type": "execute_result"
    },
    {
     "data": {
      "image/png": "[encoded data removed]",
      "text/plain": [
       "<Figure size 432x288 with 1 Axes>"
      ]
     },
     "metadata": {
      "needs_background": "light"
     },
     "output_type": "display_data"
    }
   ],
   "source": [
    "df_box = df[['w_1stWon', 'l_1stWon']].copy()\n",
    "df_box.plot.box()"
   ]
  },
  {
   "cell_type": "code",
   "execution_count": 78,
   "id": "magnetic-insert",
   "metadata": {},
   "outputs": [
    {
     "data": {
      "text/plain": [
       "Text(0, 0.5, 'l_1stWon')"
      ]
     },
     "execution_count": 78,
     "metadata": {},
     "output_type": "execute_result"
    },
    {
     "data": {
      "image/png": "[encoded data removed]",
      "text/plain": [
       "<Figure size 936x288 with 2 Axes>"
      ]
     },
     "metadata": {
      "needs_background": "light"
     },
     "output_type": "display_data"
    }
   ],
   "source": [
    "f, axs = plt.subplots(nrows = 1, ncols = 2, figsize=(13,4))\n",
    "axs[0].scatter(df['w_1stIn'],df['w_1stWon'])\n",
    "axs[0].set_xlabel('w_1stIn')\n",
    "axs[0].set_ylabel('w_1stWon')\n",
    "axs[1].scatter(df['l_1stIn'],df['l_1stWon'])\n",
    "axs[1].set_xlabel('l_1stIn')\n",
    "axs[1].set_ylabel('l_1stWon')"
   ]
  },
  {
   "cell_type": "code",
   "execution_count": 79,
   "id": "spanish-climate",
   "metadata": {},
   "outputs": [],
   "source": [
    "L, R = detecting_outliers(df.w_1stWon)\n",
    "df.loc[df['w_1stWon'] > df['w_1stIn'], 'w_1stWon'] = R\n",
    "L, R = detecting_outliers(df.w_1stWon)\n",
    "df.loc[df['l_1stWon'] > df['l_1stIn'], 'l_1stWon'] = R"
   ]
  },
  {
   "cell_type": "code",
   "execution_count": 80,
   "id": "hollywood-serial",
   "metadata": {},
   "outputs": [
    {
     "data": {
      "text/plain": [
       "Text(0, 0.5, 'l_1stWon')"
      ]
     },
     "execution_count": 80,
     "metadata": {},
     "output_type": "execute_result"
    },
    {
     "data": {
      "image/png": "[encoded data removed]",
      "text/plain": [
       "<Figure size 936x288 with 2 Axes>"
      ]
     },
     "metadata": {
      "needs_background": "light"
     },
     "output_type": "display_data"
    }
   ],
   "source": [
    "f, axs = plt.subplots(nrows = 1, ncols = 2, figsize=(13,4))\n",
    "axs[0].scatter(df['w_1stIn'],df['w_1stWon'])\n",
    "axs[0].set_xlabel('w_1stIn')\n",
    "axs[0].set_ylabel('w_1stWon')\n",
    "axs[1].scatter(df['l_1stIn'],df['l_1stWon'])\n",
    "axs[1].set_xlabel('l_1stIn')\n",
    "axs[1].set_ylabel('l_1stWon')"
   ]
  },
  {
   "cell_type": "code",
   "execution_count": 81,
   "id": "union-animation",
   "metadata": {},
   "outputs": [],
   "source": [
    "rap_sum = (df['w_1stWon'].sum()) / (df['w_1stIn'].sum())\n",
    "#w_1_stwon : w_1_stIn = w_1stWon_tot : w_1stIn_tot\n",
    "df.loc[df['w_1stWon'] > df['w_1stIn'], 'w_1stWon'] = rap_sum*df.loc[df['w_1stWon'] > df['w_1stIn'],'w_1stIn']\n",
    "\n",
    "rap_sum = (df['l_1stWon'].sum()) / (df['l_1stIn'].sum())\n",
    "df.loc[df['l_1stWon'] > df['l_1stIn'], 'l_1stWon'] = rap_sum*df.loc[df['l_1stWon'] > df['l_1stIn'],'l_1stIn']"
   ]
  },
  {
   "cell_type": "code",
   "execution_count": 82,
   "id": "fluid-disclaimer",
   "metadata": {},
   "outputs": [
    {
     "data": {
      "text/plain": [
       "Text(0, 0.5, 'l_1stWon')"
      ]
     },
     "execution_count": 82,
     "metadata": {},
     "output_type": "execute_result"
    },
    {
     "data": {
      "image/png": "[encoded data removed]",
      "text/plain": [
       "<Figure size 936x288 with 2 Axes>"
      ]
     },
     "metadata": {
      "needs_background": "light"
     },
     "output_type": "display_data"
    }
   ],
   "source": [
    "f, axs = plt.subplots(nrows = 1, ncols = 2, figsize=(13,4))\n",
    "axs[0].scatter(df['w_1stIn'],df['w_1stWon'])\n",
    "axs[0].set_xlabel('w_1stIn')\n",
    "axs[0].set_ylabel('w_1stWon')\n",
    "axs[1].scatter(df['l_1stIn'],df['l_1stWon'])\n",
    "axs[1].set_xlabel('l_1stIn')\n",
    "axs[1].set_ylabel('l_1stWon')"
   ]
  },
  {
   "cell_type": "markdown",
   "id": "false-european",
   "metadata": {},
   "source": [
    "#### w_2stWon l_2stWon  \n",
    "The same analysis of 1_st1stWon is done."
   ]
  },
  {
   "cell_type": "code",
   "execution_count": 83,
   "id": "informed-school",
   "metadata": {},
   "outputs": [
    {
     "data": {
      "text/plain": [
       "Text(0, 0.5, 'l_2ndWon')"
      ]
     },
     "execution_count": 83,
     "metadata": {},
     "output_type": "execute_result"
    },
    {
     "data": {
      "image/png": "[encoded data removed]",
      "text/plain": [
       "<Figure size 936x288 with 2 Axes>"
      ]
     },
     "metadata": {
      "needs_background": "light"
     },
     "output_type": "display_data"
    }
   ],
   "source": [
    "f, axs = plt.subplots(nrows = 1, ncols = 2, figsize=(13,4))\n",
    "axs[0].scatter(df['w_1stIn'],df['w_2ndWon'])\n",
    "axs[0].set_xlabel('w_1stIn')\n",
    "axs[0].set_ylabel('w_2ndWon')\n",
    "axs[1].scatter(df['l_1stIn'],df['l_2ndWon'])\n",
    "axs[1].set_xlabel('l_1stIn')\n",
    "axs[1].set_ylabel('l_2ndWon')"
   ]
  },
  {
   "cell_type": "code",
   "execution_count": 84,
   "id": "korean-budget",
   "metadata": {},
   "outputs": [],
   "source": [
    "L, R = detecting_outliers(df.w_2ndWon)\n",
    "df.loc[df['w_2ndWon'] > df['w_1stIn'], 'w_2ndWon'] = R\n",
    "L, R = detecting_outliers(df.w_2ndWon)\n",
    "df.loc[df['l_2ndWon'] > df['l_1stIn'], 'l_2ndWon'] = R"
   ]
  },
  {
   "cell_type": "code",
   "execution_count": 85,
   "id": "regulation-demographic",
   "metadata": {},
   "outputs": [
    {
     "data": {
      "text/plain": [
       "Text(0, 0.5, 'l_2ndWon')"
      ]
     },
     "execution_count": 85,
     "metadata": {},
     "output_type": "execute_result"
    },
    {
     "data": {
      "image/png": "[encoded data removed]",
      "text/plain": [
       "<Figure size 936x288 with 2 Axes>"
      ]
     },
     "metadata": {
      "needs_background": "light"
     },
     "output_type": "display_data"
    }
   ],
   "source": [
    "f, axs = plt.subplots(nrows = 1, ncols = 2, figsize=(13,4))\n",
    "axs[0].scatter(df['w_1stIn'],df['w_2ndWon'])\n",
    "axs[0].set_xlabel('w_1stIn')\n",
    "axs[0].set_ylabel('w_2ndWon')\n",
    "axs[1].scatter(df['l_1stIn'],df['l_2ndWon'])\n",
    "axs[1].set_xlabel('l_1stIn')\n",
    "axs[1].set_ylabel('l_2ndWon')"
   ]
  },
  {
   "cell_type": "code",
   "execution_count": 86,
   "id": "brave-cause",
   "metadata": {},
   "outputs": [],
   "source": [
    "rap_sum = (df['w_2ndWon'].sum()) / (df['w_1stIn'].sum())\n",
    "#w_2ndWon : w_1_stIn = w_2ndWon_tot : w_1stIn_tot\n",
    "df.loc[df['w_2ndWon'] > df['w_1stIn'], 'w_2ndWon'] = rap_sum*df.loc[df['w_2ndWon'] > df['w_1stIn'],'w_1stIn']\n",
    "\n",
    "rap_sum = (df['l_2ndWon'].sum()) / (df['l_1stIn'].sum())\n",
    "df.loc[df['l_2ndWon'] > df['l_1stIn'], 'l_2ndWon'] = rap_sum*df.loc[df['l_2ndWon'] > df['l_1stIn'],'l_1stIn']"
   ]
  },
  {
   "cell_type": "code",
   "execution_count": 87,
   "id": "hollow-reliance",
   "metadata": {},
   "outputs": [
    {
     "data": {
      "text/plain": [
       "Text(0, 0.5, 'l_2ndWon')"
      ]
     },
     "execution_count": 87,
     "metadata": {},
     "output_type": "execute_result"
    },
    {
     "data": {
      "image/png": "[encoded data removed]",
      "text/plain": [
       "<Figure size 936x288 with 2 Axes>"
      ]
     },
     "metadata": {
      "needs_background": "light"
     },
     "output_type": "display_data"
    }
   ],
   "source": [
    "f, axs = plt.subplots(nrows = 1, ncols = 2, figsize=(13,4))\n",
    "axs[0].scatter(df['w_1stIn'],df['w_2ndWon'])\n",
    "axs[0].set_xlabel('w_1stIn')\n",
    "axs[0].set_ylabel('w_2ndWon')\n",
    "axs[1].scatter(df['l_1stIn'],df['l_2ndWon'])\n",
    "axs[1].set_xlabel('l_1stIn')\n",
    "axs[1].set_ylabel('l_2ndWon')"
   ]
  },
  {
   "cell_type": "code",
   "execution_count": 88,
   "id": "returning-model",
   "metadata": {},
   "outputs": [
    {
     "data": {
      "text/plain": [
       "<AxesSubplot:>"
      ]
     },
     "execution_count": 88,
     "metadata": {},
     "output_type": "execute_result"
    },
    {
     "data": {
      "image/png": "[encoded data removed]",
      "text/plain": [
       "<Figure size 432x288 with 1 Axes>"
      ]
     },
     "metadata": {
      "needs_background": "light"
     },
     "output_type": "display_data"
    }
   ],
   "source": [
    "df_box = df[['w_2ndWon', 'l_2ndWon']].copy()\n",
    "df_box.plot.box()"
   ]
  },
  {
   "cell_type": "markdown",
   "id": "876b6c5a",
   "metadata": {},
   "source": [
    "#### w_bpSaved w_bpFaced and l_bpSaved l_bpFaced\n",
    "Firstly substitute value points that are far away from the distribution observed in box plot. After, since breakpoints saved and faced are strongly correlated, a linear trend is expected. Points that doesn't follow this trend are considered outliers."
   ]
  },
  {
   "cell_type": "code",
   "execution_count": 89,
   "id": "signal-square",
   "metadata": {},
   "outputs": [
    {
     "data": {
      "text/plain": [
       "<AxesSubplot:>"
      ]
     },
     "execution_count": 89,
     "metadata": {},
     "output_type": "execute_result"
    },
    {
     "data": {
      "image/png": "[encoded data removed]",
      "text/plain": [
       "<Figure size 432x288 with 1 Axes>"
      ]
     },
     "metadata": {
      "needs_background": "light"
     },
     "output_type": "display_data"
    }
   ],
   "source": [
    "df_box = df[['w_bpSaved', 'w_bpFaced','l_bpSaved', 'l_bpFaced']].copy()\n",
    "df_box.plot.box()"
   ]
  },
  {
   "cell_type": "code",
   "execution_count": 90,
   "id": "russian-carpet",
   "metadata": {},
   "outputs": [
    {
     "data": {
      "text/plain": [
       "Text(0, 0.5, 'l_bpFaced')"
      ]
     },
     "execution_count": 90,
     "metadata": {},
     "output_type": "execute_result"
    },
    {
     "data": {
      "image/png": "[encoded data removed]",
      "text/plain": [
       "<Figure size 936x288 with 2 Axes>"
      ]
     },
     "metadata": {
      "needs_background": "light"
     },
     "output_type": "display_data"
    }
   ],
   "source": [
    "f, axs = plt.subplots(nrows = 1, ncols = 2, figsize=(13,4))\n",
    "axs[0].scatter(df['w_bpSaved'],df['w_bpFaced'])\n",
    "axs[0].set_xlabel('w_bpSaved')\n",
    "axs[0].set_ylabel('w_bpFaced')\n",
    "axs[1].scatter(df['l_bpSaved'],df['l_bpFaced'])\n",
    "axs[1].set_xlabel('l_bpSaved')\n",
    "axs[1].set_ylabel('l_bpFaced')"
   ]
  },
  {
   "cell_type": "code",
   "execution_count": 91,
   "id": "novel-saudi",
   "metadata": {},
   "outputs": [],
   "source": [
    "L, R = detecting_outliers(df.w_bpSaved)\n",
    "df.loc[df['w_bpSaved'] > 30, 'w_bpSaved'] = R\n",
    "L, R = detecting_outliers(df.w_bpFaced)\n",
    "df.loc[df['w_bpFaced'] > 30, 'w_bpFaced'] = R\n",
    "L, R = detecting_outliers(df.l_bpSaved)\n",
    "df.loc[df['l_bpSaved'] > 30, 'l_bpSaved'] = R\n",
    "L, R = detecting_outliers(df.l_bpFaced)\n",
    "df.loc[df['l_bpFaced'] > 30, 'l_bpFaced'] = R\n",
    "df.loc[df['l_bpFaced'] < L, 'l_bpFaced'] = L"
   ]
  },
  {
   "cell_type": "code",
   "execution_count": 92,
   "id": "diagnostic-burke",
   "metadata": {},
   "outputs": [
    {
     "data": {
      "text/plain": [
       "Text(0, 0.5, 'l_bpFaced')"
      ]
     },
     "execution_count": 92,
     "metadata": {},
     "output_type": "execute_result"
    },
    {
     "data": {
      "image/png": "[encoded data removed]",
      "text/plain": [
       "<Figure size 936x288 with 2 Axes>"
      ]
     },
     "metadata": {
      "needs_background": "light"
     },
     "output_type": "display_data"
    }
   ],
   "source": [
    "f, axs = plt.subplots(nrows = 1, ncols = 2, figsize=(13,4))\n",
    "axs[0].scatter(df['w_bpSaved'],df['w_bpFaced'])\n",
    "axs[0].set_xlabel('w_bpSaved')\n",
    "axs[0].set_ylabel('w_bpFaced')\n",
    "\n",
    "axs[1].scatter(df['l_bpSaved'],df['l_bpFaced'])\n",
    "axs[1].set_xlabel('l_bpSaved')\n",
    "axs[1].set_ylabel('l_bpFaced')"
   ]
  },
  {
   "cell_type": "code",
   "execution_count": 93,
   "id": "naughty-thanksgiving",
   "metadata": {},
   "outputs": [
    {
     "data": {
      "text/plain": [
       "<AxesSubplot:>"
      ]
     },
     "execution_count": 93,
     "metadata": {},
     "output_type": "execute_result"
    },
    {
     "data": {
      "image/png": "[encoded data removed]",
      "text/plain": [
       "<Figure size 432x288 with 1 Axes>"
      ]
     },
     "metadata": {
      "needs_background": "light"
     },
     "output_type": "display_data"
    }
   ],
   "source": [
    "df_box = df[['w_bpSaved', 'w_bpFaced','l_bpSaved', 'l_bpFaced']].copy()\n",
    "df_box.plot.box()"
   ]
  },
  {
   "cell_type": "markdown",
   "id": "508ecb0a",
   "metadata": {},
   "source": [
    "# Write on CSV"
   ]
  },
  {
   "cell_type": "code",
   "execution_count": 94,
   "id": "9fa52431",
   "metadata": {},
   "outputs": [],
   "source": [
    "df.to_csv('dataset/matches_datacleaning.csv')"
   ]
  },
  {
   "cell_type": "code",
   "execution_count": null,
   "id": "inside-chester",
   "metadata": {},
   "outputs": [],
   "source": []
  }
 ],
 "metadata": {
  "celltoolbar": "Raw Cell Format",
  "interpreter": {
   "hash": "31f2aee4e71d21fbe5cf8b01ff0e069b9275f58929596ceb00d14d90e3e16cd6"
  },
  "kernelspec": {
   "display_name": "Python 3 (ipykernel)",
   "language": "python",
   "name": "python3"
  },
  "language_info": {
   "codemirror_mode": {
    "name": "ipython",
    "version": 3
   },
   "file_extension": ".py",
   "mimetype": "text/x-python",
   "name": "python",
   "nbconvert_exporter": "python",
   "pygments_lexer": "ipython3",
   "version": "3.9.9"
  },
  "toc-autonumbering": false,
  "toc-showcode": false,
  "toc-showmarkdowntxt": false
 },
 "nbformat": 4,
 "nbformat_minor": 5
}
